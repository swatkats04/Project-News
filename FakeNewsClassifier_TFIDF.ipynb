{
  "nbformat": 4,
  "nbformat_minor": 0,
  "metadata": {
    "kernelspec": {
      "display_name": "Python 3",
      "language": "python",
      "name": "python3"
    },
    "language_info": {
      "codemirror_mode": {
        "name": "ipython",
        "version": 3
      },
      "file_extension": ".py",
      "mimetype": "text/x-python",
      "name": "python",
      "nbconvert_exporter": "python",
      "pygments_lexer": "ipython3",
      "version": "3.8.3"
    },
    "colab": {
      "name": "FakeNewsClassifier TFIDF.ipynb",
      "provenance": [],
      "collapsed_sections": [],
      "include_colab_link": true
    },
    "accelerator": "GPU"
  },
  "cells": [
    {
      "cell_type": "markdown",
      "metadata": {
        "id": "view-in-github",
        "colab_type": "text"
      },
      "source": [
        "<a href=\"https://colab.research.google.com/github/swatkats04/Project-News/blob/main/FakeNewsClassifier_TFIDF.ipynb\" target=\"_parent\"><img src=\"https://colab.research.google.com/assets/colab-badge.svg\" alt=\"Open In Colab\"/></a>"
      ]
    },
    {
      "cell_type": "markdown",
      "metadata": {
        "id": "8sJKdx2PBM7x"
      },
      "source": [
        "### **Fake News Classifier**\n",
        "Dataset:  https://www.kaggle.com/c/fake-news/data#"
      ]
    },
    {
      "cell_type": "code",
      "metadata": {
        "id": "_6DwrtdpBM8B"
      },
      "source": [
        "#Importing the pandas library for data manipulation\n",
        "import pandas as pd"
      ],
      "execution_count": null,
      "outputs": []
    },
    {
      "cell_type": "code",
      "metadata": {
        "colab": {
          "base_uri": "https://localhost:8080/"
        },
        "id": "a0Bc2XArBT6p",
        "outputId": "daffe31d-aa2d-4f0d-b13c-3237b6189a02"
      },
      "source": [
        "#Mounting the Goodgle Drive to access the drive contents\n",
        "from google.colab import drive\n",
        "drive.mount('/content/gdrive')"
      ],
      "execution_count": null,
      "outputs": [
        {
          "output_type": "stream",
          "text": [
            "Drive already mounted at /content/gdrive; to attempt to forcibly remount, call drive.mount(\"/content/gdrive\", force_remount=True).\n"
          ],
          "name": "stdout"
        }
      ]
    },
    {
      "cell_type": "code",
      "metadata": {
        "id": "5RXxiF2vBM8D"
      },
      "source": [
        "#Reading the dataset\n",
        "df=pd.read_csv(r'/content/gdrive/MyDrive/Fake News Detection/train.csv')"
      ],
      "execution_count": null,
      "outputs": []
    },
    {
      "cell_type": "code",
      "metadata": {
        "colab": {
          "base_uri": "https://localhost:8080/",
          "height": 272
        },
        "id": "WaPsu_jJBM8E",
        "outputId": "30253992-6c50-4459-cfe6-38b4a530a7a4"
      },
      "source": [
        "#viewing the first few records of the dataset, to see how the data looks like.\n",
        "df.head()"
      ],
      "execution_count": null,
      "outputs": [
        {
          "output_type": "execute_result",
          "data": {
            "text/html": [
              "<div>\n",
              "<style scoped>\n",
              "    .dataframe tbody tr th:only-of-type {\n",
              "        vertical-align: middle;\n",
              "    }\n",
              "\n",
              "    .dataframe tbody tr th {\n",
              "        vertical-align: top;\n",
              "    }\n",
              "\n",
              "    .dataframe thead th {\n",
              "        text-align: right;\n",
              "    }\n",
              "</style>\n",
              "<table border=\"1\" class=\"dataframe\">\n",
              "  <thead>\n",
              "    <tr style=\"text-align: right;\">\n",
              "      <th></th>\n",
              "      <th>id</th>\n",
              "      <th>title</th>\n",
              "      <th>author</th>\n",
              "      <th>text</th>\n",
              "      <th>label</th>\n",
              "    </tr>\n",
              "  </thead>\n",
              "  <tbody>\n",
              "    <tr>\n",
              "      <th>0</th>\n",
              "      <td>0</td>\n",
              "      <td>House Dem Aide: We Didn’t Even See Comey’s Let...</td>\n",
              "      <td>Darrell Lucus</td>\n",
              "      <td>House Dem Aide: We Didn’t Even See Comey’s Let...</td>\n",
              "      <td>1</td>\n",
              "    </tr>\n",
              "    <tr>\n",
              "      <th>1</th>\n",
              "      <td>1</td>\n",
              "      <td>FLYNN: Hillary Clinton, Big Woman on Campus - ...</td>\n",
              "      <td>Daniel J. Flynn</td>\n",
              "      <td>Ever get the feeling your life circles the rou...</td>\n",
              "      <td>0</td>\n",
              "    </tr>\n",
              "    <tr>\n",
              "      <th>2</th>\n",
              "      <td>2</td>\n",
              "      <td>Why the Truth Might Get You Fired</td>\n",
              "      <td>Consortiumnews.com</td>\n",
              "      <td>Why the Truth Might Get You Fired October 29, ...</td>\n",
              "      <td>1</td>\n",
              "    </tr>\n",
              "    <tr>\n",
              "      <th>3</th>\n",
              "      <td>3</td>\n",
              "      <td>15 Civilians Killed In Single US Airstrike Hav...</td>\n",
              "      <td>Jessica Purkiss</td>\n",
              "      <td>Videos 15 Civilians Killed In Single US Airstr...</td>\n",
              "      <td>1</td>\n",
              "    </tr>\n",
              "    <tr>\n",
              "      <th>4</th>\n",
              "      <td>4</td>\n",
              "      <td>Iranian woman jailed for fictional unpublished...</td>\n",
              "      <td>Howard Portnoy</td>\n",
              "      <td>Print \\nAn Iranian woman has been sentenced to...</td>\n",
              "      <td>1</td>\n",
              "    </tr>\n",
              "  </tbody>\n",
              "</table>\n",
              "</div>"
            ],
            "text/plain": [
              "   id  ... label\n",
              "0   0  ...     1\n",
              "1   1  ...     0\n",
              "2   2  ...     1\n",
              "3   3  ...     1\n",
              "4   4  ...     1\n",
              "\n",
              "[5 rows x 5 columns]"
            ]
          },
          "metadata": {
            "tags": []
          },
          "execution_count": 11
        }
      ]
    },
    {
      "cell_type": "code",
      "metadata": {
        "id": "w2r4zoS2BM8G"
      },
      "source": [
        "## Get the Independent Features\n",
        "\n",
        "X=df.drop('label',axis=1)"
      ],
      "execution_count": null,
      "outputs": []
    },
    {
      "cell_type": "code",
      "metadata": {
        "colab": {
          "base_uri": "https://localhost:8080/",
          "height": 204
        },
        "id": "xNEwlx9sBM8H",
        "outputId": "ac617b60-f19d-4a81-afcb-e7dd6e58ee8a"
      },
      "source": [
        "#Viewing the fisrt few records of the dataset\n",
        "X.head()"
      ],
      "execution_count": null,
      "outputs": [
        {
          "output_type": "execute_result",
          "data": {
            "text/html": [
              "<div>\n",
              "<style scoped>\n",
              "    .dataframe tbody tr th:only-of-type {\n",
              "        vertical-align: middle;\n",
              "    }\n",
              "\n",
              "    .dataframe tbody tr th {\n",
              "        vertical-align: top;\n",
              "    }\n",
              "\n",
              "    .dataframe thead th {\n",
              "        text-align: right;\n",
              "    }\n",
              "</style>\n",
              "<table border=\"1\" class=\"dataframe\">\n",
              "  <thead>\n",
              "    <tr style=\"text-align: right;\">\n",
              "      <th></th>\n",
              "      <th>id</th>\n",
              "      <th>title</th>\n",
              "      <th>author</th>\n",
              "      <th>text</th>\n",
              "    </tr>\n",
              "  </thead>\n",
              "  <tbody>\n",
              "    <tr>\n",
              "      <th>0</th>\n",
              "      <td>0</td>\n",
              "      <td>House Dem Aide: We Didn’t Even See Comey’s Let...</td>\n",
              "      <td>Darrell Lucus</td>\n",
              "      <td>House Dem Aide: We Didn’t Even See Comey’s Let...</td>\n",
              "    </tr>\n",
              "    <tr>\n",
              "      <th>1</th>\n",
              "      <td>1</td>\n",
              "      <td>FLYNN: Hillary Clinton, Big Woman on Campus - ...</td>\n",
              "      <td>Daniel J. Flynn</td>\n",
              "      <td>Ever get the feeling your life circles the rou...</td>\n",
              "    </tr>\n",
              "    <tr>\n",
              "      <th>2</th>\n",
              "      <td>2</td>\n",
              "      <td>Why the Truth Might Get You Fired</td>\n",
              "      <td>Consortiumnews.com</td>\n",
              "      <td>Why the Truth Might Get You Fired October 29, ...</td>\n",
              "    </tr>\n",
              "    <tr>\n",
              "      <th>3</th>\n",
              "      <td>3</td>\n",
              "      <td>15 Civilians Killed In Single US Airstrike Hav...</td>\n",
              "      <td>Jessica Purkiss</td>\n",
              "      <td>Videos 15 Civilians Killed In Single US Airstr...</td>\n",
              "    </tr>\n",
              "    <tr>\n",
              "      <th>4</th>\n",
              "      <td>4</td>\n",
              "      <td>Iranian woman jailed for fictional unpublished...</td>\n",
              "      <td>Howard Portnoy</td>\n",
              "      <td>Print \\nAn Iranian woman has been sentenced to...</td>\n",
              "    </tr>\n",
              "  </tbody>\n",
              "</table>\n",
              "</div>"
            ],
            "text/plain": [
              "   id  ...                                               text\n",
              "0   0  ...  House Dem Aide: We Didn’t Even See Comey’s Let...\n",
              "1   1  ...  Ever get the feeling your life circles the rou...\n",
              "2   2  ...  Why the Truth Might Get You Fired October 29, ...\n",
              "3   3  ...  Videos 15 Civilians Killed In Single US Airstr...\n",
              "4   4  ...  Print \\nAn Iranian woman has been sentenced to...\n",
              "\n",
              "[5 rows x 4 columns]"
            ]
          },
          "metadata": {
            "tags": []
          },
          "execution_count": 13
        }
      ]
    },
    {
      "cell_type": "code",
      "metadata": {
        "id": "y68Z8NGBBM8H"
      },
      "source": [
        "## Get the Dependent features\n",
        "y=df['label']"
      ],
      "execution_count": null,
      "outputs": []
    },
    {
      "cell_type": "code",
      "metadata": {
        "colab": {
          "base_uri": "https://localhost:8080/"
        },
        "id": "FKzQiFM3BM8I",
        "outputId": "696ddce1-d12b-4e01-91dd-66ea5c4379fd"
      },
      "source": [
        "#Viewing the how the records of the 'label' feature \n",
        "y.head()"
      ],
      "execution_count": null,
      "outputs": [
        {
          "output_type": "execute_result",
          "data": {
            "text/plain": [
              "0    1\n",
              "1    0\n",
              "2    1\n",
              "3    1\n",
              "4    1\n",
              "Name: label, dtype: int64"
            ]
          },
          "metadata": {
            "tags": []
          },
          "execution_count": 15
        }
      ]
    },
    {
      "cell_type": "code",
      "metadata": {
        "colab": {
          "base_uri": "https://localhost:8080/"
        },
        "id": "7TzBBJuxBM8I",
        "outputId": "d33a00b6-785e-4f1c-e2e9-c5fb6b14a9c1"
      },
      "source": [
        "#The total records and columns of the dataset\n",
        "df.shape"
      ],
      "execution_count": null,
      "outputs": [
        {
          "output_type": "execute_result",
          "data": {
            "text/plain": [
              "(20800, 5)"
            ]
          },
          "metadata": {
            "tags": []
          },
          "execution_count": 16
        }
      ]
    },
    {
      "cell_type": "code",
      "metadata": {
        "id": "dlVAJOGCBM8N"
      },
      "source": [
        "#Importing the CountVectorizer, TfidfVectorizer, HashingVectorizer for vectorization of the data\n",
        "from sklearn.feature_extraction.text import CountVectorizer, TfidfVectorizer, HashingVectorizer"
      ],
      "execution_count": null,
      "outputs": []
    },
    {
      "cell_type": "code",
      "metadata": {
        "id": "xPf-onnGBM8O"
      },
      "source": [
        "#Dropping the NaN values \n",
        "df=df.dropna()"
      ],
      "execution_count": null,
      "outputs": []
    },
    {
      "cell_type": "code",
      "metadata": {
        "colab": {
          "base_uri": "https://localhost:8080/",
          "height": 529
        },
        "id": "LRRITeh4BM8P",
        "outputId": "6f049386-d8c8-4e55-b513-a501234e5e46"
      },
      "source": [
        "df.head(10)"
      ],
      "execution_count": null,
      "outputs": [
        {
          "output_type": "execute_result",
          "data": {
            "text/html": [
              "<div>\n",
              "<style scoped>\n",
              "    .dataframe tbody tr th:only-of-type {\n",
              "        vertical-align: middle;\n",
              "    }\n",
              "\n",
              "    .dataframe tbody tr th {\n",
              "        vertical-align: top;\n",
              "    }\n",
              "\n",
              "    .dataframe thead th {\n",
              "        text-align: right;\n",
              "    }\n",
              "</style>\n",
              "<table border=\"1\" class=\"dataframe\">\n",
              "  <thead>\n",
              "    <tr style=\"text-align: right;\">\n",
              "      <th></th>\n",
              "      <th>id</th>\n",
              "      <th>title</th>\n",
              "      <th>author</th>\n",
              "      <th>text</th>\n",
              "      <th>label</th>\n",
              "    </tr>\n",
              "  </thead>\n",
              "  <tbody>\n",
              "    <tr>\n",
              "      <th>0</th>\n",
              "      <td>0</td>\n",
              "      <td>House Dem Aide: We Didn’t Even See Comey’s Let...</td>\n",
              "      <td>Darrell Lucus</td>\n",
              "      <td>House Dem Aide: We Didn’t Even See Comey’s Let...</td>\n",
              "      <td>1</td>\n",
              "    </tr>\n",
              "    <tr>\n",
              "      <th>1</th>\n",
              "      <td>1</td>\n",
              "      <td>FLYNN: Hillary Clinton, Big Woman on Campus - ...</td>\n",
              "      <td>Daniel J. Flynn</td>\n",
              "      <td>Ever get the feeling your life circles the rou...</td>\n",
              "      <td>0</td>\n",
              "    </tr>\n",
              "    <tr>\n",
              "      <th>2</th>\n",
              "      <td>2</td>\n",
              "      <td>Why the Truth Might Get You Fired</td>\n",
              "      <td>Consortiumnews.com</td>\n",
              "      <td>Why the Truth Might Get You Fired October 29, ...</td>\n",
              "      <td>1</td>\n",
              "    </tr>\n",
              "    <tr>\n",
              "      <th>3</th>\n",
              "      <td>3</td>\n",
              "      <td>15 Civilians Killed In Single US Airstrike Hav...</td>\n",
              "      <td>Jessica Purkiss</td>\n",
              "      <td>Videos 15 Civilians Killed In Single US Airstr...</td>\n",
              "      <td>1</td>\n",
              "    </tr>\n",
              "    <tr>\n",
              "      <th>4</th>\n",
              "      <td>4</td>\n",
              "      <td>Iranian woman jailed for fictional unpublished...</td>\n",
              "      <td>Howard Portnoy</td>\n",
              "      <td>Print \\nAn Iranian woman has been sentenced to...</td>\n",
              "      <td>1</td>\n",
              "    </tr>\n",
              "    <tr>\n",
              "      <th>5</th>\n",
              "      <td>5</td>\n",
              "      <td>Jackie Mason: Hollywood Would Love Trump if He...</td>\n",
              "      <td>Daniel Nussbaum</td>\n",
              "      <td>In these trying times, Jackie Mason is the Voi...</td>\n",
              "      <td>0</td>\n",
              "    </tr>\n",
              "    <tr>\n",
              "      <th>7</th>\n",
              "      <td>7</td>\n",
              "      <td>Benoît Hamon Wins French Socialist Party’s Pre...</td>\n",
              "      <td>Alissa J. Rubin</td>\n",
              "      <td>PARIS  —   France chose an idealistic, traditi...</td>\n",
              "      <td>0</td>\n",
              "    </tr>\n",
              "    <tr>\n",
              "      <th>9</th>\n",
              "      <td>9</td>\n",
              "      <td>A Back-Channel Plan for Ukraine and Russia, Co...</td>\n",
              "      <td>Megan Twohey and Scott Shane</td>\n",
              "      <td>A week before Michael T. Flynn resigned as nat...</td>\n",
              "      <td>0</td>\n",
              "    </tr>\n",
              "    <tr>\n",
              "      <th>10</th>\n",
              "      <td>10</td>\n",
              "      <td>Obama’s Organizing for Action Partners with So...</td>\n",
              "      <td>Aaron Klein</td>\n",
              "      <td>Organizing for Action, the activist group that...</td>\n",
              "      <td>0</td>\n",
              "    </tr>\n",
              "    <tr>\n",
              "      <th>11</th>\n",
              "      <td>11</td>\n",
              "      <td>BBC Comedy Sketch \"Real Housewives of ISIS\" Ca...</td>\n",
              "      <td>Chris Tomlinson</td>\n",
              "      <td>The BBC produced spoof on the “Real Housewives...</td>\n",
              "      <td>0</td>\n",
              "    </tr>\n",
              "  </tbody>\n",
              "</table>\n",
              "</div>"
            ],
            "text/plain": [
              "    id  ... label\n",
              "0    0  ...     1\n",
              "1    1  ...     0\n",
              "2    2  ...     1\n",
              "3    3  ...     1\n",
              "4    4  ...     1\n",
              "5    5  ...     0\n",
              "7    7  ...     0\n",
              "9    9  ...     0\n",
              "10  10  ...     0\n",
              "11  11  ...     0\n",
              "\n",
              "[10 rows x 5 columns]"
            ]
          },
          "metadata": {
            "tags": []
          },
          "execution_count": 19
        }
      ]
    },
    {
      "cell_type": "code",
      "metadata": {
        "id": "Uw-oaW9gBM8P"
      },
      "source": [
        "#Making a copy of the data and storing it in a variable\n",
        "messages=df.copy()"
      ],
      "execution_count": null,
      "outputs": []
    },
    {
      "cell_type": "code",
      "metadata": {
        "id": "vKgsfNeXBM8Q"
      },
      "source": [
        "#Resetting the index after dropping the NaN values, so its easier to iterate\n",
        "messages.reset_index(inplace=True)"
      ],
      "execution_count": null,
      "outputs": []
    },
    {
      "cell_type": "code",
      "metadata": {
        "colab": {
          "base_uri": "https://localhost:8080/",
          "height": 529
        },
        "id": "4yd4wVgsBM8R",
        "outputId": "03acca71-6d4a-4131-acf1-4d38576c8e8c"
      },
      "source": [
        "#Viewing the data after resetting the index\n",
        "messages.head(10)"
      ],
      "execution_count": null,
      "outputs": [
        {
          "output_type": "execute_result",
          "data": {
            "text/html": [
              "<div>\n",
              "<style scoped>\n",
              "    .dataframe tbody tr th:only-of-type {\n",
              "        vertical-align: middle;\n",
              "    }\n",
              "\n",
              "    .dataframe tbody tr th {\n",
              "        vertical-align: top;\n",
              "    }\n",
              "\n",
              "    .dataframe thead th {\n",
              "        text-align: right;\n",
              "    }\n",
              "</style>\n",
              "<table border=\"1\" class=\"dataframe\">\n",
              "  <thead>\n",
              "    <tr style=\"text-align: right;\">\n",
              "      <th></th>\n",
              "      <th>index</th>\n",
              "      <th>id</th>\n",
              "      <th>title</th>\n",
              "      <th>author</th>\n",
              "      <th>text</th>\n",
              "      <th>label</th>\n",
              "    </tr>\n",
              "  </thead>\n",
              "  <tbody>\n",
              "    <tr>\n",
              "      <th>0</th>\n",
              "      <td>0</td>\n",
              "      <td>0</td>\n",
              "      <td>House Dem Aide: We Didn’t Even See Comey’s Let...</td>\n",
              "      <td>Darrell Lucus</td>\n",
              "      <td>House Dem Aide: We Didn’t Even See Comey’s Let...</td>\n",
              "      <td>1</td>\n",
              "    </tr>\n",
              "    <tr>\n",
              "      <th>1</th>\n",
              "      <td>1</td>\n",
              "      <td>1</td>\n",
              "      <td>FLYNN: Hillary Clinton, Big Woman on Campus - ...</td>\n",
              "      <td>Daniel J. Flynn</td>\n",
              "      <td>Ever get the feeling your life circles the rou...</td>\n",
              "      <td>0</td>\n",
              "    </tr>\n",
              "    <tr>\n",
              "      <th>2</th>\n",
              "      <td>2</td>\n",
              "      <td>2</td>\n",
              "      <td>Why the Truth Might Get You Fired</td>\n",
              "      <td>Consortiumnews.com</td>\n",
              "      <td>Why the Truth Might Get You Fired October 29, ...</td>\n",
              "      <td>1</td>\n",
              "    </tr>\n",
              "    <tr>\n",
              "      <th>3</th>\n",
              "      <td>3</td>\n",
              "      <td>3</td>\n",
              "      <td>15 Civilians Killed In Single US Airstrike Hav...</td>\n",
              "      <td>Jessica Purkiss</td>\n",
              "      <td>Videos 15 Civilians Killed In Single US Airstr...</td>\n",
              "      <td>1</td>\n",
              "    </tr>\n",
              "    <tr>\n",
              "      <th>4</th>\n",
              "      <td>4</td>\n",
              "      <td>4</td>\n",
              "      <td>Iranian woman jailed for fictional unpublished...</td>\n",
              "      <td>Howard Portnoy</td>\n",
              "      <td>Print \\nAn Iranian woman has been sentenced to...</td>\n",
              "      <td>1</td>\n",
              "    </tr>\n",
              "    <tr>\n",
              "      <th>5</th>\n",
              "      <td>5</td>\n",
              "      <td>5</td>\n",
              "      <td>Jackie Mason: Hollywood Would Love Trump if He...</td>\n",
              "      <td>Daniel Nussbaum</td>\n",
              "      <td>In these trying times, Jackie Mason is the Voi...</td>\n",
              "      <td>0</td>\n",
              "    </tr>\n",
              "    <tr>\n",
              "      <th>6</th>\n",
              "      <td>7</td>\n",
              "      <td>7</td>\n",
              "      <td>Benoît Hamon Wins French Socialist Party’s Pre...</td>\n",
              "      <td>Alissa J. Rubin</td>\n",
              "      <td>PARIS  —   France chose an idealistic, traditi...</td>\n",
              "      <td>0</td>\n",
              "    </tr>\n",
              "    <tr>\n",
              "      <th>7</th>\n",
              "      <td>9</td>\n",
              "      <td>9</td>\n",
              "      <td>A Back-Channel Plan for Ukraine and Russia, Co...</td>\n",
              "      <td>Megan Twohey and Scott Shane</td>\n",
              "      <td>A week before Michael T. Flynn resigned as nat...</td>\n",
              "      <td>0</td>\n",
              "    </tr>\n",
              "    <tr>\n",
              "      <th>8</th>\n",
              "      <td>10</td>\n",
              "      <td>10</td>\n",
              "      <td>Obama’s Organizing for Action Partners with So...</td>\n",
              "      <td>Aaron Klein</td>\n",
              "      <td>Organizing for Action, the activist group that...</td>\n",
              "      <td>0</td>\n",
              "    </tr>\n",
              "    <tr>\n",
              "      <th>9</th>\n",
              "      <td>11</td>\n",
              "      <td>11</td>\n",
              "      <td>BBC Comedy Sketch \"Real Housewives of ISIS\" Ca...</td>\n",
              "      <td>Chris Tomlinson</td>\n",
              "      <td>The BBC produced spoof on the “Real Housewives...</td>\n",
              "      <td>0</td>\n",
              "    </tr>\n",
              "  </tbody>\n",
              "</table>\n",
              "</div>"
            ],
            "text/plain": [
              "   index  id  ...                                               text label\n",
              "0      0   0  ...  House Dem Aide: We Didn’t Even See Comey’s Let...     1\n",
              "1      1   1  ...  Ever get the feeling your life circles the rou...     0\n",
              "2      2   2  ...  Why the Truth Might Get You Fired October 29, ...     1\n",
              "3      3   3  ...  Videos 15 Civilians Killed In Single US Airstr...     1\n",
              "4      4   4  ...  Print \\nAn Iranian woman has been sentenced to...     1\n",
              "5      5   5  ...  In these trying times, Jackie Mason is the Voi...     0\n",
              "6      7   7  ...  PARIS  —   France chose an idealistic, traditi...     0\n",
              "7      9   9  ...  A week before Michael T. Flynn resigned as nat...     0\n",
              "8     10  10  ...  Organizing for Action, the activist group that...     0\n",
              "9     11  11  ...  The BBC produced spoof on the “Real Housewives...     0\n",
              "\n",
              "[10 rows x 6 columns]"
            ]
          },
          "metadata": {
            "tags": []
          },
          "execution_count": 22
        }
      ]
    },
    {
      "cell_type": "code",
      "metadata": {
        "colab": {
          "base_uri": "https://localhost:8080/",
          "height": 171
        },
        "id": "l1bXUsrlBM8R",
        "outputId": "2b020134-5b7c-4d96-ecfc-4d29aa0dd6c8"
      },
      "source": [
        "#Displaying a 'text' from the dataset\n",
        "messages['text'][6]"
      ],
      "execution_count": null,
      "outputs": [
        {
          "output_type": "execute_result",
          "data": {
            "application/vnd.google.colaboratory.intrinsic+json": {
              "type": "string"
            },
            "text/plain": [
              "'PARIS  —   France chose an idealistic, traditional   candidate in Sunday’s primary to represent the Socialist and   parties in the presidential election this spring. The candidate, Benoît Hamon, 49, who ran on the slogan that he would “make France’s heart beat,” bested Manuel Valls, the former prime minister, whose campaign has promoted more   policies and who has a strong    background. Mr. Hamon appeared to have won by a wide margin, with incomplete returns showing him with an estimated 58 percent of the vote to Mr. Valls’s 41 percent. “Tonight the left holds its head up high again it is looking to the future,” Mr. Hamon said, addressing his supporters. “Our country needs the left, but a modern, innovative left,” he said. Mr. Hamon’s victory was the clearest sign yet that voters on the left want a break with the policies of President François Hollande, who in December announced that he would not seek  . However, Mr. Hamon’s strong showing is unlikely to change widespread assessments that   candidates have little chance of making it into the second round of voting in the general election. The first round of the general election is set for April 23 and the runoff for May 7. The Socialist Party is deeply divided, and one measure of its lack of popular enthusiasm was the relatively low number of people voting. About two million people voted in the second round of the primary on Sunday, in contrast with about 2. 9 million in the second round of the last presidential primary on the left, in 2011. However, much of the conventional wisdom over how the elections will go has been thrown into question over the past week, because the leading candidate, François Fillon, who represents the main   party, the Republicans, was accused of paying his wife large sums of money to work as his parliamentary aide. While nepotism is legal in the French political system, it is not clear that she actually did any work. Prosecutors who specialize in financial malfeasance are reviewing the case. France’s electoral system allows multiple candidates to run for president in the first round of voting, but only the top two   go on to a second round. Mr. Hamon is entering a race that is already crowded on the left, with candidates who include   Mélenchon on the far left, and Emmanuel Macron, an independent who served as economy minister in Mr. Hollande’s government and who embraces more   policies. Unless he decides to withdraw, Mr. Fillon, the mainstream right candidate, will also run, as will the extreme right candidate Marine Le Pen. The two have been expected to go to the runoff. Mr. Hamon’s victory can be attributed at least in part to his image as an idealist and traditional leftist candidate who appeals to union voters as well as more environmentally concerned and socially liberal young people. Unlike Mr. Valls, he also clearly distanced himself from some of Mr. Hollande’s more unpopular policies, especially the economic ones. Thomas Kekenbosch, 22, a student and one of the leaders of the group the Youth With Benoît Hamon, said Mr. Hamon embodied a new hope for those on the left. “We have a perspective we have something to do, to build,” Mr. Kekenbosch said. Mr. Hollande had disappointed many young people because under him the party abandoned ideals, such as support for workers, that many   voters believe in, according to Mr. Kekenbosch. Mr. Hollande’s government, under pressure from the European Union to meet budget restraints, struggled to pass labor code reforms to make the market more attractive to foreign investors and also to encourage French businesses to expand in France. The measures ultimately passed after weeks of strikes, but they were watered down and generated little concrete progress in improving France’s roughly 10 percent unemployment rate and its nearly 25 percent youth joblessness rate. Mr. Hamon strongly endorses a stimulus approach to improving the economy and has promised to phase in a universal income, which would especially help young people looking for work, but would also supplement the livelihood of   French workers. The end goal would be to have everyone receive 750 euros per month (about $840). “We have someone that trusts us,” Mr. Kekenbosch said, “who says: ‘I give you enough to pay for your studies. You can have a scholarship which spares you from working at McDonald’s on provisional contracts for 4 years. ” Mr. Hamon advocates phasing out diesel fuel and encouraging drivers to replace vehicles that use petroleum products with electrical ones. His leftist pedigree began early. His father worked at an arsenal in Brest, a city in the far west of Brittany, and his mother worked off and on as a secretary. He was an early member of the Movement of Young Socialists, and he has continued to work closely with them through his political life. He also worked for Martine Aubry, now the mayor of Lille and a former Socialist Party leader.'"
            ]
          },
          "metadata": {
            "tags": []
          },
          "execution_count": 23
        }
      ]
    },
    {
      "cell_type": "markdown",
      "metadata": {
        "id": "UefSHjuPNJbc"
      },
      "source": [
        "# **Text Preprocessing**"
      ]
    },
    {
      "cell_type": "code",
      "metadata": {
        "colab": {
          "base_uri": "https://localhost:8080/"
        },
        "id": "LZsR1CGrCbV5",
        "outputId": "40521040-7223-4adc-e28e-6b546774712d"
      },
      "source": [
        "#Importing the libraries for text preprocessing\n",
        "import re\n",
        "import nltk\n",
        "nltk.download('stopwords')\n",
        "  "
      ],
      "execution_count": null,
      "outputs": [
        {
          "output_type": "stream",
          "text": [
            "[nltk_data] Downloading package stopwords to /root/nltk_data...\n",
            "[nltk_data]   Package stopwords is already up-to-date!\n"
          ],
          "name": "stdout"
        },
        {
          "output_type": "execute_result",
          "data": {
            "text/plain": [
              "True"
            ]
          },
          "metadata": {
            "tags": []
          },
          "execution_count": 24
        }
      ]
    },
    {
      "cell_type": "code",
      "metadata": {
        "id": "jrnJHQZgBM8S"
      },
      "source": [
        "#Text preprocessing\n",
        "from nltk.corpus import stopwords\n",
        "from nltk.stem.porter import PorterStemmer\n",
        "import re\n",
        "ps = PorterStemmer()\n",
        "corpus = []\n",
        "for i in range(0, len(messages)):\n",
        "    review = re.sub('[^a-zA-Z]', ' ', messages['text'][i])\n",
        "    review = review.lower()\n",
        "    review = review.split()\n",
        "    \n",
        "    review = [ps.stem(word) for word in review if not word in stopwords.words('english')]\n",
        "    review = ' '.join(review)\n",
        "    corpus.append(review)"
      ],
      "execution_count": null,
      "outputs": []
    },
    {
      "cell_type": "code",
      "metadata": {
        "colab": {
          "base_uri": "https://localhost:8080/",
          "height": 171
        },
        "id": "19fflQxmBM8T",
        "outputId": "706f07ad-9ef6-4bba-e67f-42408e02b3d4"
      },
      "source": [
        "#Viewing the corpus after text preprocessing\n",
        "corpus[3]"
      ],
      "execution_count": null,
      "outputs": [
        {
          "output_type": "execute_result",
          "data": {
            "application/vnd.google.colaboratory.intrinsic+json": {
              "type": "string"
            },
            "text/plain": [
              "'video civilian kill singl us airstrik identifi rate civilian kill american airstrik afghanistan higher us engag activ combat oper photo hellfir missil load onto us militari reaper drone afghanistan staff sgt brian ferguson u air forc bureau abl identifi civilian kill singl us drone strike afghanistan last month biggest loss civilian life one strike sinc attack medecin san frontier hospit msf last octob us claim conduct counter terror strike islam state fighter hit nangarhar provinc missil septemb next day unit nation issu unusu rapid strong statement say strike kill civilian injur other gather hous celebr tribal elder return pilgrimag mecca bureau spoke man name haji rai said owner hous target said peopl kill other injur provid name list bureau abl independ verifi ident die rai son headmast local school among anoth man abdul hakim lost three son attack rai said involv deni us claim member visit hous strike said even speak sort peopl phone let alon receiv hous death amount biggest confirm loss civilian life singl american strike afghanistan sinc attack msf hospit kunduz last octob kill least peopl nangarhar strike us attack kill civilian septemb bureau data indic mani civilian alli soldier kill four american strike afghanistan somalia month septemb pair strike kill eight afghan policemen tarinkot capit urozgan provic us jet reportedli hit polic checkpoint kill one offic return target first respond use tactic known doubl tap strike controversi often hit civilian rescuer us told bureau conduct strike individu fire pose threat afghan forc email directli address alleg afghan policemen kill end month somalia citizen burnt us flag street north central citi galcayo emerg drone attack may unintent kill somali soldier civilian strike occur day one nangarhar somali afghan incid us first deni non combat kill investig strike nangarhar galcayo rate civilian kill american airstrik afghanistan higher us engag activ combat oper name'"
            ]
          },
          "metadata": {
            "tags": []
          },
          "execution_count": 26
        }
      ]
    },
    {
      "cell_type": "code",
      "metadata": {
        "id": "DcZQXjc8BM8U"
      },
      "source": [
        "#Applying TFidf Vectorizer\n",
        "from sklearn.feature_extraction.text import TfidfVectorizer\n",
        "tfidf_v=TfidfVectorizer(max_features=5000,ngram_range=(1,3))\n",
        "X=tfidf_v.fit_transform(corpus).toarray()\n"
      ],
      "execution_count": null,
      "outputs": []
    },
    {
      "cell_type": "code",
      "metadata": {
        "colab": {
          "base_uri": "https://localhost:8080/"
        },
        "id": "nruobYixBM8U",
        "outputId": "b4c75b32-0ebb-42a9-cf06-9c841dfc1144"
      },
      "source": [
        "#Viewing the shape of the data after feature extraction\n",
        "X.shape"
      ],
      "execution_count": null,
      "outputs": [
        {
          "output_type": "execute_result",
          "data": {
            "text/plain": [
              "(18285, 5000)"
            ]
          },
          "metadata": {
            "tags": []
          },
          "execution_count": 28
        }
      ]
    },
    {
      "cell_type": "code",
      "metadata": {
        "id": "HziRnL25BM8V"
      },
      "source": [
        "#Output label\n",
        "y=messages['label']"
      ],
      "execution_count": null,
      "outputs": []
    },
    {
      "cell_type": "code",
      "metadata": {
        "id": "eT77XtIQBM8V"
      },
      "source": [
        "## Divide the dataset into Train and Test\n",
        "from sklearn.model_selection import train_test_split\n",
        "X_train, X_test, y_train, y_test = train_test_split(X, y, test_size=0.33, random_state=0)"
      ],
      "execution_count": null,
      "outputs": []
    },
    {
      "cell_type": "code",
      "metadata": {
        "colab": {
          "base_uri": "https://localhost:8080/"
        },
        "id": "CFDsfXzFBM8V",
        "outputId": "ba712640-a019-47f2-9d69-ac40a71ad899"
      },
      "source": [
        "#Viewing the feature names\n",
        "tfidf_v.get_feature_names()[:20]"
      ],
      "execution_count": null,
      "outputs": [
        {
          "output_type": "execute_result",
          "data": {
            "text/plain": [
              "['aaron',\n",
              " 'abandon',\n",
              " 'abc',\n",
              " 'abe',\n",
              " 'abedin',\n",
              " 'abil',\n",
              " 'abl',\n",
              " 'abort',\n",
              " 'abroad',\n",
              " 'absenc',\n",
              " 'absolut',\n",
              " 'absorb',\n",
              " 'absurd',\n",
              " 'abu',\n",
              " 'abus',\n",
              " 'academ',\n",
              " 'academi',\n",
              " 'acceler',\n",
              " 'accept',\n",
              " 'access']"
            ]
          },
          "metadata": {
            "tags": []
          },
          "execution_count": 31
        }
      ]
    },
    {
      "cell_type": "code",
      "metadata": {
        "colab": {
          "base_uri": "https://localhost:8080/"
        },
        "id": "YtDfeYlvBM8W",
        "outputId": "e3c83143-3dc3-4b05-8414-717528ab9b3e"
      },
      "source": [
        "#Parameters used\n",
        "tfidf_v.get_params()"
      ],
      "execution_count": null,
      "outputs": [
        {
          "output_type": "execute_result",
          "data": {
            "text/plain": [
              "{'analyzer': 'word',\n",
              " 'binary': False,\n",
              " 'decode_error': 'strict',\n",
              " 'dtype': numpy.float64,\n",
              " 'encoding': 'utf-8',\n",
              " 'input': 'content',\n",
              " 'lowercase': True,\n",
              " 'max_df': 1.0,\n",
              " 'max_features': 5000,\n",
              " 'min_df': 1,\n",
              " 'ngram_range': (1, 3),\n",
              " 'norm': 'l2',\n",
              " 'preprocessor': None,\n",
              " 'smooth_idf': True,\n",
              " 'stop_words': None,\n",
              " 'strip_accents': None,\n",
              " 'sublinear_tf': False,\n",
              " 'token_pattern': '(?u)\\\\b\\\\w\\\\w+\\\\b',\n",
              " 'tokenizer': None,\n",
              " 'use_idf': True,\n",
              " 'vocabulary': None}"
            ]
          },
          "metadata": {
            "tags": []
          },
          "execution_count": 32
        }
      ]
    },
    {
      "cell_type": "code",
      "metadata": {
        "id": "O8hk_qCfBM8W"
      },
      "source": [
        "#Storing the 'X_train' and feature names in count_df variable\n",
        "count_df = pd.DataFrame(X_train, columns=tfidf_v.get_feature_names())"
      ],
      "execution_count": null,
      "outputs": []
    },
    {
      "cell_type": "code",
      "metadata": {
        "colab": {
          "base_uri": "https://localhost:8080/",
          "height": 270
        },
        "id": "yw6R_XpfBM8W",
        "outputId": "6ff3164f-7282-4f8d-82e7-32328f4dede3"
      },
      "source": [
        "count_df.head()"
      ],
      "execution_count": null,
      "outputs": [
        {
          "output_type": "execute_result",
          "data": {
            "text/html": [
              "<div>\n",
              "<style scoped>\n",
              "    .dataframe tbody tr th:only-of-type {\n",
              "        vertical-align: middle;\n",
              "    }\n",
              "\n",
              "    .dataframe tbody tr th {\n",
              "        vertical-align: top;\n",
              "    }\n",
              "\n",
              "    .dataframe thead th {\n",
              "        text-align: right;\n",
              "    }\n",
              "</style>\n",
              "<table border=\"1\" class=\"dataframe\">\n",
              "  <thead>\n",
              "    <tr style=\"text-align: right;\">\n",
              "      <th></th>\n",
              "      <th>aaron</th>\n",
              "      <th>abandon</th>\n",
              "      <th>abc</th>\n",
              "      <th>abe</th>\n",
              "      <th>abedin</th>\n",
              "      <th>abil</th>\n",
              "      <th>abl</th>\n",
              "      <th>abort</th>\n",
              "      <th>abroad</th>\n",
              "      <th>absenc</th>\n",
              "      <th>absolut</th>\n",
              "      <th>absorb</th>\n",
              "      <th>absurd</th>\n",
              "      <th>abu</th>\n",
              "      <th>abus</th>\n",
              "      <th>academ</th>\n",
              "      <th>academi</th>\n",
              "      <th>acceler</th>\n",
              "      <th>accept</th>\n",
              "      <th>access</th>\n",
              "      <th>access pipelin</th>\n",
              "      <th>accid</th>\n",
              "      <th>accommod</th>\n",
              "      <th>accompani</th>\n",
              "      <th>accomplish</th>\n",
              "      <th>accord</th>\n",
              "      <th>accord report</th>\n",
              "      <th>account</th>\n",
              "      <th>accumul</th>\n",
              "      <th>accur</th>\n",
              "      <th>accus</th>\n",
              "      <th>achiev</th>\n",
              "      <th>acid</th>\n",
              "      <th>acknowledg</th>\n",
              "      <th>acquir</th>\n",
              "      <th>acr</th>\n",
              "      <th>across</th>\n",
              "      <th>across countri</th>\n",
              "      <th>act</th>\n",
              "      <th>action</th>\n",
              "      <th>...</th>\n",
              "      <th>written</th>\n",
              "      <th>wrong</th>\n",
              "      <th>wrongdo</th>\n",
              "      <th>wrote</th>\n",
              "      <th>wrote twitter</th>\n",
              "      <th>www</th>\n",
              "      <th>xi</th>\n",
              "      <th>yahoo</th>\n",
              "      <th>yard</th>\n",
              "      <th>ye</th>\n",
              "      <th>yeah</th>\n",
              "      <th>year</th>\n",
              "      <th>year ago</th>\n",
              "      <th>year later</th>\n",
              "      <th>year mr</th>\n",
              "      <th>year old</th>\n",
              "      <th>year said</th>\n",
              "      <th>year sinc</th>\n",
              "      <th>yell</th>\n",
              "      <th>yellow</th>\n",
              "      <th>yemen</th>\n",
              "      <th>yesterday</th>\n",
              "      <th>yet</th>\n",
              "      <th>yet anoth</th>\n",
              "      <th>yiannopoulo</th>\n",
              "      <th>yield</th>\n",
              "      <th>york</th>\n",
              "      <th>york citi</th>\n",
              "      <th>york time</th>\n",
              "      <th>yorker</th>\n",
              "      <th>young</th>\n",
              "      <th>young peopl</th>\n",
              "      <th>younger</th>\n",
              "      <th>youth</th>\n",
              "      <th>youtub</th>\n",
              "      <th>zero</th>\n",
              "      <th>zika</th>\n",
              "      <th>zionist</th>\n",
              "      <th>zone</th>\n",
              "      <th>zu</th>\n",
              "    </tr>\n",
              "  </thead>\n",
              "  <tbody>\n",
              "    <tr>\n",
              "      <th>0</th>\n",
              "      <td>0.0</td>\n",
              "      <td>0.0</td>\n",
              "      <td>0.0</td>\n",
              "      <td>0.0</td>\n",
              "      <td>0.0</td>\n",
              "      <td>0.0</td>\n",
              "      <td>0.0</td>\n",
              "      <td>0.0</td>\n",
              "      <td>0.0</td>\n",
              "      <td>0.0</td>\n",
              "      <td>0.000000</td>\n",
              "      <td>0.0</td>\n",
              "      <td>0.0</td>\n",
              "      <td>0.0</td>\n",
              "      <td>0.0</td>\n",
              "      <td>0.000000</td>\n",
              "      <td>0.000000</td>\n",
              "      <td>0.000000</td>\n",
              "      <td>0.0</td>\n",
              "      <td>0.0</td>\n",
              "      <td>0.0</td>\n",
              "      <td>0.0</td>\n",
              "      <td>0.0</td>\n",
              "      <td>0.0</td>\n",
              "      <td>0.0</td>\n",
              "      <td>0.000000</td>\n",
              "      <td>0.0</td>\n",
              "      <td>0.000000</td>\n",
              "      <td>0.000000</td>\n",
              "      <td>0.0</td>\n",
              "      <td>0.00000</td>\n",
              "      <td>0.000000</td>\n",
              "      <td>0.0</td>\n",
              "      <td>0.0</td>\n",
              "      <td>0.0</td>\n",
              "      <td>0.0</td>\n",
              "      <td>0.0</td>\n",
              "      <td>0.0</td>\n",
              "      <td>0.0</td>\n",
              "      <td>0.000000</td>\n",
              "      <td>...</td>\n",
              "      <td>0.0</td>\n",
              "      <td>0.0</td>\n",
              "      <td>0.0</td>\n",
              "      <td>0.0</td>\n",
              "      <td>0.0</td>\n",
              "      <td>0.0</td>\n",
              "      <td>0.0</td>\n",
              "      <td>0.0</td>\n",
              "      <td>0.0</td>\n",
              "      <td>0.0</td>\n",
              "      <td>0.0</td>\n",
              "      <td>0.000000</td>\n",
              "      <td>0.000000</td>\n",
              "      <td>0.0</td>\n",
              "      <td>0.0</td>\n",
              "      <td>0.000000</td>\n",
              "      <td>0.0</td>\n",
              "      <td>0.0</td>\n",
              "      <td>0.0</td>\n",
              "      <td>0.0</td>\n",
              "      <td>0.0</td>\n",
              "      <td>0.0</td>\n",
              "      <td>0.000000</td>\n",
              "      <td>0.0</td>\n",
              "      <td>0.0</td>\n",
              "      <td>0.000000</td>\n",
              "      <td>0.054002</td>\n",
              "      <td>0.0</td>\n",
              "      <td>0.000000</td>\n",
              "      <td>0.0</td>\n",
              "      <td>0.200698</td>\n",
              "      <td>0.0</td>\n",
              "      <td>0.0</td>\n",
              "      <td>0.0</td>\n",
              "      <td>0.0</td>\n",
              "      <td>0.0</td>\n",
              "      <td>0.0</td>\n",
              "      <td>0.0</td>\n",
              "      <td>0.0</td>\n",
              "      <td>0.0</td>\n",
              "    </tr>\n",
              "    <tr>\n",
              "      <th>1</th>\n",
              "      <td>0.0</td>\n",
              "      <td>0.0</td>\n",
              "      <td>0.0</td>\n",
              "      <td>0.0</td>\n",
              "      <td>0.0</td>\n",
              "      <td>0.0</td>\n",
              "      <td>0.0</td>\n",
              "      <td>0.0</td>\n",
              "      <td>0.0</td>\n",
              "      <td>0.0</td>\n",
              "      <td>0.000000</td>\n",
              "      <td>0.0</td>\n",
              "      <td>0.0</td>\n",
              "      <td>0.0</td>\n",
              "      <td>0.0</td>\n",
              "      <td>0.053056</td>\n",
              "      <td>0.054919</td>\n",
              "      <td>0.055677</td>\n",
              "      <td>0.0</td>\n",
              "      <td>0.0</td>\n",
              "      <td>0.0</td>\n",
              "      <td>0.0</td>\n",
              "      <td>0.0</td>\n",
              "      <td>0.0</td>\n",
              "      <td>0.0</td>\n",
              "      <td>0.000000</td>\n",
              "      <td>0.0</td>\n",
              "      <td>0.000000</td>\n",
              "      <td>0.000000</td>\n",
              "      <td>0.0</td>\n",
              "      <td>0.00000</td>\n",
              "      <td>0.000000</td>\n",
              "      <td>0.0</td>\n",
              "      <td>0.0</td>\n",
              "      <td>0.0</td>\n",
              "      <td>0.0</td>\n",
              "      <td>0.0</td>\n",
              "      <td>0.0</td>\n",
              "      <td>0.0</td>\n",
              "      <td>0.000000</td>\n",
              "      <td>...</td>\n",
              "      <td>0.0</td>\n",
              "      <td>0.0</td>\n",
              "      <td>0.0</td>\n",
              "      <td>0.0</td>\n",
              "      <td>0.0</td>\n",
              "      <td>0.0</td>\n",
              "      <td>0.0</td>\n",
              "      <td>0.0</td>\n",
              "      <td>0.0</td>\n",
              "      <td>0.0</td>\n",
              "      <td>0.0</td>\n",
              "      <td>0.017844</td>\n",
              "      <td>0.036376</td>\n",
              "      <td>0.0</td>\n",
              "      <td>0.0</td>\n",
              "      <td>0.000000</td>\n",
              "      <td>0.0</td>\n",
              "      <td>0.0</td>\n",
              "      <td>0.0</td>\n",
              "      <td>0.0</td>\n",
              "      <td>0.0</td>\n",
              "      <td>0.0</td>\n",
              "      <td>0.000000</td>\n",
              "      <td>0.0</td>\n",
              "      <td>0.0</td>\n",
              "      <td>0.235377</td>\n",
              "      <td>0.028303</td>\n",
              "      <td>0.0</td>\n",
              "      <td>0.037869</td>\n",
              "      <td>0.0</td>\n",
              "      <td>0.000000</td>\n",
              "      <td>0.0</td>\n",
              "      <td>0.0</td>\n",
              "      <td>0.0</td>\n",
              "      <td>0.0</td>\n",
              "      <td>0.0</td>\n",
              "      <td>0.0</td>\n",
              "      <td>0.0</td>\n",
              "      <td>0.0</td>\n",
              "      <td>0.0</td>\n",
              "    </tr>\n",
              "    <tr>\n",
              "      <th>2</th>\n",
              "      <td>0.0</td>\n",
              "      <td>0.0</td>\n",
              "      <td>0.0</td>\n",
              "      <td>0.0</td>\n",
              "      <td>0.0</td>\n",
              "      <td>0.0</td>\n",
              "      <td>0.0</td>\n",
              "      <td>0.0</td>\n",
              "      <td>0.0</td>\n",
              "      <td>0.0</td>\n",
              "      <td>0.000000</td>\n",
              "      <td>0.0</td>\n",
              "      <td>0.0</td>\n",
              "      <td>0.0</td>\n",
              "      <td>0.0</td>\n",
              "      <td>0.000000</td>\n",
              "      <td>0.000000</td>\n",
              "      <td>0.000000</td>\n",
              "      <td>0.0</td>\n",
              "      <td>0.0</td>\n",
              "      <td>0.0</td>\n",
              "      <td>0.0</td>\n",
              "      <td>0.0</td>\n",
              "      <td>0.0</td>\n",
              "      <td>0.0</td>\n",
              "      <td>0.000000</td>\n",
              "      <td>0.0</td>\n",
              "      <td>0.000000</td>\n",
              "      <td>0.014089</td>\n",
              "      <td>0.0</td>\n",
              "      <td>0.00000</td>\n",
              "      <td>0.009599</td>\n",
              "      <td>0.0</td>\n",
              "      <td>0.0</td>\n",
              "      <td>0.0</td>\n",
              "      <td>0.0</td>\n",
              "      <td>0.0</td>\n",
              "      <td>0.0</td>\n",
              "      <td>0.0</td>\n",
              "      <td>0.000000</td>\n",
              "      <td>...</td>\n",
              "      <td>0.0</td>\n",
              "      <td>0.0</td>\n",
              "      <td>0.0</td>\n",
              "      <td>0.0</td>\n",
              "      <td>0.0</td>\n",
              "      <td>0.0</td>\n",
              "      <td>0.0</td>\n",
              "      <td>0.0</td>\n",
              "      <td>0.0</td>\n",
              "      <td>0.0</td>\n",
              "      <td>0.0</td>\n",
              "      <td>0.076513</td>\n",
              "      <td>0.008209</td>\n",
              "      <td>0.0</td>\n",
              "      <td>0.0</td>\n",
              "      <td>0.010306</td>\n",
              "      <td>0.0</td>\n",
              "      <td>0.0</td>\n",
              "      <td>0.0</td>\n",
              "      <td>0.0</td>\n",
              "      <td>0.0</td>\n",
              "      <td>0.0</td>\n",
              "      <td>0.006608</td>\n",
              "      <td>0.0</td>\n",
              "      <td>0.0</td>\n",
              "      <td>0.000000</td>\n",
              "      <td>0.000000</td>\n",
              "      <td>0.0</td>\n",
              "      <td>0.000000</td>\n",
              "      <td>0.0</td>\n",
              "      <td>0.000000</td>\n",
              "      <td>0.0</td>\n",
              "      <td>0.0</td>\n",
              "      <td>0.0</td>\n",
              "      <td>0.0</td>\n",
              "      <td>0.0</td>\n",
              "      <td>0.0</td>\n",
              "      <td>0.0</td>\n",
              "      <td>0.0</td>\n",
              "      <td>0.0</td>\n",
              "    </tr>\n",
              "    <tr>\n",
              "      <th>3</th>\n",
              "      <td>0.0</td>\n",
              "      <td>0.0</td>\n",
              "      <td>0.0</td>\n",
              "      <td>0.0</td>\n",
              "      <td>0.0</td>\n",
              "      <td>0.0</td>\n",
              "      <td>0.0</td>\n",
              "      <td>0.0</td>\n",
              "      <td>0.0</td>\n",
              "      <td>0.0</td>\n",
              "      <td>0.000000</td>\n",
              "      <td>0.0</td>\n",
              "      <td>0.0</td>\n",
              "      <td>0.0</td>\n",
              "      <td>0.0</td>\n",
              "      <td>0.000000</td>\n",
              "      <td>0.000000</td>\n",
              "      <td>0.000000</td>\n",
              "      <td>0.0</td>\n",
              "      <td>0.0</td>\n",
              "      <td>0.0</td>\n",
              "      <td>0.0</td>\n",
              "      <td>0.0</td>\n",
              "      <td>0.0</td>\n",
              "      <td>0.0</td>\n",
              "      <td>0.039097</td>\n",
              "      <td>0.0</td>\n",
              "      <td>0.053839</td>\n",
              "      <td>0.000000</td>\n",
              "      <td>0.0</td>\n",
              "      <td>0.05569</td>\n",
              "      <td>0.000000</td>\n",
              "      <td>0.0</td>\n",
              "      <td>0.0</td>\n",
              "      <td>0.0</td>\n",
              "      <td>0.0</td>\n",
              "      <td>0.0</td>\n",
              "      <td>0.0</td>\n",
              "      <td>0.0</td>\n",
              "      <td>0.000000</td>\n",
              "      <td>...</td>\n",
              "      <td>0.0</td>\n",
              "      <td>0.0</td>\n",
              "      <td>0.0</td>\n",
              "      <td>0.0</td>\n",
              "      <td>0.0</td>\n",
              "      <td>0.0</td>\n",
              "      <td>0.0</td>\n",
              "      <td>0.0</td>\n",
              "      <td>0.0</td>\n",
              "      <td>0.0</td>\n",
              "      <td>0.0</td>\n",
              "      <td>0.000000</td>\n",
              "      <td>0.000000</td>\n",
              "      <td>0.0</td>\n",
              "      <td>0.0</td>\n",
              "      <td>0.000000</td>\n",
              "      <td>0.0</td>\n",
              "      <td>0.0</td>\n",
              "      <td>0.0</td>\n",
              "      <td>0.0</td>\n",
              "      <td>0.0</td>\n",
              "      <td>0.0</td>\n",
              "      <td>0.000000</td>\n",
              "      <td>0.0</td>\n",
              "      <td>0.0</td>\n",
              "      <td>0.000000</td>\n",
              "      <td>0.000000</td>\n",
              "      <td>0.0</td>\n",
              "      <td>0.000000</td>\n",
              "      <td>0.0</td>\n",
              "      <td>0.000000</td>\n",
              "      <td>0.0</td>\n",
              "      <td>0.0</td>\n",
              "      <td>0.0</td>\n",
              "      <td>0.0</td>\n",
              "      <td>0.0</td>\n",
              "      <td>0.0</td>\n",
              "      <td>0.0</td>\n",
              "      <td>0.0</td>\n",
              "      <td>0.0</td>\n",
              "    </tr>\n",
              "    <tr>\n",
              "      <th>4</th>\n",
              "      <td>0.0</td>\n",
              "      <td>0.0</td>\n",
              "      <td>0.0</td>\n",
              "      <td>0.0</td>\n",
              "      <td>0.0</td>\n",
              "      <td>0.0</td>\n",
              "      <td>0.0</td>\n",
              "      <td>0.0</td>\n",
              "      <td>0.0</td>\n",
              "      <td>0.0</td>\n",
              "      <td>0.215889</td>\n",
              "      <td>0.0</td>\n",
              "      <td>0.0</td>\n",
              "      <td>0.0</td>\n",
              "      <td>0.0</td>\n",
              "      <td>0.000000</td>\n",
              "      <td>0.000000</td>\n",
              "      <td>0.000000</td>\n",
              "      <td>0.0</td>\n",
              "      <td>0.0</td>\n",
              "      <td>0.0</td>\n",
              "      <td>0.0</td>\n",
              "      <td>0.0</td>\n",
              "      <td>0.0</td>\n",
              "      <td>0.0</td>\n",
              "      <td>0.000000</td>\n",
              "      <td>0.0</td>\n",
              "      <td>0.000000</td>\n",
              "      <td>0.000000</td>\n",
              "      <td>0.0</td>\n",
              "      <td>0.00000</td>\n",
              "      <td>0.000000</td>\n",
              "      <td>0.0</td>\n",
              "      <td>0.0</td>\n",
              "      <td>0.0</td>\n",
              "      <td>0.0</td>\n",
              "      <td>0.0</td>\n",
              "      <td>0.0</td>\n",
              "      <td>0.0</td>\n",
              "      <td>0.052745</td>\n",
              "      <td>...</td>\n",
              "      <td>0.0</td>\n",
              "      <td>0.0</td>\n",
              "      <td>0.0</td>\n",
              "      <td>0.0</td>\n",
              "      <td>0.0</td>\n",
              "      <td>0.0</td>\n",
              "      <td>0.0</td>\n",
              "      <td>0.0</td>\n",
              "      <td>0.0</td>\n",
              "      <td>0.0</td>\n",
              "      <td>0.0</td>\n",
              "      <td>0.000000</td>\n",
              "      <td>0.000000</td>\n",
              "      <td>0.0</td>\n",
              "      <td>0.0</td>\n",
              "      <td>0.000000</td>\n",
              "      <td>0.0</td>\n",
              "      <td>0.0</td>\n",
              "      <td>0.0</td>\n",
              "      <td>0.0</td>\n",
              "      <td>0.0</td>\n",
              "      <td>0.0</td>\n",
              "      <td>0.000000</td>\n",
              "      <td>0.0</td>\n",
              "      <td>0.0</td>\n",
              "      <td>0.000000</td>\n",
              "      <td>0.000000</td>\n",
              "      <td>0.0</td>\n",
              "      <td>0.000000</td>\n",
              "      <td>0.0</td>\n",
              "      <td>0.000000</td>\n",
              "      <td>0.0</td>\n",
              "      <td>0.0</td>\n",
              "      <td>0.0</td>\n",
              "      <td>0.0</td>\n",
              "      <td>0.0</td>\n",
              "      <td>0.0</td>\n",
              "      <td>0.0</td>\n",
              "      <td>0.0</td>\n",
              "      <td>0.0</td>\n",
              "    </tr>\n",
              "  </tbody>\n",
              "</table>\n",
              "<p>5 rows × 5000 columns</p>\n",
              "</div>"
            ],
            "text/plain": [
              "   aaron  abandon  abc  abe  abedin  ...  zero  zika  zionist  zone   zu\n",
              "0    0.0      0.0  0.0  0.0     0.0  ...   0.0   0.0      0.0   0.0  0.0\n",
              "1    0.0      0.0  0.0  0.0     0.0  ...   0.0   0.0      0.0   0.0  0.0\n",
              "2    0.0      0.0  0.0  0.0     0.0  ...   0.0   0.0      0.0   0.0  0.0\n",
              "3    0.0      0.0  0.0  0.0     0.0  ...   0.0   0.0      0.0   0.0  0.0\n",
              "4    0.0      0.0  0.0  0.0     0.0  ...   0.0   0.0      0.0   0.0  0.0\n",
              "\n",
              "[5 rows x 5000 columns]"
            ]
          },
          "metadata": {
            "tags": []
          },
          "execution_count": 34
        }
      ]
    },
    {
      "cell_type": "code",
      "metadata": {
        "id": "wLjIkOmFBM8X"
      },
      "source": [
        "#Importing the  matplotlib library\n",
        "import matplotlib.pyplot as plt"
      ],
      "execution_count": null,
      "outputs": []
    },
    {
      "cell_type": "code",
      "metadata": {
        "id": "W0oANwHwBM8X"
      },
      "source": [
        "#Function plot and print the confusion matrix\n",
        "def plot_confusion_matrix(cm, classes,\n",
        "                          normalize=False,\n",
        "                          title='Confusion matrix',\n",
        "                          cmap=plt.cm.Blues):\n",
        "    \"\"\"\n",
        "    See full source and example: \n",
        "    http://scikit-learn.org/stable/auto_examples/model_selection/plot_confusion_matrix.html\n",
        "    \n",
        "    This function prints and plots the confusion matrix.\n",
        "    Normalization can be applied by setting `normalize=True`.\n",
        "    \"\"\"\n",
        "    plt.imshow(cm, interpolation='nearest', cmap=cmap)\n",
        "    plt.title(title)\n",
        "    plt.colorbar()\n",
        "    tick_marks = np.arange(len(classes))\n",
        "    plt.xticks(tick_marks, classes, rotation=45)\n",
        "    plt.yticks(tick_marks, classes)\n",
        "\n",
        "    if normalize:\n",
        "        cm = cm.astype('float') / cm.sum(axis=1)[:, np.newaxis]\n",
        "        print(\"Normalized confusion matrix\")\n",
        "    else:\n",
        "        print('Confusion matrix, without normalization')\n",
        "\n",
        "    thresh = cm.max() / 2.\n",
        "    for i, j in itertools.product(range(cm.shape[0]), range(cm.shape[1])):\n",
        "        plt.text(j, i, cm[i, j],\n",
        "                 horizontalalignment=\"center\",\n",
        "                 color=\"white\" if cm[i, j] > thresh else \"black\")\n",
        "\n",
        "    plt.tight_layout()\n",
        "    plt.ylabel('True label')\n",
        "    plt.xlabel('Predicted label')"
      ],
      "execution_count": null,
      "outputs": []
    },
    {
      "cell_type": "markdown",
      "metadata": {
        "id": "TlHm8WumBM8Y"
      },
      "source": [
        "### MultinomialNB Algorithm"
      ]
    },
    {
      "cell_type": "code",
      "metadata": {
        "id": "hBVu3123BM8Y"
      },
      "source": [
        "\n",
        "#Importing the  MultinomialNB classifier\n",
        "from sklearn.naive_bayes import MultinomialNB\n",
        "classifier=MultinomialNB()"
      ],
      "execution_count": null,
      "outputs": []
    },
    {
      "cell_type": "code",
      "metadata": {
        "id": "jegxn_qVBM8Y"
      },
      "source": [
        "from sklearn import metrics\n",
        "import numpy as np\n",
        "import itertools"
      ],
      "execution_count": null,
      "outputs": []
    },
    {
      "cell_type": "code",
      "metadata": {
        "colab": {
          "base_uri": "https://localhost:8080/"
        },
        "id": "KDZtB1M7BM8Z",
        "outputId": "5f91b115-eeeb-4c63-aca6-0ef9a97871dd"
      },
      "source": [
        "\n",
        "classifier.fit(X_train, y_train)\n",
        "pred = classifier.predict(X_test)\n",
        "score = metrics.accuracy_score(y_test, pred)\n",
        "print(\"accuracy:   %0.3f\" % score)\n",
        "cm = metrics.confusion_matrix(y_test, pred)\n",
        "plot_confusion_matrix(cm, classes=['FAKE', 'REAL'])"
      ],
      "execution_count": null,
      "outputs": [
        {
          "output_type": "stream",
          "text": [
            "accuracy:   0.900\n",
            "Confusion matrix, without normalization\n"
          ],
          "name": "stdout"
        },
        {
          "output_type": "display_data",
          "data": {
            "image/png": "[encoded data removed]",
            "text/plain": [
              "<Figure size 432x288 with 2 Axes>"
            ]
          },
          "metadata": {
            "tags": [],
            "needs_background": "light"
          }
        }
      ]
    },
    {
      "cell_type": "code",
      "metadata": {
        "colab": {
          "base_uri": "https://localhost:8080/"
        },
        "id": "s4sLIZa_BM8Z",
        "outputId": "a0d4ba91-8277-4101-c7be-8e65cbe1a544"
      },
      "source": [
        "#Accuracy of the MultinomialNB classifier\n",
        "classifier.fit(X_train, y_train)\n",
        "pred = classifier.predict(X_test)\n",
        "score = metrics.accuracy_score(y_test, pred)\n",
        "score"
      ],
      "execution_count": null,
      "outputs": [
        {
          "output_type": "execute_result",
          "data": {
            "text/plain": [
              "0.899917149958575"
            ]
          },
          "metadata": {
            "tags": []
          },
          "execution_count": 40
        }
      ]
    },
    {
      "cell_type": "code",
      "metadata": {
        "colab": {
          "base_uri": "https://localhost:8080/"
        },
        "id": "uV5C31qABM8Z",
        "outputId": "ab9f5e71-f3a5-448e-93f9-b9f2c77d4b63"
      },
      "source": [
        "y_train.shape"
      ],
      "execution_count": null,
      "outputs": [
        {
          "output_type": "execute_result",
          "data": {
            "text/plain": [
              "(12250,)"
            ]
          },
          "metadata": {
            "tags": []
          },
          "execution_count": 41
        }
      ]
    },
    {
      "cell_type": "markdown",
      "metadata": {
        "id": "g9UiQElTBM8a"
      },
      "source": [
        "### Passive Aggressive Classifier Algorithm"
      ]
    },
    {
      "cell_type": "code",
      "metadata": {
        "id": "WcLWjcKgBM8a"
      },
      "source": [
        "#Importing the PassiveAggressiveClassifier\n",
        "from sklearn.linear_model import PassiveAggressiveClassifier\n",
        "linear_clf = PassiveAggressiveClassifier(n_iter_no_change=50)"
      ],
      "execution_count": null,
      "outputs": []
    },
    {
      "cell_type": "code",
      "metadata": {
        "colab": {
          "base_uri": "https://localhost:8080/",
          "height": 345
        },
        "id": "QR9cLo94BM8a",
        "outputId": "e52c0276-79c7-404c-c71c-560fa2994f07"
      },
      "source": [
        "linear_clf.fit(X_train, y_train)\n",
        "pred = linear_clf.predict(X_test)\n",
        "score = metrics.accuracy_score(y_test, pred)\n",
        "print(\"accuracy:   %0.3f\" % score)\n",
        "cm = metrics.confusion_matrix(y_test, pred)\n",
        "plot_confusion_matrix(cm, classes=['FAKE Data', 'REAL Data'])"
      ],
      "execution_count": null,
      "outputs": [
        {
          "output_type": "stream",
          "text": [
            "accuracy:   0.950\n",
            "Confusion matrix, without normalization\n"
          ],
          "name": "stdout"
        },
        {
          "output_type": "display_data",
          "data": {
            "image/png": "[encoded data removed]",
            "text/plain": [
              "<Figure size 432x288 with 2 Axes>"
            ]
          },
          "metadata": {
            "tags": [],
            "needs_background": "light"
          }
        }
      ]
    },
    {
      "cell_type": "markdown",
      "metadata": {
        "id": "2mwMr9ZdBM8b"
      },
      "source": [
        "### Multinomial Classifier with Hyperparameter"
      ]
    },
    {
      "cell_type": "code",
      "metadata": {
        "id": "g-hN4mcWBM8b"
      },
      "source": [
        "classifier=MultinomialNB(alpha=0.1)"
      ],
      "execution_count": null,
      "outputs": []
    },
    {
      "cell_type": "code",
      "metadata": {
        "colab": {
          "base_uri": "https://localhost:8080/"
        },
        "id": "m-3wxKyxBM8b",
        "outputId": "0d838102-3b86-4d4b-bd11-31b5eab9b5d0"
      },
      "source": [
        "previous_score=0\n",
        "for alpha in np.arange(0,1,0.1):\n",
        "    sub_classifier=MultinomialNB(alpha=alpha)\n",
        "    sub_classifier.fit(X_train,y_train)\n",
        "    y_pred=sub_classifier.predict(X_test)\n",
        "    score = metrics.accuracy_score(y_test, y_pred)\n",
        "    if score>previous_score:\n",
        "        classifier=sub_classifier\n",
        "    print(\"Alpha: {}, Score : {}\".format(alpha,score))"
      ],
      "execution_count": null,
      "outputs": [
        {
          "output_type": "stream",
          "text": [
            "/usr/local/lib/python3.7/dist-packages/sklearn/naive_bayes.py:509: UserWarning: alpha too small will result in numeric errors, setting alpha = 1.0e-10\n",
            "  'setting alpha = %.1e' % _ALPHA_MIN)\n"
          ],
          "name": "stderr"
        },
        {
          "output_type": "stream",
          "text": [
            "Alpha: 0.0, Score : 0.9022369511184756\n",
            "Alpha: 0.1, Score : 0.9017398508699255\n",
            "Alpha: 0.2, Score : 0.9020712510356255\n",
            "Alpha: 0.30000000000000004, Score : 0.9022369511184756\n",
            "Alpha: 0.4, Score : 0.9020712510356255\n",
            "Alpha: 0.5, Score : 0.9014084507042254\n",
            "Alpha: 0.6000000000000001, Score : 0.9015741507870754\n",
            "Alpha: 0.7000000000000001, Score : 0.9012427506213753\n",
            "Alpha: 0.8, Score : 0.9009113504556753\n",
            "Alpha: 0.9, Score : 0.9005799502899752\n"
          ],
          "name": "stdout"
        }
      ]
    },
    {
      "cell_type": "code",
      "metadata": {
        "id": "FZ7Q7ecNBM8c"
      },
      "source": [
        "#Get Features names\n",
        "feature_names = tfidf_v.get_feature_names()"
      ],
      "execution_count": null,
      "outputs": []
    },
    {
      "cell_type": "code",
      "metadata": {
        "colab": {
          "base_uri": "https://localhost:8080/"
        },
        "id": "919PCLATBM8c",
        "outputId": "d4515288-e9d1-486d-c250-1e0cf5d8a07b"
      },
      "source": [
        "classifier.coef_[0]"
      ],
      "execution_count": null,
      "outputs": [
        {
          "output_type": "stream",
          "text": [
            "/usr/local/lib/python3.7/dist-packages/sklearn/utils/deprecation.py:101: FutureWarning: Attribute coef_ was deprecated in version 0.24 and will be removed in 1.1 (renaming of 0.26).\n",
            "  warnings.warn(msg, category=FutureWarning)\n"
          ],
          "name": "stderr"
        },
        {
          "output_type": "execute_result",
          "data": {
            "text/plain": [
              "array([-9.52147382, -8.98567005, -8.75019038, ..., -9.00768675,\n",
              "       -8.29304531, -8.47560634])"
            ]
          },
          "metadata": {
            "tags": []
          },
          "execution_count": 47
        }
      ]
    },
    {
      "cell_type": "code",
      "metadata": {
        "colab": {
          "base_uri": "https://localhost:8080/"
        },
        "id": "ZCCD5h7XBM8c",
        "outputId": "2c7b6980-f283-4979-f525-c992991524de"
      },
      "source": [
        "#Most real names\n",
        "sorted(zip(classifier.coef_[0], feature_names), reverse=True)[:20]"
      ],
      "execution_count": null,
      "outputs": [
        {
          "output_type": "stream",
          "text": [
            "/usr/local/lib/python3.7/dist-packages/sklearn/utils/deprecation.py:101: FutureWarning: Attribute coef_ was deprecated in version 0.24 and will be removed in 1.1 (renaming of 0.26).\n",
            "  warnings.warn(msg, category=FutureWarning)\n"
          ],
          "name": "stderr"
        },
        {
          "output_type": "execute_result",
          "data": {
            "text/plain": [
              "[(-5.400573176146374, 'clinton'),\n",
              " (-5.504449523154856, 'trump'),\n",
              " (-5.689699395630465, 'hillari'),\n",
              " (-5.927658316663332, 'us'),\n",
              " (-5.943924155634382, 'elect'),\n",
              " (-6.141141898356725, 'peopl'),\n",
              " (-6.153679149791046, 'vote'),\n",
              " (-6.1855372689534684, 'state'),\n",
              " (-6.209385038898738, 'email'),\n",
              " (-6.231070569259119, 'one'),\n",
              " (-6.304754452471091, 'hillari clinton'),\n",
              " (-6.30763946084777, 'fbi'),\n",
              " (-6.325864550609382, 'would'),\n",
              " (-6.334934576217139, 'like'),\n",
              " (-6.373788650596871, 'american'),\n",
              " (-6.392869520601681, 'time'),\n",
              " (-6.398029580588211, 'war'),\n",
              " (-6.415258514684247, 'world'),\n",
              " (-6.450564452209334, 'year'),\n",
              " (-6.459455119306126, 'octob')]"
            ]
          },
          "metadata": {
            "tags": []
          },
          "execution_count": 48
        }
      ]
    },
    {
      "cell_type": "code",
      "metadata": {
        "colab": {
          "base_uri": "https://localhost:8080/"
        },
        "id": "WlyAg4TZBM8d",
        "outputId": "79e1c607-d957-4ee7-94c1-06b42c95b6d7"
      },
      "source": [
        "#Most fake names\n",
        "sorted(zip(classifier.coef_[0], feature_names))[:5000]"
      ],
      "execution_count": null,
      "outputs": [
        {
          "output_type": "stream",
          "text": [
            "/usr/local/lib/python3.7/dist-packages/sklearn/utils/deprecation.py:101: FutureWarning: Attribute coef_ was deprecated in version 0.24 and will be removed in 1.1 (renaming of 0.26).\n",
            "  warnings.warn(msg, category=FutureWarning)\n"
          ],
          "name": "stderr"
        },
        {
          "output_type": "execute_result",
          "data": {
            "text/plain": [
              "[(-10.991740188222842, 'brief post'),\n",
              " (-10.991740188222842, 'follow pam'),\n",
              " (-10.991740188222842, 'follow pam key'),\n",
              " (-10.991740188222842, 'gold medal'),\n",
              " (-10.991740188222842, 'gorsuch'),\n",
              " (-10.991740188222842, 'judg gorsuch'),\n",
              " (-10.991740188222842, 'key twitter'),\n",
              " (-10.991740188222842, 'key twitter pamkeynen'),\n",
              " (-10.991740188222842, 'morn brief'),\n",
              " (-10.991740188222842, 'mr ail'),\n",
              " (-10.991740188222842, 'mr bannon'),\n",
              " (-10.991740188222842, 'mr castro'),\n",
              " (-10.991740188222842, 'mr christi'),\n",
              " (-10.991740188222842, 'mr cruz'),\n",
              " (-10.991740188222842, 'mr de'),\n",
              " (-10.991740188222842, 'mr flynn'),\n",
              " (-10.991740188222842, 'mr kushner'),\n",
              " (-10.991740188222842, 'mr roof'),\n",
              " (-10.991740188222842, 'mr sander'),\n",
              " (-10.991740188222842, 'mr scott'),\n",
              " (-10.991740188222842, 'mr session'),\n",
              " (-10.991740188222842, 'mr spicer'),\n",
              " (-10.991740188222842, 'mr xi'),\n",
              " (-10.991740188222842, 'ms trump'),\n",
              " (-10.991740188222842, 'pam key'),\n",
              " (-10.991740188222842, 'pam key twitter'),\n",
              " (-10.991740188222842, 'pamkeynen'),\n",
              " (-10.991740188222842, 'pruitt'),\n",
              " (-10.991740188222842, 'support mr trump'),\n",
              " (-10.991740188222842, 'tillerson'),\n",
              " (-10.991740188222842, 'twitter pamkeynen'),\n",
              " (-10.962635234984457, 'said ms'),\n",
              " (-10.96180919070424, 'month mr'),\n",
              " (-10.951857305722905, 'spicer'),\n",
              " (-10.95167423127471, 'sean spicer'),\n",
              " (-10.950761100442405, 'mr penc'),\n",
              " (-10.948295827758246, 'weekday eastern'),\n",
              " (-10.932653686846198, 'nune'),\n",
              " (-10.93011808467349, 'said mr trump'),\n",
              " (-10.9281496514925, 'mr kerri'),\n",
              " (-10.924273962322708, 'year mr'),\n",
              " (-10.91025111971059, 'mr netanyahu'),\n",
              " (-10.901995011313847, 'mr trump campaign'),\n",
              " (-10.892047230727007, 'like mr'),\n",
              " (-10.874578120868755, 'mr assad'),\n",
              " (-10.871167425688594, 'meet mr'),\n",
              " (-10.84980381734303, 'even mr'),\n",
              " (-10.845577705377908, 'day mr'),\n",
              " (-10.84379707351417, 'devo'),\n",
              " (-10.84162276101474, 'critic mr'),\n",
              " (-10.833069170413712, 'question mr'),\n",
              " (-10.832511623265763, 'phelp'),\n",
              " (-10.828328113574727, 'weekday'),\n",
              " (-10.824706235000182, 'appeal court'),\n",
              " (-10.823120371473273, 'show mr'),\n",
              " (-10.821296218979043, 'state mr'),\n",
              " (-10.805185083075425, 'mr ryan'),\n",
              " (-10.803786446537094, 'support mr'),\n",
              " (-10.801119208663389, 'haley'),\n",
              " (-10.789282836327152, 'presid mr'),\n",
              " (-10.781220524398641, 'espn'),\n",
              " (-10.773268199671964, 'said news'),\n",
              " (-10.772995717041848, 'said still'),\n",
              " (-10.772665449600828, 'whether mr'),\n",
              " (-10.767443195665301, 'breitbart news daili'),\n",
              " (-10.765110380137038, 'kushner'),\n",
              " (-10.764949011104704, 'mr obama said'),\n",
              " (-10.764342783839409, 'broadway'),\n",
              " (-10.763731734141416, 'jare kushner'),\n",
              " (-10.763152429186183, 'ask mr'),\n",
              " (-10.749724813563642, 'report breitbart'),\n",
              " (-10.74847763472788, 'compani said'),\n",
              " (-10.745796651185918, 'marlow'),\n",
              " (-10.738860491288873, 'mr trump said'),\n",
              " (-10.732123317018749, 'matti'),\n",
              " (-10.726560030572129, 'volkswagen'),\n",
              " (-10.726084372768916, 'said dr'),\n",
              " (-10.726006070640459, 'one mr'),\n",
              " (-10.718181192818538, 'call mr'),\n",
              " (-10.717440210704025, 'interview mr'),\n",
              " (-10.710247422169084, 'mr trump mr'),\n",
              " (-10.706937648097828, 'playoff'),\n",
              " (-10.704207776178151, 'freedom caucu'),\n",
              " (-10.702658594428764, 'week mr'),\n",
              " (-10.698579788472417, 'nation secur council'),\n",
              " (-10.698365033971928, 'american offici'),\n",
              " (-10.689963215052938, 'mr erdogan'),\n",
              " (-10.689422568658994, 'super bowl'),\n",
              " (-10.68656735240243, 'major leader'),\n",
              " (-10.68042096139947, 'jeff session'),\n",
              " (-10.674257109250036, 'time mr'),\n",
              " (-10.673300900916685, 'breitbart texa'),\n",
              " (-10.668411507871289, 'campaign mr'),\n",
              " (-10.666903762212485, 'work mr'),\n",
              " (-10.642826914413968, 'basketbal'),\n",
              " (-10.638770296255258, 'stephen bannon'),\n",
              " (-10.631428568707896, 'calif'),\n",
              " (-10.621056615610964, 'breitbart com'),\n",
              " (-10.615666946820829, 'condit anonym'),\n",
              " (-10.615454655647943, 'twitter post'),\n",
              " (-10.606549067039952, 'siriusxm'),\n",
              " (-10.606084011216366, 'th street'),\n",
              " (-10.593482809918484, 'filibust'),\n",
              " (-10.586878044396627, 'tenni'),\n",
              " (-10.581329889860632, 'overhaul'),\n",
              " (-10.579148578771655, 'news daili'),\n",
              " (-10.575055551764121, 'mr bush'),\n",
              " (-10.552118570293883, 'mcconnel'),\n",
              " (-10.549105367070071, 'border wall'),\n",
              " (-10.548308808373195, 'declin comment'),\n",
              " (-10.543191602211008, 'opera'),\n",
              " (-10.53188615556629, 'sidewalk'),\n",
              " (-10.530691768253948, 'told breitbart'),\n",
              " (-10.528344034602744, 'said even'),\n",
              " (-10.52763033320621, 'said email'),\n",
              " (-10.527380211980052, 'wrote twitter'),\n",
              " (-10.518423890282188, 'monday night'),\n",
              " (-10.517312728885697, 'detaine'),\n",
              " (-10.515665546072075, 'nytim com'),\n",
              " (-10.512555937972017, 'griffin'),\n",
              " (-10.510639121941269, 'fisher'),\n",
              " (-10.508618892468983, 'cellphon'),\n",
              " (-10.500604618610671, 'intellig committe'),\n",
              " (-10.499954608805442, 'elect mr'),\n",
              " (-10.490371304201876, 'taiwan'),\n",
              " (-10.485876795296502, 'trump mr'),\n",
              " (-10.485198523895408, 'say mr'),\n",
              " (-10.46888224075932, 'milo'),\n",
              " (-10.468682621225518, 'said believ'),\n",
              " (-10.466607810406057, 'broadli'),\n",
              " (-10.465506626945544, 'nytim'),\n",
              " (-10.464210341821197, 'blasio'),\n",
              " (-10.464210341821197, 'de blasio'),\n",
              " (-10.45909553293221, 'metropolitan'),\n",
              " (-10.455283910362171, 'vote mr'),\n",
              " (-10.454951598076645, 'well fargo'),\n",
              " (-10.453657242363363, 'said refer'),\n",
              " (-10.447414449361053, 'south korean'),\n",
              " (-10.443157342778083, 'said recent'),\n",
              " (-10.434767027545442, 'abe'),\n",
              " (-10.431785916650872, 'linger'),\n",
              " (-10.43175491875733, 'said mr'),\n",
              " (-10.43080488078536, 'state said'),\n",
              " (-10.429290788829634, 'last summer'),\n",
              " (-10.42822242934589, 'trump inaugur'),\n",
              " (-10.425129243772293, 'hous offici'),\n",
              " (-10.424721867509229, 'said thursday'),\n",
              " (-10.423339306918551, 'time said'),\n",
              " (-10.422856114268837, 'said hope'),\n",
              " (-10.42122644099413, 'white hous offici'),\n",
              " (-10.418690465997049, 'said presid'),\n",
              " (-10.416521803976808, 'fargo'),\n",
              " (-10.394038733986722, 'subway'),\n",
              " (-10.389979595990647, 'priebu'),\n",
              " (-10.389782814133113, 'recent week'),\n",
              " (-10.388789422543981, 'san diego'),\n",
              " (-10.38842109626488, 'nation secur advis'),\n",
              " (-10.38505530482586, 'pelosi'),\n",
              " (-10.378477563184633, 'repeal replac'),\n",
              " (-10.368599837270898, 'ahmad'),\n",
              " (-10.367402905792908, 'year said'),\n",
              " (-10.36735299140334, 'said never'),\n",
              " (-10.359786928392923, 'quarterback'),\n",
              " (-10.355796295465659, 'hbo'),\n",
              " (-10.354980737563501, 'said time'),\n",
              " (-10.341057955885361, 'bradi'),\n",
              " (-10.337314980652234, 'secur advis'),\n",
              " (-10.3365261738283, 'cardin'),\n",
              " (-10.320185027641703, 'said said'),\n",
              " (-10.31939675915416, 'speaker paul'),\n",
              " (-10.31939675915416, 'speaker paul ryan'),\n",
              " (-10.319042686894294, 'staff member'),\n",
              " (-10.318083856912581, 'feb'),\n",
              " (-10.316248390698659, 'hawkin'),\n",
              " (-10.315664908431325, 'mr johnson'),\n",
              " (-10.31551111077133, 'dec'),\n",
              " (-10.315100470289492, 'soccer'),\n",
              " (-10.312049798543583, 'counterterror'),\n",
              " (-10.3012391068938, 'dope'),\n",
              " (-10.300676003630937, 'cuomo'),\n",
              " (-10.298266442103026, 'debut'),\n",
              " (-10.29682876152986, 'portrait'),\n",
              " (-10.295949705476964, 'depart said'),\n",
              " (-10.295690299429863, 'trump tower'),\n",
              " (-10.294730248553494, 'rio'),\n",
              " (-10.292662568228248, 'spokesman said'),\n",
              " (-10.292586731827345, 'andi'),\n",
              " (-10.29175402348919, 'nanci'),\n",
              " (-10.28971493366195, 'tournament'),\n",
              " (-10.287038787840688, 'capitol hill'),\n",
              " (-10.284213644182552, 'said last'),\n",
              " (-10.283341483903687, 'presumpt'),\n",
              " (-10.281065388190076, 'presid donald'),\n",
              " (-10.28043090886983, 'new administr'),\n",
              " (-10.280364065215199, 'presid donald trump'),\n",
              " (-10.279044834922137, 'baker'),\n",
              " (-10.278456312251024, 'diego'),\n",
              " (-10.27835456866146, 'trump transit'),\n",
              " (-10.273215811212314, 'said mani'),\n",
              " (-10.268035327603199, 'tax return'),\n",
              " (-10.267440877347276, 'hous press'),\n",
              " (-10.266640758614127, 'white hous press'),\n",
              " (-10.261370585017458, 'white voter'),\n",
              " (-10.261195617658393, 'tourism'),\n",
              " (-10.259440450750098, 'schumer'),\n",
              " (-10.257452226737117, 'said monday'),\n",
              " (-10.256817497893149, 'mall'),\n",
              " (-10.255376526195539, 'mississippi'),\n",
              " (-10.249314805700918, 'buse'),\n",
              " (-10.244595279321203, 'administr offici'),\n",
              " (-10.24399317101182, 'franchis'),\n",
              " (-10.239226798988643, 'bronx'),\n",
              " (-10.23798552520213, 'airbnb'),\n",
              " (-10.237644784183301, 'yiannopoulo'),\n",
              " (-10.236433310919674, 'ambul'),\n",
              " (-10.230348591880682, 'marathon'),\n",
              " (-10.228702468111756, 'checkpoint'),\n",
              " (-10.227361745784876, 'new year'),\n",
              " (-10.224010253096653, 'championship'),\n",
              " (-10.222571914851377, 'laura'),\n",
              " (-10.219712342680472, 'arena'),\n",
              " (-10.213765225267952, 'brazilian'),\n",
              " (-10.213352820810586, 'said wednesday'),\n",
              " (-10.211459115449655, 'beyonc'),\n",
              " (-10.20999321213285, 'wore'),\n",
              " (-10.208845546799997, 'todd'),\n",
              " (-10.208818124441123, 'fla'),\n",
              " (-10.206960405653822, 'depart homeland'),\n",
              " (-10.206960405653822, 'depart homeland secur'),\n",
              " (-10.20591195176519, 'assail'),\n",
              " (-10.203131266758678, 'lament'),\n",
              " (-10.199447167957914, 'border patrol'),\n",
              " (-10.199121495901096, 'state attorney'),\n",
              " (-10.196184983680446, 'sharehold'),\n",
              " (-10.194801186652708, 'silicon valley'),\n",
              " (-10.191535105809399, 'new england'),\n",
              " (-10.185652387165463, 'defer'),\n",
              " (-10.181110454177217, 'medicaid'),\n",
              " (-10.18020396460941, 'run mate'),\n",
              " (-10.177836726153776, 'american worker'),\n",
              " (-10.176403711384307, 'plead guilti'),\n",
              " (-10.175301404123177, 'thursday night'),\n",
              " (-10.173389909969664, 'christi'),\n",
              " (-10.17272434656314, 'neil'),\n",
              " (-10.172346182151868, 'said could'),\n",
              " (-10.170689728632617, 'ail'),\n",
              " (-10.170536284013416, 'downtown'),\n",
              " (-10.168616931684893, 'comedi'),\n",
              " (-10.167310169420201, 'regulatori'),\n",
              " (-10.166715251130555, 'mnuchin'),\n",
              " (-10.166268297909717, 'cousin'),\n",
              " (-10.159880224455879, 'marvel'),\n",
              " (-10.15443442756726, 'recent day'),\n",
              " (-10.151530298550638, 'pam'),\n",
              " (-10.146790424058844, 'state senat'),\n",
              " (-10.14657155937211, 'sharpli'),\n",
              " (-10.143529521059802, 'two men'),\n",
              " (-10.140599857514697, 'graham'),\n",
              " (-10.138085582858084, 'recept'),\n",
              " (-10.135505668019421, 'theresa'),\n",
              " (-10.129076132238756, 'predominantli'),\n",
              " (-10.12832510370823, 'gestur'),\n",
              " (-10.12700037073111, 'ambiti'),\n",
              " (-10.122834546903077, 'flew'),\n",
              " (-10.12268464350781, 'trump first'),\n",
              " (-10.120252200882039, 'breitbart news'),\n",
              " (-10.119262219628228, 'galleri'),\n",
              " (-10.118715803182038, 'ken'),\n",
              " (-10.118180941050058, 'said ad'),\n",
              " (-10.116481108307207, 'gunman'),\n",
              " (-10.11644414435657, 'kentucki'),\n",
              " (-10.114817892778026, 'rais question'),\n",
              " (-10.11284291542422, 'istanbul'),\n",
              " (-10.110729809019066, 'vigor'),\n",
              " (-10.1086512367808, 'two peopl'),\n",
              " (-10.108154683437931, 'west bank'),\n",
              " (-10.107987219935058, 'said need'),\n",
              " (-10.106360082773508, 'commut'),\n",
              " (-10.106018920290817, 'silicon'),\n",
              " (-10.104153420930851, 'said like'),\n",
              " (-10.103887559434849, 'felt like'),\n",
              " (-10.102144004098943, 'expert say'),\n",
              " (-10.100986195777686, 'univers california'),\n",
              " (-10.098593963304273, 'atlanta'),\n",
              " (-10.098516750140817, 'chef'),\n",
              " (-10.095471126366741, 'bench'),\n",
              " (-10.095439927219767, 'inspector'),\n",
              " (-10.094179919696364, 'medal'),\n",
              " (-10.09325634139481, 'said friday'),\n",
              " (-10.09063283150548, 'mr putin'),\n",
              " (-10.089223383625146, 'album'),\n",
              " (-10.088417963117172, 'xi'),\n",
              " (-10.0866482309794, 'castro'),\n",
              " (-10.084838033925365, 'jare'),\n",
              " (-10.081288901977121, 'opioid'),\n",
              " (-10.080816918493168, 'oscar'),\n",
              " (-10.080793997783555, 'contemporari'),\n",
              " (-10.080352646895532, 'contenti'),\n",
              " (-10.079559682445074, 'law firm'),\n",
              " (-10.078838821820446, 'sudan'),\n",
              " (-10.078128944111748, 'tall'),\n",
              " (-10.077825938810491, 'luxuri'),\n",
              " (-10.077658404042884, 'pittsburgh'),\n",
              " (-10.077405067419344, 'undocu immigr'),\n",
              " (-10.077396231951807, 'murray'),\n",
              " (-10.07621969108259, 'memoir'),\n",
              " (-10.06903248533627, 'said also'),\n",
              " (-10.06836304024101, 'curb'),\n",
              " (-10.066811085083582, 'oakland'),\n",
              " (-10.06651731021711, 'stanford'),\n",
              " (-10.060861091219387, 'would help'),\n",
              " (-10.06076806474836, 'groceri'),\n",
              " (-10.057501879031772, 'express concern'),\n",
              " (-10.05438543228311, 'trump white'),\n",
              " (-10.054008395903027, 'report said'),\n",
              " (-10.053943943433898, 'said think'),\n",
              " (-10.05113583526922, 'fare'),\n",
              " (-10.050784392092783, 'nightclub'),\n",
              " (-10.049815375760836, 'underscor'),\n",
              " (-10.049813460269004, 'trump organ'),\n",
              " (-10.047606359845362, 'mr comey'),\n",
              " (-10.046730629715556, 'workplac'),\n",
              " (-10.045704048050302, 'pink'),\n",
              " (-10.045640159857593, 'heel'),\n",
              " (-10.044400560955825, 'musk'),\n",
              " (-10.044234862422137, 'said want'),\n",
              " (-10.044134489807368, 'issu statement'),\n",
              " (-10.0406904028921, 'could make'),\n",
              " (-10.040588085170643, 'detent'),\n",
              " (-10.03946019148946, 'hong kong'),\n",
              " (-10.038838737732053, 'play role'),\n",
              " (-10.038147966770532, 'stall'),\n",
              " (-10.03747956311438, 'said tuesday'),\n",
              " (-10.036142245068211, 'reilli'),\n",
              " (-10.034195950875779, 'suspens'),\n",
              " (-10.03259038255292, 'essay'),\n",
              " (-10.031436273970405, 'marco'),\n",
              " (-10.031061526147395, 'campus'),\n",
              " (-10.030645247932306, 'pregnanc'),\n",
              " (-10.028006937202319, 'polic chief'),\n",
              " (-10.026582230933077, 'perri'),\n",
              " (-10.026153422421089, 'lieuten'),\n",
              " (-10.023191381260817, 'parad'),\n",
              " (-10.023170220345978, 'swept'),\n",
              " (-10.023035761209183, 'news organ'),\n",
              " (-10.021745569670504, 'fenc'),\n",
              " (-10.019634654754812, 'said peopl'),\n",
              " (-10.01868912430668, 'toy'),\n",
              " (-10.018233569754795, 'hong'),\n",
              " (-10.016513757038236, 'buyer'),\n",
              " (-10.01649797196187, 'trauma'),\n",
              " (-10.016374183762212, 'koch'),\n",
              " (-10.015167785625144, 'percent percent'),\n",
              " (-10.014178674155483, 'girlfriend'),\n",
              " (-10.01417321968819, 'auction'),\n",
              " (-10.012542480931014, 'modest'),\n",
              " (-10.01204458883913, 'desk'),\n",
              " (-10.011544012933149, 'hub'),\n",
              " (-10.011207168420318, 'kong'),\n",
              " (-10.010421695775518, 'saturday night'),\n",
              " (-10.009727199251014, 'plaintiff'),\n",
              " (-10.009067977069856, 'simon'),\n",
              " (-10.008835764085903, 'nod'),\n",
              " (-10.007375498081215, 'propel'),\n",
              " (-10.00717426003638, 'angel time'),\n",
              " (-10.00656747151912, 'lo angel time'),\n",
              " (-10.005538111174744, 'stadium'),\n",
              " (-10.00360753316732, 'bolster'),\n",
              " (-10.003061725212312, 'kitchen'),\n",
              " (-10.002296909127558, 'turmoil'),\n",
              " (-10.000950202867235, 'alexand'),\n",
              " (-10.000546568004562, 'presid said'),\n",
              " (-9.999990668726156, 'pleasur'),\n",
              " (-9.999369411047903, 'airlin'),\n",
              " (-9.998311556600202, 'motor'),\n",
              " (-9.997585785452745, 'warner'),\n",
              " (-9.996104168812527, 'enrol'),\n",
              " (-9.995279834008889, 'chat'),\n",
              " (-9.993564083630245, 'state offici'),\n",
              " (-9.992692653868511, 'john mccain'),\n",
              " (-9.991873036228595, 'pioneer'),\n",
              " (-9.990913543720328, 'state univers'),\n",
              " (-9.990862505411123, 'wine'),\n",
              " (-9.988119559771363, 'includ one'),\n",
              " (-9.987800947677961, 'connecticut'),\n",
              " (-9.985604347084715, 'circuit'),\n",
              " (-9.984833096140548, 'thick'),\n",
              " (-9.984579676099385, 'walter'),\n",
              " (-9.984352527327507, 'caucu'),\n",
              " (-9.983749117303649, 'baltimor'),\n",
              " (-9.98364011859352, 'blunt'),\n",
              " (-9.98262660403407, 'immigr law'),\n",
              " (-9.980861591568589, 'peopl come'),\n",
              " (-9.978653429273072, 'boom'),\n",
              " (-9.978625944471515, 'rhode'),\n",
              " (-9.977827606014849, 'collin'),\n",
              " (-9.977178462500829, 'columbia'),\n",
              " (-9.977004677554486, 'longstand'),\n",
              " (-9.976987711621224, 'hous speaker'),\n",
              " (-9.976423461727613, 'switzerland'),\n",
              " (-9.973671834069558, 'crackdown'),\n",
              " (-9.971971391613435, 'ian'),\n",
              " (-9.969653832671748, 'predecessor'),\n",
              " (-9.968406013540768, 'charlott'),\n",
              " (-9.968366856472416, 'avenu'),\n",
              " (-9.968339093661532, 'forg'),\n",
              " (-9.962498443749324, 'toronto'),\n",
              " (-9.962415301801366, 'telephon'),\n",
              " (-9.961047799611201, 'pit'),\n",
              " (-9.960182156172806, 'gray'),\n",
              " (-9.95994429278323, 'tourist'),\n",
              " (-9.959158537909532, 'muhammad'),\n",
              " (-9.958598226563833, 'seven year'),\n",
              " (-9.95822763846701, 'le pen'),\n",
              " (-9.957358801708528, 'credit card'),\n",
              " (-9.957251174274612, 'chief execut'),\n",
              " (-9.955877457008294, 'would need'),\n",
              " (-9.953882263746518, 'hous republican'),\n",
              " (-9.951789906074897, 'news confer'),\n",
              " (-9.95155594696571, 'district court'),\n",
              " (-9.950313496659591, 'walker'),\n",
              " (-9.948237887456788, 'maher'),\n",
              " (-9.94792848939926, 'heroin'),\n",
              " (-9.947894348107937, 'unanim'),\n",
              " (-9.947739914191231, 'medicar'),\n",
              " (-9.94762675468126, 'hudson'),\n",
              " (-9.945836876691665, 'indiana'),\n",
              " (-9.944608199055706, 'smuggl'),\n",
              " (-9.944408668473992, 'segreg'),\n",
              " (-9.940166906928678, 'smartphon'),\n",
              " (-9.94013496112197, 'baton'),\n",
              " (-9.939895145523838, 'push back'),\n",
              " (-9.939758765553888, 'loom'),\n",
              " (-9.939497242339357, 'offic said'),\n",
              " (-9.938939483753115, 'could also'),\n",
              " (-9.938290505753848, 'abu'),\n",
              " (-9.937729572084306, 'transit team'),\n",
              " (-9.936667577316125, 'dean'),\n",
              " (-9.935387005087904, 'look back'),\n",
              " (-9.93274196905556, 'drama'),\n",
              " (-9.931512111791303, 'maneuv'),\n",
              " (-9.931478442224595, 'deadlin'),\n",
              " (-9.930136166601345, 'less like'),\n",
              " (-9.930026994171692, 'jerri'),\n",
              " (-9.929014752657281, 'mentor'),\n",
              " (-9.928522821943066, 'secur forc'),\n",
              " (-9.928414195129575, 'battlefield'),\n",
              " (-9.92672250723037, 'actress'),\n",
              " (-9.92599327229816, 'terror attack'),\n",
              " (-9.925764007460067, 'pend'),\n",
              " (-9.925380814458196, 'inmat'),\n",
              " (-9.923647398611221, 'marketplac'),\n",
              " (-9.91914134682233, 'dylan'),\n",
              " (-9.918539496606526, 'la vega'),\n",
              " (-9.918422578022083, 'interrog'),\n",
              " (-9.918192173628993, 'samsung'),\n",
              " (-9.917370674196173, 'knife'),\n",
              " (-9.916832890828847, 'law school'),\n",
              " (-9.914725217307145, 'rico'),\n",
              " (-9.914127329633278, 'tunnel'),\n",
              " (-9.913977362775844, 'veto'),\n",
              " (-9.913678584336838, 'offici say'),\n",
              " (-9.912938682964942, 'depart offici'),\n",
              " (-9.91213798236398, 'cameron'),\n",
              " (-9.911153102257487, 'lane'),\n",
              " (-9.908802172729876, 'brooklyn'),\n",
              " (-9.908468884147343, 'dutch'),\n",
              " (-9.906120557096001, 'trump told'),\n",
              " (-9.905725370442754, 'comedian'),\n",
              " (-9.90521838703067, 'could help'),\n",
              " (-9.904943101706843, 'tel'),\n",
              " (-9.904906340879451, 'news outlet'),\n",
              " (-9.90483367059879, 'say would'),\n",
              " (-9.899501469361365, 'briefli'),\n",
              " (-9.899111993239474, 'said interview'),\n",
              " (-9.898581571742946, 'mate'),\n",
              " (-9.898293875066488, 'baghdad'),\n",
              " (-9.898249816514769, 'homicid'),\n",
              " (-9.896873801838646, 'tesla'),\n",
              " (-9.895638648868038, 'presid bashar'),\n",
              " (-9.89529473907465, 'angela'),\n",
              " (-9.894550996324192, 'airplan'),\n",
              " (-9.89353780201562, 'bankruptci'),\n",
              " (-9.892197539131669, 'three month'),\n",
              " (-9.891113976366631, 'seattl'),\n",
              " (-9.889985667750382, 'therapi'),\n",
              " (-9.889544057572785, 'confin'),\n",
              " (-9.887861345206018, 'oust'),\n",
              " (-9.887492632388648, 'drought'),\n",
              " (-9.886140102225157, 'coat'),\n",
              " (-9.885728280728394, 'bargain'),\n",
              " (-9.88524913919795, 'inherit'),\n",
              " (-9.884614023516292, 'snow'),\n",
              " (-9.88293502998295, 'dine'),\n",
              " (-9.882618035423436, 'merger'),\n",
              " (-9.88240975408633, 'parti leader'),\n",
              " (-9.881952265582179, 'wrestl'),\n",
              " (-9.881263025981077, 'last two'),\n",
              " (-9.881173556981846, 'would come'),\n",
              " (-9.88068135474694, 'bureaucraci'),\n",
              " (-9.880074818271861, 'suburb'),\n",
              " (-9.879384778275881, 'spotlight'),\n",
              " (-9.878136116642885, 'explicitli'),\n",
              " (-9.878110176468489, 'wilson'),\n",
              " (-9.876845007785743, 'musician'),\n",
              " (-9.875468205987529, 'chemic weapon'),\n",
              " (-9.874357304418778, 'news media'),\n",
              " (-9.873111396027594, 'casino'),\n",
              " (-9.87234771440831, 'lengthi'),\n",
              " (-9.872142232636628, 'swift'),\n",
              " (-9.87180380346991, 'mosquito'),\n",
              " (-9.87074047797825, 'certif'),\n",
              " (-9.870444951918032, 'rev'),\n",
              " (-9.870322967771216, 'year sinc'),\n",
              " (-9.870004221668424, 'cafe'),\n",
              " (-9.869507229802267, 'joel'),\n",
              " (-9.86897246493816, 'merit'),\n",
              " (-9.86869578875737, 'vermont'),\n",
              " (-9.868128971266318, 'mateen'),\n",
              " (-9.865911840172743, 'nation convent'),\n",
              " (-9.863349726965556, 'entranc'),\n",
              " (-9.863243063717837, 'hous senat'),\n",
              " (-9.862636632209483, 'flavor'),\n",
              " (-9.861858698705479, 'statut'),\n",
              " (-9.861632631017178, 'obscur'),\n",
              " (-9.861572720764151, 'steel'),\n",
              " (-9.860762173119385, 'lion'),\n",
              " (-9.859615904385667, 'vacat'),\n",
              " (-9.858585142765948, 'beer'),\n",
              " (-9.85815624857202, 'midnight'),\n",
              " (-9.858033518141204, 'loui'),\n",
              " (-9.857380323915628, 'like see'),\n",
              " (-9.854220384738985, 'think go'),\n",
              " (-9.852388498119835, 'supervis'),\n",
              " (-9.851834457059999, 'municip'),\n",
              " (-9.849768746018805, 'said know'),\n",
              " (-9.848138748914584, 'overlook'),\n",
              " (-9.847570122563255, 'roof'),\n",
              " (-9.84746992116036, 'shine'),\n",
              " (-9.846828975492961, 'legislatur'),\n",
              " (-9.846201180460524, 'tenur'),\n",
              " (-9.845858183343537, 'chuck'),\n",
              " (-9.844620667191936, 'polic said'),\n",
              " (-9.844430142150921, 'friendship'),\n",
              " (-9.844378671933278, 'museum'),\n",
              " (-9.843731699222904, 'passport'),\n",
              " (-9.842529281977802, 'month later'),\n",
              " (-9.842426647722109, 'decid whether'),\n",
              " (-9.84216801088599, 'sexual harass'),\n",
              " (-9.841809814226954, 'trump republican'),\n",
              " (-9.841241897260192, 'colombia'),\n",
              " (-9.840806436023177, 'lewi'),\n",
              " (-9.84056690808568, 'two year ago'),\n",
              " (-9.840546345958764, 'six year'),\n",
              " (-9.840424808386011, 'mccarthi'),\n",
              " (-9.839761911102396, 'dispatch'),\n",
              " (-9.839352125447451, 'also includ'),\n",
              " (-9.838594925651828, 'architectur'),\n",
              " (-9.837246986280848, 'rough'),\n",
              " (-9.836525512044616, 'north korean'),\n",
              " (-9.835367756933868, 'resent'),\n",
              " (-9.83448124253265, 'puerto'),\n",
              " (-9.834104660723746, 'parenthood'),\n",
              " (-9.833880240459079, 'franklin'),\n",
              " (-9.832758701271224, 'reloc'),\n",
              " (-9.832152622553172, 'eve'),\n",
              " (-9.831937887479391, 'stack'),\n",
              " (-9.831781243590292, 'bush administr'),\n",
              " (-9.83160509582452, 'subsid'),\n",
              " (-9.831463196648198, 'intercept'),\n",
              " (-9.829773807269968, 'bell'),\n",
              " (-9.827776877464936, 'plan parenthood'),\n",
              " (-9.826809980855906, 'two decad'),\n",
              " (-9.82671731579031, 'junior'),\n",
              " (-9.822481397603573, 'hedg fund'),\n",
              " (-9.82228858675732, 'south china sea'),\n",
              " (-9.820962939968316, 'uber'),\n",
              " (-9.820566608283212, 'decor'),\n",
              " (-9.820550250637424, 'find way'),\n",
              " (-9.820200754713747, 'kill peopl'),\n",
              " (-9.818060763027283, 'feder court'),\n",
              " (-9.816857869788688, 'glad'),\n",
              " (-9.816615039261885, 'competitor'),\n",
              " (-9.816190095909775, 'let us know'),\n",
              " (-9.816038366296862, 'execut director'),\n",
              " (-9.816022549848565, 'scan'),\n",
              " (-9.815658103565113, 'louisiana'),\n",
              " (-9.815285831730847, 'crown'),\n",
              " (-9.81492861603336, 'incent'),\n",
              " (-9.813157262736876, 'peopl said'),\n",
              " (-9.813013424385288, 'lend'),\n",
              " (-9.81274181493443, 'successor'),\n",
              " (-9.811396322024, 'tariff'),\n",
              " (-9.80993825693646, 'spur'),\n",
              " (-9.80961039850764, 'stare'),\n",
              " (-9.808801753146813, 'one reason'),\n",
              " (-9.808099619965333, 'litig'),\n",
              " (-9.807744911839164, 'past week'),\n",
              " (-9.807017169707736, 'mani way'),\n",
              " (-9.805244627894995, 'reassur'),\n",
              " (-9.805103550449276, 'tight'),\n",
              " (-9.803122580740668, 'grate'),\n",
              " (-9.801078590775267, 'inspect'),\n",
              " (-9.799356479157643, 'vega'),\n",
              " (-9.796054824486495, 'southeast'),\n",
              " (-9.795551280692981, 'premier'),\n",
              " (-9.79479379195533, 'elabor'),\n",
              " (-9.794360020584206, 'econom growth'),\n",
              " (-9.794262305372472, 'south china'),\n",
              " (-9.794134310899846, 'hesit'),\n",
              " (-9.793634046017482, 'disney'),\n",
              " (-9.793216082277693, 'intim'),\n",
              " (-9.79302823952593, 'coffe'),\n",
              " (-9.791689754642835, 'entrepreneur'),\n",
              " (-9.791513155775336, 'place like'),\n",
              " (-9.790990813660168, 'time year'),\n",
              " (-9.790868960843921, 'maria'),\n",
              " (-9.79070391038133, 'pant'),\n",
              " (-9.790483760392974, 'auto'),\n",
              " (-9.790325528987072, 'shrink'),\n",
              " (-9.789849887487343, 'absenc'),\n",
              " (-9.789778712811692, 'propon'),\n",
              " (-9.789356513879339, 'vocal'),\n",
              " (-9.789105899385342, 'partli'),\n",
              " (-9.788499999416473, 'new yorker'),\n",
              " (-9.788499999416473, 'yorker'),\n",
              " (-9.788023459472285, 'optimist'),\n",
              " (-9.786435123175812, 'one first'),\n",
              " (-9.78572979185396, 'nerv'),\n",
              " (-9.785195993091214, 'scrambl'),\n",
              " (-9.78484453843936, 'said go'),\n",
              " (-9.784610463737351, 'pride'),\n",
              " (-9.783149422874171, 'bull'),\n",
              " (-9.782739029988521, 'elder'),\n",
              " (-9.781713148262916, 'tuesday night'),\n",
              " (-9.781459342577833, 'greet'),\n",
              " (-9.780781057454666, 'salari'),\n",
              " (-9.778918753437553, 'occasion'),\n",
              " (-9.778867651567802, 'china sea'),\n",
              " (-9.778835930526672, 'meddl'),\n",
              " (-9.77876904438532, 'harbor'),\n",
              " (-9.778724547222632, 'midst'),\n",
              " (-9.776014496159373, 'republican nation'),\n",
              " (-9.775994935903933, 'applaus'),\n",
              " (-9.77589415073472, 'uncertainti'),\n",
              " (-9.775815485112922, 'surgeri'),\n",
              " (-9.774610782384244, 'bowl'),\n",
              " (-9.774118517217545, 'ted cruz'),\n",
              " (-9.773068017991747, 'bolton'),\n",
              " (-9.771961699928951, 'lucki'),\n",
              " (-9.771526494473145, 'pitch'),\n",
              " (-9.771380712789343, 'insurg'),\n",
              " (-9.770912045038605, 'compens'),\n",
              " (-9.769804749292467, 'provis'),\n",
              " (-9.769396364476396, 'tragic'),\n",
              " (-9.767250328649006, 'recent month'),\n",
              " (-9.767063902496222, 'invok'),\n",
              " (-9.766014498554553, 'triumph'),\n",
              " (-9.76591095627846, 'egyptian'),\n",
              " (-9.764867985891637, 'peopl kill'),\n",
              " (-9.764189635016264, 'advisori'),\n",
              " (-9.763725434008338, 'nonprofit'),\n",
              " (-9.763473448533256, 'wield'),\n",
              " (-9.762404125795385, 'capitol'),\n",
              " (-9.761920529204271, 'susan'),\n",
              " (-9.761283812168244, 'safer'),\n",
              " (-9.76116293754229, 'wider'),\n",
              " (-9.760962318417858, 'clarifi'),\n",
              " (-9.760153294808875, 'interior'),\n",
              " (-9.759384185312465, 'tea parti'),\n",
              " (-9.759024822977672, 'would probabl'),\n",
              " (-9.758060097173889, 'twin'),\n",
              " (-9.757921348181576, 'unifi'),\n",
              " (-9.757880071857214, 'philip'),\n",
              " (-9.7570080358209, 'press secretari'),\n",
              " (-9.755729138660376, 'fantast'),\n",
              " (-9.754292760828246, 'bomber'),\n",
              " (-9.754057252640854, 'retali'),\n",
              " (-9.751585542153311, 'subsidi'),\n",
              " (-9.751447348541104, 'lowest'),\n",
              " (-9.750958039142645, 'unpopular'),\n",
              " (-9.750652792623473, 'campaign promis'),\n",
              " (-9.750272085943296, 'alaska'),\n",
              " (-9.749047798727736, 'six month'),\n",
              " (-9.748659775398686, 'compos'),\n",
              " (-9.748171008711166, 'south korea'),\n",
              " (-9.747544062881545, 'delight'),\n",
              " (-9.747184893660213, 'tennesse'),\n",
              " (-9.746302028500482, 'laboratori'),\n",
              " (-9.746226809273347, 'reviv'),\n",
              " (-9.746192778143243, 'uncertain'),\n",
              " (-9.74586249626661, 'care act'),\n",
              " (-9.745854091212271, 'hugh'),\n",
              " (-9.745369513485095, 'klein'),\n",
              " (-9.74534623663944, 'manchest'),\n",
              " (-9.744798702031082, 'membership'),\n",
              " (-9.744404823060185, 'civic'),\n",
              " (-9.744279711407074, 'court rule'),\n",
              " (-9.744014108968088, 'lone'),\n",
              " (-9.743478540537478, 'mental health'),\n",
              " (-9.743314198746802, 'financi crisi'),\n",
              " (-9.743292678449857, 'broader'),\n",
              " (-9.743181416695217, 'captain'),\n",
              " (-9.74274903722712, 'formula'),\n",
              " (-9.74242439321803, 'brush'),\n",
              " (-9.741609542612515, 'ali'),\n",
              " (-9.741040792382123, 'mr obama'),\n",
              " (-9.740516462456341, 'dish'),\n",
              " (-9.740142558829552, 'olymp'),\n",
              " (-9.740041662283451, 'recreat'),\n",
              " (-9.739357612654565, 'dust'),\n",
              " (-9.738810742135925, 'jan'),\n",
              " (-9.73805463622016, 'introduct'),\n",
              " (-9.736990028965847, 'guidanc'),\n",
              " (-9.735991064616584, 'comic'),\n",
              " (-9.735903302146163, 'passeng'),\n",
              " (-9.735815898270808, 'twitter account'),\n",
              " (-9.735766850550096, 'custodi'),\n",
              " (-9.735479984415926, 'identif'),\n",
              " (-9.734817365519932, 'squad'),\n",
              " (-9.734428626188903, 'feder judg'),\n",
              " (-9.733708317249421, 'one point'),\n",
              " (-9.732384549480207, 'upgrad'),\n",
              " (-9.731761642284907, 'sheet'),\n",
              " (-9.73090121923379, 'would give'),\n",
              " (-9.730570685349106, 'houston'),\n",
              " (-9.730545147602916, 'broker'),\n",
              " (-9.730412612020572, 'scalia'),\n",
              " (-9.730278081807304, 'right thing'),\n",
              " (-9.729351899779333, 'obama said'),\n",
              " (-9.728605892465728, 'rail'),\n",
              " (-9.72838032965678, 'flynn'),\n",
              " (-9.725942145375038, 'epidem'),\n",
              " (-9.725125783253727, 'shower'),\n",
              " (-9.724580496352775, 'holder'),\n",
              " (-9.724285378141463, 'afford care'),\n",
              " (-9.724191686807366, 'like mani'),\n",
              " (-9.723419541553513, 'departur'),\n",
              " (-9.723407898620124, 'time sinc'),\n",
              " (-9.723371133343218, 'icon'),\n",
              " (-9.722981033407676, 'afford care act'),\n",
              " (-9.722251045080755, 'chancellor'),\n",
              " (-9.721430820660688, 'breach'),\n",
              " (-9.720992030561295, 'athlet'),\n",
              " (-9.719393935914265, 'afterward'),\n",
              " (-9.71812138644416, 'rain'),\n",
              " (-9.718092509050752, 'cheaper'),\n",
              " (-9.717606475174405, 'reson'),\n",
              " (-9.716454200803913, 'want get'),\n",
              " (-9.715802458784811, 'childhood'),\n",
              " (-9.714770741581818, 'shiit'),\n",
              " (-9.713992760223078, 'reiter'),\n",
              " (-9.713530131230325, 'novel'),\n",
              " (-9.713348332020315, 'spokeswoman'),\n",
              " (-9.713026029819632, 'rubio'),\n",
              " (-9.711976600298613, 'tissu'),\n",
              " (-9.711817175835895, 'obstacl'),\n",
              " (-9.711259762298416, 'shortag'),\n",
              " (-9.70768966985297, 'harvest'),\n",
              " (-9.707442752984996, 'somalia'),\n",
              " (-9.70678109771832, 'intensifi'),\n",
              " (-9.7066484074384, 'trump made'),\n",
              " (-9.706280718883233, 'next month'),\n",
              " (-9.70573667437824, 'crimin charg'),\n",
              " (-9.705616902756994, 'cleveland'),\n",
              " (-9.705212062578145, 'infowar life'),\n",
              " (-9.704317454574051, 'stroke'),\n",
              " (-9.703547330129226, 'nonetheless'),\n",
              " (-9.701727357350485, 'danc'),\n",
              " (-9.70172224226151, 'advocaci'),\n",
              " (-9.701398751860829, 'disciplin'),\n",
              " (-9.700227108223967, 'scope'),\n",
              " (-9.700166257481046, 'skip'),\n",
              " (-9.699076082539841, 'day later'),\n",
              " (-9.69901666689183, 'khan'),\n",
              " (-9.69786063770319, 'specialist'),\n",
              " (-9.69708919067401, 'nobel'),\n",
              " (-9.696967676356904, 'fierc'),\n",
              " (-9.696285471682032, 'may also'),\n",
              " (-9.695807000516853, 'visitor'),\n",
              " (-9.694417203793922, 'insur compani'),\n",
              " (-9.694020465632999, 'willing'),\n",
              " (-9.693378300288323, 'question whether'),\n",
              " (-9.693195617362354, 'john kerri'),\n",
              " (-9.693000013969407, 'santa'),\n",
              " (-9.692512812322413, 'nervou'),\n",
              " (-9.692321283497936, 'freez'),\n",
              " (-9.692175502554733, 'slip'),\n",
              " (-9.69163962966932, 'know go'),\n",
              " (-9.691331177834645, 'regret'),\n",
              " (-9.690679368427205, 'nearbi'),\n",
              " (-9.690426576096337, 'profess'),\n",
              " (-9.689770929168404, 'littl bit'),\n",
              " (-9.68959369578267, 'dawn'),\n",
              " (-9.689531402334481, 'ambit'),\n",
              " (-9.68885386224625, 'sanctuari'),\n",
              " (-9.68873426253842, 'emiss'),\n",
              " (-9.687785430538236, 'retreat'),\n",
              " (-9.687178846660139, 'would requir'),\n",
              " (-9.686817022115003, 'carbon'),\n",
              " (-9.686669246541383, 'democrat republican'),\n",
              " (-9.686630694525705, 'lab'),\n",
              " (-9.685877714805171, 'flint'),\n",
              " (-9.684946889218871, 'reliev'),\n",
              " (-9.684859470273397, 'ir'),\n",
              " (-9.683601803760567, 'unfair'),\n",
              " (-9.683134938076766, 'furiou'),\n",
              " (-9.6817112728972, 'cognit'),\n",
              " (-9.67995932710934, 'bin'),\n",
              " (-9.679021664579215, 'gross'),\n",
              " (-9.677677218060907, 'compli'),\n",
              " (-9.677537342789059, 'clark'),\n",
              " (-9.677086646886872, 'one two'),\n",
              " (-9.677023972260324, 'offshor'),\n",
              " (-9.676318545989167, 'social secur'),\n",
              " (-9.675258823288575, 'elev'),\n",
              " (-9.675218035236867, 'could see'),\n",
              " (-9.6752154001747, 'st centuri'),\n",
              " (-9.674450435008835, 'stark'),\n",
              " (-9.673889108581484, 'ballist'),\n",
              " (-9.673140873092086, 'oliv'),\n",
              " (-9.673103145937064, 'anchor'),\n",
              " (-9.67299674026271, 'kansa'),\n",
              " (-9.672708634353633, 'open door'),\n",
              " (-9.672005419590707, 'bathroom'),\n",
              " (-9.671777802695267, 'jimmi'),\n",
              " (-9.670733046112364, 'sudden'),\n",
              " (-9.670089130831487, 'drove'),\n",
              " (-9.668723857167896, 'christoph'),\n",
              " (-9.668627695303092, 'pipe'),\n",
              " (-9.66855727584159, 'allegi'),\n",
              " (-9.668259643073993, 'howard'),\n",
              " (-9.667089935597183, 'public health'),\n",
              " (-9.666951422882942, 'go go'),\n",
              " (-9.666807354612082, 'antonio'),\n",
              " (-9.666003708915891, 'shore'),\n",
              " (-9.665029133164513, 'phone call'),\n",
              " (-9.664748855790199, 'sever year'),\n",
              " (-9.663700933428064, 'pronounc'),\n",
              " (-9.662315111650905, 'intrigu'),\n",
              " (-9.6602947361395, 'wrongdo'),\n",
              " (-9.660168894426402, 'priest'),\n",
              " (-9.660100992273222, 'sarah'),\n",
              " (-9.659643980261711, 'trump one'),\n",
              " (-9.65873247614747, 'civil liberti'),\n",
              " (-9.658364709025655, 'exhaust'),\n",
              " (-9.658302829768969, 'nafta'),\n",
              " (-9.657537817842895, 'south africa'),\n",
              " (-9.657352180742187, 'everi year'),\n",
              " (-9.655603849275856, 'harsh'),\n",
              " (-9.655567766657995, 'pan'),\n",
              " (-9.655239639212803, 'underway'),\n",
              " (-9.654222561785158, 'one mani'),\n",
              " (-9.6536730791609, 'foreign minist'),\n",
              " (-9.653488109185854, 'arsen'),\n",
              " (-9.653180095229601, 'enthusiasm'),\n",
              " (-9.652950634942293, 'told report'),\n",
              " (-9.652893539713864, 'compon'),\n",
              " (-9.652820011792073, 'thrive'),\n",
              " (-9.65220676436055, 'elig'),\n",
              " (-9.652133547493554, 'toss'),\n",
              " (-9.652097493840456, 'minimum'),\n",
              " (-9.652059083314683, 'prescript'),\n",
              " (-9.651845154746848, 'made public'),\n",
              " (-9.651313374543378, 'outfit'),\n",
              " (-9.651181625397806, 'businessman'),\n",
              " (-9.650979903026402, 'task forc'),\n",
              " (-9.650612407388499, 'hamilton'),\n",
              " (-9.650576388377, 'secular'),\n",
              " (-9.650199945760184, 'fertil'),\n",
              " (-9.649705855539718, 'sept'),\n",
              " (-9.649698844835452, 'hay'),\n",
              " (-9.649443334560816, 'spend time'),\n",
              " (-9.648920083327754, 'modi'),\n",
              " (-9.648867809055304, 'secur council'),\n",
              " (-9.648379278835906, 'devot'),\n",
              " (-9.647974562027489, 'state govern'),\n",
              " (-9.647641230176198, 'come togeth'),\n",
              " (-9.6473767759985, 'cigarett'),\n",
              " (-9.647232079579151, 'meaning'),\n",
              " (-9.647154545156235, 'regain'),\n",
              " (-9.64705568785045, 'ann'),\n",
              " (-9.646822508076916, 'overse'),\n",
              " (-9.646783378213973, 'beij'),\n",
              " (-9.646237055960446, 'float'),\n",
              " (-9.646200735944328, 'overwhelmingli'),\n",
              " (-9.645980521913046, 'taylor'),\n",
              " (-9.64527076234427, 'broad'),\n",
              " (-9.644505241070325, 'microsoft'),\n",
              " (-9.643980398998416, 'gene'),\n",
              " (-9.641020859052201, 'presid georg bush'),\n",
              " (-9.640342212932374, 'public school'),\n",
              " (-9.63972481778275, 'brussel'),\n",
              " (-9.639400818525214, 'parliamentari'),\n",
              " (-9.63899352775957, 'commission'),\n",
              " (-9.637862280006628, 'judiciari'),\n",
              " (-9.637537431137456, 'exceed'),\n",
              " (-9.637410875968136, 'coach'),\n",
              " (-9.63738376908111, 'sophist'),\n",
              " (-9.636910699180211, 'weaken'),\n",
              " (-9.63684804119521, 'sam'),\n",
              " (-9.634682370946873, 'boycott'),\n",
              " (-9.63400990966483, 'state would'),\n",
              " (-9.632857579210004, 'charter'),\n",
              " (-9.632810114380717, 'diplomaci'),\n",
              " (-9.6325141520201, 'dealer'),\n",
              " (-9.632232054328135, 'alik'),\n",
              " (-9.632095120846138, 'repeal'),\n",
              " (-9.631631225120486, 'polar'),\n",
              " (-9.631325831738625, 'uncomfort'),\n",
              " (-9.63129183673778, 'tent'),\n",
              " (-9.63098071238802, 'bipartisan'),\n",
              " (-9.630791661137383, 'humor'),\n",
              " (-9.630286864618363, 'elderli'),\n",
              " (-9.630118700058759, 'commerc'),\n",
              " (-9.629642559090902, 'wheel'),\n",
              " (-9.629572273228511, 'mccain'),\n",
              " (-9.628612063861409, 'solidar'),\n",
              " (-9.628444484405618, 'theater'),\n",
              " (-9.628337762782554, 'discourag'),\n",
              " (-9.628146633001457, 'three time'),\n",
              " (-9.628128570736582, 'landscap'),\n",
              " (-9.62719120873162, 'pollster'),\n",
              " (-9.627017939211013, 'ronald reagan'),\n",
              " (-9.626352752720761, 'say want'),\n",
              " (-9.625562861350442, 'two month'),\n",
              " (-9.62472313749005, 'per cent'),\n",
              " (-9.624211050656449, 'san francisco'),\n",
              " (-9.624155809648961, 'bread'),\n",
              " (-9.623516752157864, 'banner'),\n",
              " (-9.623503035364429, 'steadi'),\n",
              " (-9.62310585999858, 'tide'),\n",
              " (-9.622193241191749, 'diminish'),\n",
              " (-9.622123176008975, 'would also'),\n",
              " (-9.621560823965082, 'tour'),\n",
              " (-9.621338277519529, 'plung'),\n",
              " (-9.620992195822756, 'emphasi'),\n",
              " (-9.61968300018246, 'terri'),\n",
              " (-9.619649970871716, 'drew'),\n",
              " (-9.618833009542767, 'destin'),\n",
              " (-9.61865593383937, 'temporarili'),\n",
              " (-9.618533707660406, 'uniform'),\n",
              " (-9.618398802274733, 'deposit'),\n",
              " (-9.617304339785234, 'cake'),\n",
              " (-9.617227892999532, 'recip'),\n",
              " (-9.616151274601403, 'adversari'),\n",
              " (-9.614909276559695, 'peopl get'),\n",
              " (-9.61485473153436, 'incarcer'),\n",
              " (-9.614743110827018, 'ivanka'),\n",
              " (-9.61450061735629, 'instinct'),\n",
              " (-9.614246797663048, 'strongest'),\n",
              " (-9.61369584844007, 'barrier'),\n",
              " (-9.612272519063673, 'drown'),\n",
              " (-9.61193693290944, 'jurisdict'),\n",
              " (-9.610326089403545, 'aug'),\n",
              " (-9.610119854591145, 'denver'),\n",
              " (-9.610045656660036, 'resum'),\n",
              " (-9.610013616679975, 'endang'),\n",
              " (-9.609837455323756, 'thousand peopl'),\n",
              " (-9.609553588405188, 'maryland'),\n",
              " (-9.609535250963589, 'climb'),\n",
              " (-9.608319463510972, 'valley'),\n",
              " (-9.608063055718654, 'simultan'),\n",
              " (-9.60806224199028, 'austin'),\n",
              " (-9.607737437081845, 'leverag'),\n",
              " (-9.607307109056283, 'american citizen'),\n",
              " (-9.606155766328364, 'provoc'),\n",
              " (-9.60515598410919, 'grip'),\n",
              " (-9.605064760762112, 'exagger'),\n",
              " (-9.604734884868376, 'rob'),\n",
              " (-9.604694218666578, 'overnight'),\n",
              " (-9.604585737178175, 'desert'),\n",
              " (-9.60392518165108, 'burst'),\n",
              " (-9.603668861289677, 'hous repres'),\n",
              " (-9.603410494852877, 'plagu'),\n",
              " (-9.602214275888956, 'first amend'),\n",
              " (-9.602029061131418, 'optim'),\n",
              " (-9.6011301662014, 'transact'),\n",
              " (-9.600424233108754, 'quietli'),\n",
              " (-9.600401161417428, 'foreign govern'),\n",
              " (-9.60013434279872, 'mercuri'),\n",
              " (-9.599515498885804, 'gen'),\n",
              " (-9.59925639413986, 'benjamin'),\n",
              " (-9.59902075162789, 'would say'),\n",
              " (-9.598351516743673, 'unveil'),\n",
              " (-9.598138726720045, 'momentum'),\n",
              " (-9.59806484427475, 'stranger'),\n",
              " (-9.59699503704478, 'yellow'),\n",
              " (-9.596838830829528, 'temporari'),\n",
              " (-9.596616190344555, 'three day'),\n",
              " (-9.596454952171976, 'larg number'),\n",
              " (-9.595494620250525, 'govern forc'),\n",
              " (-9.595469549560637, 'reluct'),\n",
              " (-9.595464843418663, 'difficulti'),\n",
              " (-9.595400498297733, 'alongsid'),\n",
              " (-9.59396363537874, 'constitu'),\n",
              " (-9.593402311106752, 'mode'),\n",
              " (-9.593143799189102, 'hawaii'),\n",
              " (-9.593101174765748, 'swim'),\n",
              " (-9.593074256377434, 'highway'),\n",
              " ...]"
            ]
          },
          "metadata": {
            "tags": []
          },
          "execution_count": 49
        }
      ]
    },
    {
      "cell_type": "markdown",
      "metadata": {
        "id": "ocK3kxtzBM8d"
      },
      "source": [
        "## HashingVectorizer\n"
      ]
    },
    {
      "cell_type": "code",
      "metadata": {
        "colab": {
          "base_uri": "https://localhost:8080/"
        },
        "id": "sc5IMDNnT7Oh",
        "outputId": "a021434f-faff-49d8-a27d-d90525b760f8"
      },
      "source": [
        "#Installing the scikit-learn library\n",
        "pip install -U scikit-learn"
      ],
      "execution_count": null,
      "outputs": [
        {
          "output_type": "stream",
          "text": [
            "Requirement already up-to-date: scikit-learn in /usr/local/lib/python3.7/dist-packages (0.24.2)\n",
            "Requirement already satisfied, skipping upgrade: numpy>=1.13.3 in /usr/local/lib/python3.7/dist-packages (from scikit-learn) (1.19.5)\n",
            "Requirement already satisfied, skipping upgrade: threadpoolctl>=2.0.0 in /usr/local/lib/python3.7/dist-packages (from scikit-learn) (2.1.0)\n",
            "Requirement already satisfied, skipping upgrade: joblib>=0.11 in /usr/local/lib/python3.7/dist-packages (from scikit-learn) (1.0.1)\n",
            "Requirement already satisfied, skipping upgrade: scipy>=0.19.1 in /usr/local/lib/python3.7/dist-packages (from scikit-learn) (1.4.1)\n"
          ],
          "name": "stdout"
        }
      ]
    },
    {
      "cell_type": "code",
      "metadata": {
        "id": "q75QK6b2BM8e"
      },
      "source": [
        "#Importinng the HashingVectorizer \n",
        "from sklearn.feature_extraction.text import HashingVectorizer\n",
        "hs_vectorizer = HashingVectorizer(n_features=5000,alternate_sign=False)\n",
        "X=hs_vectorizer.fit_transform(corpus).toarray()"
      ],
      "execution_count": null,
      "outputs": []
    },
    {
      "cell_type": "code",
      "metadata": {
        "colab": {
          "base_uri": "https://localhost:8080/"
        },
        "id": "g4qstfpyBM8e",
        "outputId": "4978f8f6-204f-42f4-bd50-4357de851682"
      },
      "source": [
        "X.shape"
      ],
      "execution_count": null,
      "outputs": [
        {
          "output_type": "execute_result",
          "data": {
            "text/plain": [
              "(18285, 5000)"
            ]
          },
          "metadata": {
            "tags": []
          },
          "execution_count": 57
        }
      ]
    },
    {
      "cell_type": "code",
      "metadata": {
        "colab": {
          "base_uri": "https://localhost:8080/"
        },
        "id": "orsqlBc5BM8f",
        "outputId": "ea54717b-c308-423a-fe9e-84d822f27533"
      },
      "source": [
        "X"
      ],
      "execution_count": null,
      "outputs": [
        {
          "output_type": "execute_result",
          "data": {
            "text/plain": [
              "array([[0.        , 0.15922347, 0.        , ..., 0.        , 0.        ,\n",
              "        0.        ],\n",
              "       [0.        , 0.03785056, 0.        , ..., 0.        , 0.        ,\n",
              "        0.        ],\n",
              "       [0.        , 0.02285155, 0.        , ..., 0.        , 0.        ,\n",
              "        0.        ],\n",
              "       ...,\n",
              "       [0.        , 0.        , 0.        , ..., 0.        , 0.        ,\n",
              "        0.        ],\n",
              "       [0.        , 0.        , 0.        , ..., 0.        , 0.        ,\n",
              "        0.        ],\n",
              "       [0.        , 0.06880662, 0.        , ..., 0.        , 0.        ,\n",
              "        0.        ]])"
            ]
          },
          "metadata": {
            "tags": []
          },
          "execution_count": 58
        }
      ]
    },
    {
      "cell_type": "code",
      "metadata": {
        "id": "kLAhVvQ_BM8f"
      },
      "source": [
        "#Divide the dataset into Train and Test\n",
        "from sklearn.model_selection import train_test_split\n",
        "X_train, X_test, y_train, y_test = train_test_split(X, y, test_size=0.33, random_state=0)"
      ],
      "execution_count": null,
      "outputs": []
    },
    {
      "cell_type": "code",
      "metadata": {
        "colab": {
          "base_uri": "https://localhost:8080/",
          "height": 345
        },
        "id": "8MPPGzJXBM8g",
        "outputId": "8c217c48-0563-4116-e16e-648c61ab6571"
      },
      "source": [
        "#Importing the PassiveAggressiveClassifier\n",
        "from sklearn.naive_bayes import MultinomialNB\n",
        "classifier=MultinomialNB()\n",
        "classifier.fit(X_train, y_train)\n",
        "pred = classifier.predict(X_test)\n",
        "score = metrics.accuracy_score(y_test, pred)\n",
        "print(\"accuracy:   %0.3f\" % score)\n",
        "cm = metrics.confusion_matrix(y_test, pred)\n",
        "plot_confusion_matrix(cm, classes=['FAKE', 'REAL'])"
      ],
      "execution_count": null,
      "outputs": [
        {
          "output_type": "stream",
          "text": [
            "accuracy:   0.876\n",
            "Confusion matrix, without normalization\n"
          ],
          "name": "stdout"
        },
        {
          "output_type": "display_data",
          "data": {
            "image/png": "[encoded data removed]",
            "text/plain": [
              "<Figure size 432x288 with 2 Axes>"
            ]
          },
          "metadata": {
            "tags": [],
            "needs_background": "light"
          }
        }
      ]
    },
    {
      "cell_type": "code",
      "metadata": {
        "id": "EXX1Tnl3BM8g"
      },
      "source": [
        ""
      ],
      "execution_count": null,
      "outputs": []
    }
  ]
}