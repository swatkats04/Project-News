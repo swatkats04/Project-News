{
  "nbformat": 4,
  "nbformat_minor": 0,
  "metadata": {
    "kernelspec": {
      "display_name": "Python 3",
      "language": "python",
      "name": "python3"
    },
    "language_info": {
      "codemirror_mode": {
        "name": "ipython",
        "version": 3
      },
      "file_extension": ".py",
      "mimetype": "text/x-python",
      "name": "python",
      "nbconvert_exporter": "python",
      "pygments_lexer": "ipython3",
      "version": "3.8.3"
    },
    "colab": {
      "name": "FakeNewsCount_vectorizer.ipynb",
      "provenance": [],
      "collapsed_sections": [],
      "include_colab_link": true
    }
  },
  "cells": [
    {
      "cell_type": "markdown",
      "metadata": {
        "id": "view-in-github",
        "colab_type": "text"
      },
      "source": [
        "<a href=\"https://colab.research.google.com/github/swatkats04/Project-News/blob/main/FakeNewsCount_vectorizer.ipynb\" target=\"_parent\"><img src=\"https://colab.research.google.com/assets/colab-badge.svg\" alt=\"Open In Colab\"/></a>"
      ]
    },
    {
      "cell_type": "markdown",
      "metadata": {
        "id": "v3ny-cagm-PN"
      },
      "source": [
        "### **Fake News Classifier**\n",
        "Here is the link to the\n",
        "Dataset:  https://www.kaggle.com/c/fake-news/data#"
      ]
    },
    {
      "cell_type": "code",
      "metadata": {
        "id": "rCXyoc3nm-PW"
      },
      "source": [
        "#Importing the pandas library for data manipulation\n",
        "import pandas as pd"
      ],
      "execution_count": null,
      "outputs": []
    },
    {
      "cell_type": "code",
      "metadata": {
        "id": "tbIebUlaLrLb"
      },
      "source": [
        "#Mounting the Goodgle Drive to access the drive contents\n",
        "from google.colab import drive\n",
        "drive.mount('/content/gdrive')"
      ],
      "execution_count": null,
      "outputs": []
    },
    {
      "cell_type": "code",
      "metadata": {
        "id": "wzJu3xKum-PX"
      },
      "source": [
        "#Reading the dataset\n",
        "df=pd.read_csv(r'D:\\Sachin\\Fake-News-Classifier\\train.csv')"
      ],
      "execution_count": null,
      "outputs": []
    },
    {
      "cell_type": "code",
      "metadata": {
        "id": "vu0wjjk3m-PY",
        "outputId": "d73a6be1-a264-4424-ccf4-3114fc539b0b"
      },
      "source": [
        "#viewing the first few records of the dataset, to see how the data looks like.\n",
        "df.head()"
      ],
      "execution_count": null,
      "outputs": [
        {
          "output_type": "execute_result",
          "data": {
            "text/html": [
              "<div>\n",
              "<style scoped>\n",
              "    .dataframe tbody tr th:only-of-type {\n",
              "        vertical-align: middle;\n",
              "    }\n",
              "\n",
              "    .dataframe tbody tr th {\n",
              "        vertical-align: top;\n",
              "    }\n",
              "\n",
              "    .dataframe thead th {\n",
              "        text-align: right;\n",
              "    }\n",
              "</style>\n",
              "<table border=\"1\" class=\"dataframe\">\n",
              "  <thead>\n",
              "    <tr style=\"text-align: right;\">\n",
              "      <th></th>\n",
              "      <th>id</th>\n",
              "      <th>title</th>\n",
              "      <th>author</th>\n",
              "      <th>text</th>\n",
              "      <th>label</th>\n",
              "    </tr>\n",
              "  </thead>\n",
              "  <tbody>\n",
              "    <tr>\n",
              "      <th>0</th>\n",
              "      <td>0</td>\n",
              "      <td>House Dem Aide: We Didn’t Even See Comey’s Let...</td>\n",
              "      <td>Darrell Lucus</td>\n",
              "      <td>House Dem Aide: We Didn’t Even See Comey’s Let...</td>\n",
              "      <td>1</td>\n",
              "    </tr>\n",
              "    <tr>\n",
              "      <th>1</th>\n",
              "      <td>1</td>\n",
              "      <td>FLYNN: Hillary Clinton, Big Woman on Campus - ...</td>\n",
              "      <td>Daniel J. Flynn</td>\n",
              "      <td>Ever get the feeling your life circles the rou...</td>\n",
              "      <td>0</td>\n",
              "    </tr>\n",
              "    <tr>\n",
              "      <th>2</th>\n",
              "      <td>2</td>\n",
              "      <td>Why the Truth Might Get You Fired</td>\n",
              "      <td>Consortiumnews.com</td>\n",
              "      <td>Why the Truth Might Get You Fired October 29, ...</td>\n",
              "      <td>1</td>\n",
              "    </tr>\n",
              "    <tr>\n",
              "      <th>3</th>\n",
              "      <td>3</td>\n",
              "      <td>15 Civilians Killed In Single US Airstrike Hav...</td>\n",
              "      <td>Jessica Purkiss</td>\n",
              "      <td>Videos 15 Civilians Killed In Single US Airstr...</td>\n",
              "      <td>1</td>\n",
              "    </tr>\n",
              "    <tr>\n",
              "      <th>4</th>\n",
              "      <td>4</td>\n",
              "      <td>Iranian woman jailed for fictional unpublished...</td>\n",
              "      <td>Howard Portnoy</td>\n",
              "      <td>Print \\nAn Iranian woman has been sentenced to...</td>\n",
              "      <td>1</td>\n",
              "    </tr>\n",
              "  </tbody>\n",
              "</table>\n",
              "</div>"
            ],
            "text/plain": [
              "   id                                              title              author  \\\n",
              "0   0  House Dem Aide: We Didn’t Even See Comey’s Let...       Darrell Lucus   \n",
              "1   1  FLYNN: Hillary Clinton, Big Woman on Campus - ...     Daniel J. Flynn   \n",
              "2   2                  Why the Truth Might Get You Fired  Consortiumnews.com   \n",
              "3   3  15 Civilians Killed In Single US Airstrike Hav...     Jessica Purkiss   \n",
              "4   4  Iranian woman jailed for fictional unpublished...      Howard Portnoy   \n",
              "\n",
              "                                                text  label  \n",
              "0  House Dem Aide: We Didn’t Even See Comey’s Let...      1  \n",
              "1  Ever get the feeling your life circles the rou...      0  \n",
              "2  Why the Truth Might Get You Fired October 29, ...      1  \n",
              "3  Videos 15 Civilians Killed In Single US Airstr...      1  \n",
              "4  Print \\nAn Iranian woman has been sentenced to...      1  "
            ]
          },
          "metadata": {
            "tags": []
          },
          "execution_count": 3
        }
      ]
    },
    {
      "cell_type": "code",
      "metadata": {
        "id": "7-T1DVi6m-PZ"
      },
      "source": [
        "## Get the Independent Features\n",
        "\n",
        "X=df.drop('label',axis=1)"
      ],
      "execution_count": null,
      "outputs": []
    },
    {
      "cell_type": "code",
      "metadata": {
        "id": "pVlgoSxXm-PZ",
        "outputId": "531f1e1c-4a56-4696-ed2a-c493a44f9432"
      },
      "source": [
        "#Viewing the fisrt few records of the dataset\n",
        "X.head()"
      ],
      "execution_count": null,
      "outputs": [
        {
          "output_type": "execute_result",
          "data": {
            "text/html": [
              "<div>\n",
              "<style scoped>\n",
              "    .dataframe tbody tr th:only-of-type {\n",
              "        vertical-align: middle;\n",
              "    }\n",
              "\n",
              "    .dataframe tbody tr th {\n",
              "        vertical-align: top;\n",
              "    }\n",
              "\n",
              "    .dataframe thead th {\n",
              "        text-align: right;\n",
              "    }\n",
              "</style>\n",
              "<table border=\"1\" class=\"dataframe\">\n",
              "  <thead>\n",
              "    <tr style=\"text-align: right;\">\n",
              "      <th></th>\n",
              "      <th>id</th>\n",
              "      <th>title</th>\n",
              "      <th>author</th>\n",
              "      <th>text</th>\n",
              "    </tr>\n",
              "  </thead>\n",
              "  <tbody>\n",
              "    <tr>\n",
              "      <th>0</th>\n",
              "      <td>0</td>\n",
              "      <td>House Dem Aide: We Didn’t Even See Comey’s Let...</td>\n",
              "      <td>Darrell Lucus</td>\n",
              "      <td>House Dem Aide: We Didn’t Even See Comey’s Let...</td>\n",
              "    </tr>\n",
              "    <tr>\n",
              "      <th>1</th>\n",
              "      <td>1</td>\n",
              "      <td>FLYNN: Hillary Clinton, Big Woman on Campus - ...</td>\n",
              "      <td>Daniel J. Flynn</td>\n",
              "      <td>Ever get the feeling your life circles the rou...</td>\n",
              "    </tr>\n",
              "    <tr>\n",
              "      <th>2</th>\n",
              "      <td>2</td>\n",
              "      <td>Why the Truth Might Get You Fired</td>\n",
              "      <td>Consortiumnews.com</td>\n",
              "      <td>Why the Truth Might Get You Fired October 29, ...</td>\n",
              "    </tr>\n",
              "    <tr>\n",
              "      <th>3</th>\n",
              "      <td>3</td>\n",
              "      <td>15 Civilians Killed In Single US Airstrike Hav...</td>\n",
              "      <td>Jessica Purkiss</td>\n",
              "      <td>Videos 15 Civilians Killed In Single US Airstr...</td>\n",
              "    </tr>\n",
              "    <tr>\n",
              "      <th>4</th>\n",
              "      <td>4</td>\n",
              "      <td>Iranian woman jailed for fictional unpublished...</td>\n",
              "      <td>Howard Portnoy</td>\n",
              "      <td>Print \\nAn Iranian woman has been sentenced to...</td>\n",
              "    </tr>\n",
              "  </tbody>\n",
              "</table>\n",
              "</div>"
            ],
            "text/plain": [
              "   id                                              title              author  \\\n",
              "0   0  House Dem Aide: We Didn’t Even See Comey’s Let...       Darrell Lucus   \n",
              "1   1  FLYNN: Hillary Clinton, Big Woman on Campus - ...     Daniel J. Flynn   \n",
              "2   2                  Why the Truth Might Get You Fired  Consortiumnews.com   \n",
              "3   3  15 Civilians Killed In Single US Airstrike Hav...     Jessica Purkiss   \n",
              "4   4  Iranian woman jailed for fictional unpublished...      Howard Portnoy   \n",
              "\n",
              "                                                text  \n",
              "0  House Dem Aide: We Didn’t Even See Comey’s Let...  \n",
              "1  Ever get the feeling your life circles the rou...  \n",
              "2  Why the Truth Might Get You Fired October 29, ...  \n",
              "3  Videos 15 Civilians Killed In Single US Airstr...  \n",
              "4  Print \\nAn Iranian woman has been sentenced to...  "
            ]
          },
          "metadata": {
            "tags": []
          },
          "execution_count": 5
        }
      ]
    },
    {
      "cell_type": "code",
      "metadata": {
        "id": "acI-rwe5m-Pa"
      },
      "source": [
        "## Get the Dependent features\n",
        "y=df['label']"
      ],
      "execution_count": null,
      "outputs": []
    },
    {
      "cell_type": "code",
      "metadata": {
        "id": "oNjL9Bv_m-Pa",
        "outputId": "492d513a-94c7-454a-b2ea-3837d95c52cf"
      },
      "source": [
        "#Viewing the how the records of the 'label' feature \n",
        "y.head()"
      ],
      "execution_count": null,
      "outputs": [
        {
          "output_type": "execute_result",
          "data": {
            "text/plain": [
              "0    1\n",
              "1    0\n",
              "2    1\n",
              "3    1\n",
              "4    1\n",
              "Name: label, dtype: int64"
            ]
          },
          "metadata": {
            "tags": []
          },
          "execution_count": 7
        }
      ]
    },
    {
      "cell_type": "code",
      "metadata": {
        "id": "D1KYchBtm-Pb",
        "outputId": "9d5267b7-9cb4-4ebf-cc0d-4e2c0ed0bc88"
      },
      "source": [
        "#The total records and columns of the dataset\n",
        "df.shape"
      ],
      "execution_count": null,
      "outputs": [
        {
          "output_type": "execute_result",
          "data": {
            "text/plain": [
              "(20800, 5)"
            ]
          },
          "metadata": {
            "tags": []
          },
          "execution_count": 8
        }
      ]
    },
    {
      "cell_type": "code",
      "metadata": {
        "id": "JZUbZmgcm-Pb"
      },
      "source": [
        "#Importing the CountVectorizer, TfidfVectorizer, HashingVectorizer for vectorization of the data\n",
        "from sklearn.feature_extraction.text import CountVectorizer, TfidfVectorizer, HashingVectorizer"
      ],
      "execution_count": null,
      "outputs": []
    },
    {
      "cell_type": "code",
      "metadata": {
        "id": "HhCVa2FSm-Pc"
      },
      "source": [
        "#Dropping the NaN values \n",
        "df=df.dropna()"
      ],
      "execution_count": null,
      "outputs": []
    },
    {
      "cell_type": "code",
      "metadata": {
        "id": "bHoLSDjEm-Pd",
        "outputId": "a7136bda-13c4-4cc1-a8de-2c5d77ce2955"
      },
      "source": [
        "df.head(10)"
      ],
      "execution_count": null,
      "outputs": [
        {
          "output_type": "execute_result",
          "data": {
            "text/html": [
              "<div>\n",
              "<style scoped>\n",
              "    .dataframe tbody tr th:only-of-type {\n",
              "        vertical-align: middle;\n",
              "    }\n",
              "\n",
              "    .dataframe tbody tr th {\n",
              "        vertical-align: top;\n",
              "    }\n",
              "\n",
              "    .dataframe thead th {\n",
              "        text-align: right;\n",
              "    }\n",
              "</style>\n",
              "<table border=\"1\" class=\"dataframe\">\n",
              "  <thead>\n",
              "    <tr style=\"text-align: right;\">\n",
              "      <th></th>\n",
              "      <th>id</th>\n",
              "      <th>title</th>\n",
              "      <th>author</th>\n",
              "      <th>text</th>\n",
              "      <th>label</th>\n",
              "    </tr>\n",
              "  </thead>\n",
              "  <tbody>\n",
              "    <tr>\n",
              "      <th>0</th>\n",
              "      <td>0</td>\n",
              "      <td>House Dem Aide: We Didn’t Even See Comey’s Let...</td>\n",
              "      <td>Darrell Lucus</td>\n",
              "      <td>House Dem Aide: We Didn’t Even See Comey’s Let...</td>\n",
              "      <td>1</td>\n",
              "    </tr>\n",
              "    <tr>\n",
              "      <th>1</th>\n",
              "      <td>1</td>\n",
              "      <td>FLYNN: Hillary Clinton, Big Woman on Campus - ...</td>\n",
              "      <td>Daniel J. Flynn</td>\n",
              "      <td>Ever get the feeling your life circles the rou...</td>\n",
              "      <td>0</td>\n",
              "    </tr>\n",
              "    <tr>\n",
              "      <th>2</th>\n",
              "      <td>2</td>\n",
              "      <td>Why the Truth Might Get You Fired</td>\n",
              "      <td>Consortiumnews.com</td>\n",
              "      <td>Why the Truth Might Get You Fired October 29, ...</td>\n",
              "      <td>1</td>\n",
              "    </tr>\n",
              "    <tr>\n",
              "      <th>3</th>\n",
              "      <td>3</td>\n",
              "      <td>15 Civilians Killed In Single US Airstrike Hav...</td>\n",
              "      <td>Jessica Purkiss</td>\n",
              "      <td>Videos 15 Civilians Killed In Single US Airstr...</td>\n",
              "      <td>1</td>\n",
              "    </tr>\n",
              "    <tr>\n",
              "      <th>4</th>\n",
              "      <td>4</td>\n",
              "      <td>Iranian woman jailed for fictional unpublished...</td>\n",
              "      <td>Howard Portnoy</td>\n",
              "      <td>Print \\nAn Iranian woman has been sentenced to...</td>\n",
              "      <td>1</td>\n",
              "    </tr>\n",
              "    <tr>\n",
              "      <th>5</th>\n",
              "      <td>5</td>\n",
              "      <td>Jackie Mason: Hollywood Would Love Trump if He...</td>\n",
              "      <td>Daniel Nussbaum</td>\n",
              "      <td>In these trying times, Jackie Mason is the Voi...</td>\n",
              "      <td>0</td>\n",
              "    </tr>\n",
              "    <tr>\n",
              "      <th>7</th>\n",
              "      <td>7</td>\n",
              "      <td>Benoît Hamon Wins French Socialist Party’s Pre...</td>\n",
              "      <td>Alissa J. Rubin</td>\n",
              "      <td>PARIS  —   France chose an idealistic, traditi...</td>\n",
              "      <td>0</td>\n",
              "    </tr>\n",
              "    <tr>\n",
              "      <th>9</th>\n",
              "      <td>9</td>\n",
              "      <td>A Back-Channel Plan for Ukraine and Russia, Co...</td>\n",
              "      <td>Megan Twohey and Scott Shane</td>\n",
              "      <td>A week before Michael T. Flynn resigned as nat...</td>\n",
              "      <td>0</td>\n",
              "    </tr>\n",
              "    <tr>\n",
              "      <th>10</th>\n",
              "      <td>10</td>\n",
              "      <td>Obama’s Organizing for Action Partners with So...</td>\n",
              "      <td>Aaron Klein</td>\n",
              "      <td>Organizing for Action, the activist group that...</td>\n",
              "      <td>0</td>\n",
              "    </tr>\n",
              "    <tr>\n",
              "      <th>11</th>\n",
              "      <td>11</td>\n",
              "      <td>BBC Comedy Sketch \"Real Housewives of ISIS\" Ca...</td>\n",
              "      <td>Chris Tomlinson</td>\n",
              "      <td>The BBC produced spoof on the “Real Housewives...</td>\n",
              "      <td>0</td>\n",
              "    </tr>\n",
              "  </tbody>\n",
              "</table>\n",
              "</div>"
            ],
            "text/plain": [
              "    id                                              title  \\\n",
              "0    0  House Dem Aide: We Didn’t Even See Comey’s Let...   \n",
              "1    1  FLYNN: Hillary Clinton, Big Woman on Campus - ...   \n",
              "2    2                  Why the Truth Might Get You Fired   \n",
              "3    3  15 Civilians Killed In Single US Airstrike Hav...   \n",
              "4    4  Iranian woman jailed for fictional unpublished...   \n",
              "5    5  Jackie Mason: Hollywood Would Love Trump if He...   \n",
              "7    7  Benoît Hamon Wins French Socialist Party’s Pre...   \n",
              "9    9  A Back-Channel Plan for Ukraine and Russia, Co...   \n",
              "10  10  Obama’s Organizing for Action Partners with So...   \n",
              "11  11  BBC Comedy Sketch \"Real Housewives of ISIS\" Ca...   \n",
              "\n",
              "                          author  \\\n",
              "0                  Darrell Lucus   \n",
              "1                Daniel J. Flynn   \n",
              "2             Consortiumnews.com   \n",
              "3                Jessica Purkiss   \n",
              "4                 Howard Portnoy   \n",
              "5                Daniel Nussbaum   \n",
              "7                Alissa J. Rubin   \n",
              "9   Megan Twohey and Scott Shane   \n",
              "10                   Aaron Klein   \n",
              "11               Chris Tomlinson   \n",
              "\n",
              "                                                 text  label  \n",
              "0   House Dem Aide: We Didn’t Even See Comey’s Let...      1  \n",
              "1   Ever get the feeling your life circles the rou...      0  \n",
              "2   Why the Truth Might Get You Fired October 29, ...      1  \n",
              "3   Videos 15 Civilians Killed In Single US Airstr...      1  \n",
              "4   Print \\nAn Iranian woman has been sentenced to...      1  \n",
              "5   In these trying times, Jackie Mason is the Voi...      0  \n",
              "7   PARIS  —   France chose an idealistic, traditi...      0  \n",
              "9   A week before Michael T. Flynn resigned as nat...      0  \n",
              "10  Organizing for Action, the activist group that...      0  \n",
              "11  The BBC produced spoof on the “Real Housewives...      0  "
            ]
          },
          "metadata": {
            "tags": []
          },
          "execution_count": 11
        }
      ]
    },
    {
      "cell_type": "code",
      "metadata": {
        "id": "8j8-fU98m-Pe"
      },
      "source": [
        "#Making a copy of the data and storing it in a variable\n",
        "messages=df.copy()"
      ],
      "execution_count": null,
      "outputs": []
    },
    {
      "cell_type": "code",
      "metadata": {
        "id": "5E14RmVAm-Pe"
      },
      "source": [
        "#Resetting the index after dropping the NaN values, so its easier to iterate\n",
        "messages.reset_index(inplace=True)"
      ],
      "execution_count": null,
      "outputs": []
    },
    {
      "cell_type": "code",
      "metadata": {
        "id": "iCNuJpH0m-Pe",
        "outputId": "5d2dec62-5b61-4117-ce81-f88f3324623f"
      },
      "source": [
        "#Viewing the data after resetting the index\n",
        "messages.head(10)"
      ],
      "execution_count": null,
      "outputs": [
        {
          "output_type": "execute_result",
          "data": {
            "text/html": [
              "<div>\n",
              "<style scoped>\n",
              "    .dataframe tbody tr th:only-of-type {\n",
              "        vertical-align: middle;\n",
              "    }\n",
              "\n",
              "    .dataframe tbody tr th {\n",
              "        vertical-align: top;\n",
              "    }\n",
              "\n",
              "    .dataframe thead th {\n",
              "        text-align: right;\n",
              "    }\n",
              "</style>\n",
              "<table border=\"1\" class=\"dataframe\">\n",
              "  <thead>\n",
              "    <tr style=\"text-align: right;\">\n",
              "      <th></th>\n",
              "      <th>index</th>\n",
              "      <th>id</th>\n",
              "      <th>title</th>\n",
              "      <th>author</th>\n",
              "      <th>text</th>\n",
              "      <th>label</th>\n",
              "    </tr>\n",
              "  </thead>\n",
              "  <tbody>\n",
              "    <tr>\n",
              "      <th>0</th>\n",
              "      <td>0</td>\n",
              "      <td>0</td>\n",
              "      <td>House Dem Aide: We Didn’t Even See Comey’s Let...</td>\n",
              "      <td>Darrell Lucus</td>\n",
              "      <td>House Dem Aide: We Didn’t Even See Comey’s Let...</td>\n",
              "      <td>1</td>\n",
              "    </tr>\n",
              "    <tr>\n",
              "      <th>1</th>\n",
              "      <td>1</td>\n",
              "      <td>1</td>\n",
              "      <td>FLYNN: Hillary Clinton, Big Woman on Campus - ...</td>\n",
              "      <td>Daniel J. Flynn</td>\n",
              "      <td>Ever get the feeling your life circles the rou...</td>\n",
              "      <td>0</td>\n",
              "    </tr>\n",
              "    <tr>\n",
              "      <th>2</th>\n",
              "      <td>2</td>\n",
              "      <td>2</td>\n",
              "      <td>Why the Truth Might Get You Fired</td>\n",
              "      <td>Consortiumnews.com</td>\n",
              "      <td>Why the Truth Might Get You Fired October 29, ...</td>\n",
              "      <td>1</td>\n",
              "    </tr>\n",
              "    <tr>\n",
              "      <th>3</th>\n",
              "      <td>3</td>\n",
              "      <td>3</td>\n",
              "      <td>15 Civilians Killed In Single US Airstrike Hav...</td>\n",
              "      <td>Jessica Purkiss</td>\n",
              "      <td>Videos 15 Civilians Killed In Single US Airstr...</td>\n",
              "      <td>1</td>\n",
              "    </tr>\n",
              "    <tr>\n",
              "      <th>4</th>\n",
              "      <td>4</td>\n",
              "      <td>4</td>\n",
              "      <td>Iranian woman jailed for fictional unpublished...</td>\n",
              "      <td>Howard Portnoy</td>\n",
              "      <td>Print \\nAn Iranian woman has been sentenced to...</td>\n",
              "      <td>1</td>\n",
              "    </tr>\n",
              "    <tr>\n",
              "      <th>5</th>\n",
              "      <td>5</td>\n",
              "      <td>5</td>\n",
              "      <td>Jackie Mason: Hollywood Would Love Trump if He...</td>\n",
              "      <td>Daniel Nussbaum</td>\n",
              "      <td>In these trying times, Jackie Mason is the Voi...</td>\n",
              "      <td>0</td>\n",
              "    </tr>\n",
              "    <tr>\n",
              "      <th>6</th>\n",
              "      <td>7</td>\n",
              "      <td>7</td>\n",
              "      <td>Benoît Hamon Wins French Socialist Party’s Pre...</td>\n",
              "      <td>Alissa J. Rubin</td>\n",
              "      <td>PARIS  —   France chose an idealistic, traditi...</td>\n",
              "      <td>0</td>\n",
              "    </tr>\n",
              "    <tr>\n",
              "      <th>7</th>\n",
              "      <td>9</td>\n",
              "      <td>9</td>\n",
              "      <td>A Back-Channel Plan for Ukraine and Russia, Co...</td>\n",
              "      <td>Megan Twohey and Scott Shane</td>\n",
              "      <td>A week before Michael T. Flynn resigned as nat...</td>\n",
              "      <td>0</td>\n",
              "    </tr>\n",
              "    <tr>\n",
              "      <th>8</th>\n",
              "      <td>10</td>\n",
              "      <td>10</td>\n",
              "      <td>Obama’s Organizing for Action Partners with So...</td>\n",
              "      <td>Aaron Klein</td>\n",
              "      <td>Organizing for Action, the activist group that...</td>\n",
              "      <td>0</td>\n",
              "    </tr>\n",
              "    <tr>\n",
              "      <th>9</th>\n",
              "      <td>11</td>\n",
              "      <td>11</td>\n",
              "      <td>BBC Comedy Sketch \"Real Housewives of ISIS\" Ca...</td>\n",
              "      <td>Chris Tomlinson</td>\n",
              "      <td>The BBC produced spoof on the “Real Housewives...</td>\n",
              "      <td>0</td>\n",
              "    </tr>\n",
              "  </tbody>\n",
              "</table>\n",
              "</div>"
            ],
            "text/plain": [
              "   index  id                                              title  \\\n",
              "0      0   0  House Dem Aide: We Didn’t Even See Comey’s Let...   \n",
              "1      1   1  FLYNN: Hillary Clinton, Big Woman on Campus - ...   \n",
              "2      2   2                  Why the Truth Might Get You Fired   \n",
              "3      3   3  15 Civilians Killed In Single US Airstrike Hav...   \n",
              "4      4   4  Iranian woman jailed for fictional unpublished...   \n",
              "5      5   5  Jackie Mason: Hollywood Would Love Trump if He...   \n",
              "6      7   7  Benoît Hamon Wins French Socialist Party’s Pre...   \n",
              "7      9   9  A Back-Channel Plan for Ukraine and Russia, Co...   \n",
              "8     10  10  Obama’s Organizing for Action Partners with So...   \n",
              "9     11  11  BBC Comedy Sketch \"Real Housewives of ISIS\" Ca...   \n",
              "\n",
              "                         author  \\\n",
              "0                 Darrell Lucus   \n",
              "1               Daniel J. Flynn   \n",
              "2            Consortiumnews.com   \n",
              "3               Jessica Purkiss   \n",
              "4                Howard Portnoy   \n",
              "5               Daniel Nussbaum   \n",
              "6               Alissa J. Rubin   \n",
              "7  Megan Twohey and Scott Shane   \n",
              "8                   Aaron Klein   \n",
              "9               Chris Tomlinson   \n",
              "\n",
              "                                                text  label  \n",
              "0  House Dem Aide: We Didn’t Even See Comey’s Let...      1  \n",
              "1  Ever get the feeling your life circles the rou...      0  \n",
              "2  Why the Truth Might Get You Fired October 29, ...      1  \n",
              "3  Videos 15 Civilians Killed In Single US Airstr...      1  \n",
              "4  Print \\nAn Iranian woman has been sentenced to...      1  \n",
              "5  In these trying times, Jackie Mason is the Voi...      0  \n",
              "6  PARIS  —   France chose an idealistic, traditi...      0  \n",
              "7  A week before Michael T. Flynn resigned as nat...      0  \n",
              "8  Organizing for Action, the activist group that...      0  \n",
              "9  The BBC produced spoof on the “Real Housewives...      0  "
            ]
          },
          "metadata": {
            "tags": []
          },
          "execution_count": 14
        }
      ]
    },
    {
      "cell_type": "code",
      "metadata": {
        "id": "1mpKCNZvm-Pf",
        "outputId": "47896084-b5c2-45b2-8460-f791b18fbdac"
      },
      "source": [
        "#Displaying a 'title' from the dataset\n",
        "messages['title'][6]"
      ],
      "execution_count": null,
      "outputs": [
        {
          "output_type": "execute_result",
          "data": {
            "text/plain": [
              "'Benoît Hamon Wins French Socialist Party’s Presidential Nomination - The New York Times'"
            ]
          },
          "metadata": {
            "tags": []
          },
          "execution_count": 15
        }
      ]
    },
    {
      "cell_type": "markdown",
      "metadata": {
        "id": "RYcjinpBH5Vm"
      },
      "source": [
        "# **Text Preprocessing**"
      ]
    },
    {
      "cell_type": "code",
      "metadata": {
        "id": "TEEnxYdLm-Pf",
        "outputId": "033ba20c-3a61-4c32-a826-677f70248b9b"
      },
      "source": [
        "#Importing the libraries for text preprocessing\n",
        "import re\n",
        "import nltk\n",
        "nltk.download('stopwords')\n",
        "  "
      ],
      "execution_count": null,
      "outputs": [
        {
          "output_type": "stream",
          "text": [
            "[nltk_data] Downloading package stopwords to C:\\Users\\SACHIN\n",
            "[nltk_data]     SELVAN\\AppData\\Roaming\\nltk_data...\n",
            "[nltk_data]   Package stopwords is already up-to-date!\n"
          ],
          "name": "stderr"
        },
        {
          "output_type": "execute_result",
          "data": {
            "text/plain": [
              "True"
            ]
          },
          "metadata": {
            "tags": []
          },
          "execution_count": 16
        }
      ]
    },
    {
      "cell_type": "code",
      "metadata": {
        "id": "yl4CLV8Hm-Pg"
      },
      "source": [
        "#Text preprocessing\n",
        "from nltk.corpus import stopwords\n",
        "from nltk.stem.porter import PorterStemmer\n",
        "ps = PorterStemmer()\n",
        "corpus = []\n",
        "for i in range(0, len(messages)):\n",
        "    review = re.sub('[^a-zA-Z]', ' ', messages['title'][i])\n",
        "    review = review.lower()\n",
        "    review = review.split()\n",
        "    \n",
        "    review = [ps.stem(word) for word in review if not word in stopwords.words('english')]\n",
        "    review = ' '.join(review)\n",
        "    corpus.append(review)"
      ],
      "execution_count": null,
      "outputs": []
    },
    {
      "cell_type": "code",
      "metadata": {
        "id": "DojU99R6m-Pg",
        "outputId": "5a60f288-34f2-4324-af17-f9dd688d9f2f"
      },
      "source": [
        "#Viewing the corpus after text preprocessing\n",
        "corpus[3]"
      ],
      "execution_count": null,
      "outputs": [
        {
          "output_type": "execute_result",
          "data": {
            "text/plain": [
              "'civilian kill singl us airstrik identifi'"
            ]
          },
          "metadata": {
            "tags": []
          },
          "execution_count": 18
        }
      ]
    },
    {
      "cell_type": "code",
      "metadata": {
        "id": "5zHGBcg4m-Pg"
      },
      "source": [
        "## Applying Countvectorizer\n",
        "# Creating the Bag of Words model\n",
        "from sklearn.feature_extraction.text import CountVectorizer\n",
        "cv = CountVectorizer(max_features=5000,ngram_range=(1,3))\n",
        "X = cv.fit_transform(corpus).toarray()"
      ],
      "execution_count": null,
      "outputs": []
    },
    {
      "cell_type": "code",
      "metadata": {
        "id": "7BC9Qg62m-Ph",
        "outputId": "676d11d3-4500-44b6-b4cc-142ebe1dba86"
      },
      "source": [
        "#Viewing the shape of the data after feature extraction\n",
        "X.shape"
      ],
      "execution_count": null,
      "outputs": [
        {
          "output_type": "execute_result",
          "data": {
            "text/plain": [
              "(18285, 5000)"
            ]
          },
          "metadata": {
            "tags": []
          },
          "execution_count": 20
        }
      ]
    },
    {
      "cell_type": "code",
      "metadata": {
        "id": "r2ezuYicm-Ph"
      },
      "source": [
        "#Output label\n",
        "y=messages['label']"
      ],
      "execution_count": null,
      "outputs": []
    },
    {
      "cell_type": "code",
      "metadata": {
        "id": "MKMVl1Zgm-Ph"
      },
      "source": [
        "# Divide the dataset into Train and Test\n",
        "from sklearn.model_selection import train_test_split\n",
        "X_train, X_test, y_train, y_test = train_test_split(X, y, test_size=0.33, random_state=0)"
      ],
      "execution_count": null,
      "outputs": []
    },
    {
      "cell_type": "code",
      "metadata": {
        "id": "sdYb9WJpm-Ph",
        "outputId": "82ae014f-012a-45de-c9c7-dd0156552e54"
      },
      "source": [
        "#Viewing the feature names\n",
        "cv.get_feature_names()[:20]"
      ],
      "execution_count": null,
      "outputs": [
        {
          "output_type": "execute_result",
          "data": {
            "text/plain": [
              "['abandon',\n",
              " 'abc',\n",
              " 'abc news',\n",
              " 'abduct',\n",
              " 'abe',\n",
              " 'abedin',\n",
              " 'abl',\n",
              " 'abort',\n",
              " 'abroad',\n",
              " 'absolut',\n",
              " 'abstain',\n",
              " 'absurd',\n",
              " 'abus',\n",
              " 'abus new',\n",
              " 'abus new york',\n",
              " 'academi',\n",
              " 'accept',\n",
              " 'access',\n",
              " 'access pipelin',\n",
              " 'access pipelin protest']"
            ]
          },
          "metadata": {
            "tags": []
          },
          "execution_count": 23
        }
      ]
    },
    {
      "cell_type": "code",
      "metadata": {
        "id": "9lJhk7rYm-Pi",
        "outputId": "8a58ea91-3174-48c4-f51b-20a2c0673135"
      },
      "source": [
        "#Parameters used\n",
        "cv.get_params()"
      ],
      "execution_count": null,
      "outputs": [
        {
          "output_type": "execute_result",
          "data": {
            "text/plain": [
              "{'analyzer': 'word',\n",
              " 'binary': False,\n",
              " 'decode_error': 'strict',\n",
              " 'dtype': numpy.int64,\n",
              " 'encoding': 'utf-8',\n",
              " 'input': 'content',\n",
              " 'lowercase': True,\n",
              " 'max_df': 1.0,\n",
              " 'max_features': 5000,\n",
              " 'min_df': 1,\n",
              " 'ngram_range': (1, 3),\n",
              " 'preprocessor': None,\n",
              " 'stop_words': None,\n",
              " 'strip_accents': None,\n",
              " 'token_pattern': '(?u)\\\\b\\\\w\\\\w+\\\\b',\n",
              " 'tokenizer': None,\n",
              " 'vocabulary': None}"
            ]
          },
          "metadata": {
            "tags": []
          },
          "execution_count": 24
        }
      ]
    },
    {
      "cell_type": "code",
      "metadata": {
        "id": "pz-y1-plm-Pi"
      },
      "source": [
        "#Storing the 'X_train' and feature names in count_df variable\n",
        "count_df = pd.DataFrame(X_train, columns=cv.get_feature_names())"
      ],
      "execution_count": null,
      "outputs": []
    },
    {
      "cell_type": "code",
      "metadata": {
        "id": "bzjPKSwwm-Pi",
        "outputId": "c99be262-552a-44c2-8f9b-a37b620c9eb8"
      },
      "source": [
        "count_df.head()"
      ],
      "execution_count": null,
      "outputs": [
        {
          "output_type": "execute_result",
          "data": {
            "text/html": [
              "<div>\n",
              "<style scoped>\n",
              "    .dataframe tbody tr th:only-of-type {\n",
              "        vertical-align: middle;\n",
              "    }\n",
              "\n",
              "    .dataframe tbody tr th {\n",
              "        vertical-align: top;\n",
              "    }\n",
              "\n",
              "    .dataframe thead th {\n",
              "        text-align: right;\n",
              "    }\n",
              "</style>\n",
              "<table border=\"1\" class=\"dataframe\">\n",
              "  <thead>\n",
              "    <tr style=\"text-align: right;\">\n",
              "      <th></th>\n",
              "      <th>abandon</th>\n",
              "      <th>abc</th>\n",
              "      <th>abc news</th>\n",
              "      <th>abduct</th>\n",
              "      <th>abe</th>\n",
              "      <th>abedin</th>\n",
              "      <th>abl</th>\n",
              "      <th>abort</th>\n",
              "      <th>abroad</th>\n",
              "      <th>absolut</th>\n",
              "      <th>...</th>\n",
              "      <th>zero</th>\n",
              "      <th>zika</th>\n",
              "      <th>zika viru</th>\n",
              "      <th>zionist</th>\n",
              "      <th>zone</th>\n",
              "      <th>zone new</th>\n",
              "      <th>zone new york</th>\n",
              "      <th>zoo</th>\n",
              "      <th>zu</th>\n",
              "      <th>zuckerberg</th>\n",
              "    </tr>\n",
              "  </thead>\n",
              "  <tbody>\n",
              "    <tr>\n",
              "      <th>0</th>\n",
              "      <td>0</td>\n",
              "      <td>0</td>\n",
              "      <td>0</td>\n",
              "      <td>0</td>\n",
              "      <td>0</td>\n",
              "      <td>0</td>\n",
              "      <td>0</td>\n",
              "      <td>0</td>\n",
              "      <td>0</td>\n",
              "      <td>0</td>\n",
              "      <td>...</td>\n",
              "      <td>0</td>\n",
              "      <td>0</td>\n",
              "      <td>0</td>\n",
              "      <td>0</td>\n",
              "      <td>0</td>\n",
              "      <td>0</td>\n",
              "      <td>0</td>\n",
              "      <td>0</td>\n",
              "      <td>0</td>\n",
              "      <td>0</td>\n",
              "    </tr>\n",
              "    <tr>\n",
              "      <th>1</th>\n",
              "      <td>0</td>\n",
              "      <td>0</td>\n",
              "      <td>0</td>\n",
              "      <td>0</td>\n",
              "      <td>0</td>\n",
              "      <td>0</td>\n",
              "      <td>0</td>\n",
              "      <td>0</td>\n",
              "      <td>0</td>\n",
              "      <td>0</td>\n",
              "      <td>...</td>\n",
              "      <td>0</td>\n",
              "      <td>0</td>\n",
              "      <td>0</td>\n",
              "      <td>0</td>\n",
              "      <td>0</td>\n",
              "      <td>0</td>\n",
              "      <td>0</td>\n",
              "      <td>0</td>\n",
              "      <td>0</td>\n",
              "      <td>0</td>\n",
              "    </tr>\n",
              "    <tr>\n",
              "      <th>2</th>\n",
              "      <td>0</td>\n",
              "      <td>0</td>\n",
              "      <td>0</td>\n",
              "      <td>0</td>\n",
              "      <td>0</td>\n",
              "      <td>0</td>\n",
              "      <td>0</td>\n",
              "      <td>0</td>\n",
              "      <td>0</td>\n",
              "      <td>0</td>\n",
              "      <td>...</td>\n",
              "      <td>0</td>\n",
              "      <td>0</td>\n",
              "      <td>0</td>\n",
              "      <td>0</td>\n",
              "      <td>0</td>\n",
              "      <td>0</td>\n",
              "      <td>0</td>\n",
              "      <td>0</td>\n",
              "      <td>0</td>\n",
              "      <td>0</td>\n",
              "    </tr>\n",
              "    <tr>\n",
              "      <th>3</th>\n",
              "      <td>0</td>\n",
              "      <td>0</td>\n",
              "      <td>0</td>\n",
              "      <td>0</td>\n",
              "      <td>0</td>\n",
              "      <td>0</td>\n",
              "      <td>0</td>\n",
              "      <td>0</td>\n",
              "      <td>0</td>\n",
              "      <td>0</td>\n",
              "      <td>...</td>\n",
              "      <td>0</td>\n",
              "      <td>0</td>\n",
              "      <td>0</td>\n",
              "      <td>0</td>\n",
              "      <td>0</td>\n",
              "      <td>0</td>\n",
              "      <td>0</td>\n",
              "      <td>0</td>\n",
              "      <td>0</td>\n",
              "      <td>0</td>\n",
              "    </tr>\n",
              "    <tr>\n",
              "      <th>4</th>\n",
              "      <td>0</td>\n",
              "      <td>0</td>\n",
              "      <td>0</td>\n",
              "      <td>0</td>\n",
              "      <td>0</td>\n",
              "      <td>0</td>\n",
              "      <td>0</td>\n",
              "      <td>0</td>\n",
              "      <td>0</td>\n",
              "      <td>1</td>\n",
              "      <td>...</td>\n",
              "      <td>0</td>\n",
              "      <td>0</td>\n",
              "      <td>0</td>\n",
              "      <td>0</td>\n",
              "      <td>0</td>\n",
              "      <td>0</td>\n",
              "      <td>0</td>\n",
              "      <td>0</td>\n",
              "      <td>0</td>\n",
              "      <td>0</td>\n",
              "    </tr>\n",
              "  </tbody>\n",
              "</table>\n",
              "<p>5 rows × 5000 columns</p>\n",
              "</div>"
            ],
            "text/plain": [
              "   abandon  abc  abc news  abduct  abe  abedin  abl  abort  abroad  absolut  \\\n",
              "0        0    0         0       0    0       0    0      0       0        0   \n",
              "1        0    0         0       0    0       0    0      0       0        0   \n",
              "2        0    0         0       0    0       0    0      0       0        0   \n",
              "3        0    0         0       0    0       0    0      0       0        0   \n",
              "4        0    0         0       0    0       0    0      0       0        1   \n",
              "\n",
              "   ...  zero  zika  zika viru  zionist  zone  zone new  zone new york  zoo  \\\n",
              "0  ...     0     0          0        0     0         0              0    0   \n",
              "1  ...     0     0          0        0     0         0              0    0   \n",
              "2  ...     0     0          0        0     0         0              0    0   \n",
              "3  ...     0     0          0        0     0         0              0    0   \n",
              "4  ...     0     0          0        0     0         0              0    0   \n",
              "\n",
              "   zu  zuckerberg  \n",
              "0   0           0  \n",
              "1   0           0  \n",
              "2   0           0  \n",
              "3   0           0  \n",
              "4   0           0  \n",
              "\n",
              "[5 rows x 5000 columns]"
            ]
          },
          "metadata": {
            "tags": []
          },
          "execution_count": 26
        }
      ]
    },
    {
      "cell_type": "code",
      "metadata": {
        "id": "C1PGH-hXm-Pj"
      },
      "source": [
        "#Importing the  matplotlib library\n",
        "import matplotlib.pyplot as plt"
      ],
      "execution_count": null,
      "outputs": []
    },
    {
      "cell_type": "code",
      "metadata": {
        "id": "mqAT_RJsm-Pj"
      },
      "source": [
        "#Function plot and print the confusion matrix\n",
        "def plot_confusion_matrix(cm, classes,\n",
        "                          normalize=False,\n",
        "                          title='Confusion matrix',\n",
        "                          cmap=plt.cm.Blues):\n",
        "    \"\"\"\n",
        "    See full source and example: \n",
        "    http://scikit-learn.org/stable/auto_examples/model_selection/plot_confusion_matrix.html\n",
        "    \n",
        "    This function prints and plots the confusion matrix.\n",
        "    Normalization can be applied by setting `normalize=True`.\n",
        "    \"\"\"\n",
        "    plt.imshow(cm, interpolation='nearest', cmap=cmap)\n",
        "    plt.title(title)\n",
        "    plt.colorbar()\n",
        "    tick_marks = np.arange(len(classes))\n",
        "    plt.xticks(tick_marks, classes, rotation=45)\n",
        "    plt.yticks(tick_marks, classes)\n",
        "\n",
        "    if normalize:\n",
        "        cm = cm.astype('float') / cm.sum(axis=1)[:, np.newaxis]\n",
        "        print(\"Normalized confusion matrix\")\n",
        "    else:\n",
        "        print('Confusion matrix, without normalization')\n",
        "\n",
        "    thresh = cm.max() / 2.\n",
        "    for i, j in itertools.product(range(cm.shape[0]), range(cm.shape[1])):\n",
        "        plt.text(j, i, cm[i, j],\n",
        "                 horizontalalignment=\"center\",\n",
        "                 color=\"white\" if cm[i, j] > thresh else \"black\")\n",
        "\n",
        "    plt.tight_layout()\n",
        "    plt.ylabel('True label')\n",
        "    plt.xlabel('Predicted label')"
      ],
      "execution_count": null,
      "outputs": []
    },
    {
      "cell_type": "markdown",
      "metadata": {
        "id": "ri1nghe1m-Pj"
      },
      "source": [
        "### MultinomialNB Algorithm"
      ]
    },
    {
      "cell_type": "code",
      "metadata": {
        "id": "S69dCOXLm-Pk"
      },
      "source": [
        "#Importing the  MultinomialNB classifier\n",
        "from sklearn.naive_bayes import MultinomialNB\n",
        "classifier=MultinomialNB()"
      ],
      "execution_count": null,
      "outputs": []
    },
    {
      "cell_type": "code",
      "metadata": {
        "id": "u8EN9Mlom-Pk"
      },
      "source": [
        "from sklearn import metrics\n",
        "import numpy as np\n",
        "import itertools"
      ],
      "execution_count": null,
      "outputs": []
    },
    {
      "cell_type": "code",
      "metadata": {
        "id": "Uip3ung1m-Pk",
        "outputId": "1d7e812b-b78b-47b0-de40-4f86a85b2c32"
      },
      "source": [
        "classifier.fit(X_train, y_train)\n",
        "pred = classifier.predict(X_test)\n",
        "score = metrics.accuracy_score(y_test, pred)\n",
        "print(\"accuracy:   %0.3f\" % score)\n",
        "cm = metrics.confusion_matrix(y_test, pred)\n",
        "plot_confusion_matrix(cm, classes=['FAKE', 'REAL'])"
      ],
      "execution_count": null,
      "outputs": [
        {
          "output_type": "stream",
          "text": [
            "accuracy:   0.901\n",
            "Confusion matrix, without normalization\n"
          ],
          "name": "stdout"
        },
        {
          "output_type": "display_data",
          "data": {
            "image/png": "[encoded data removed]",
            "text/plain": [
              "<Figure size 432x288 with 2 Axes>"
            ]
          },
          "metadata": {
            "tags": [],
            "needs_background": "light"
          }
        }
      ]
    },
    {
      "cell_type": "code",
      "metadata": {
        "id": "SwjSYO90m-Pk",
        "outputId": "e643a67a-e494-4376-9717-7e794c9d012d"
      },
      "source": [
        "#Accuracy of the MultinomialNB classifier\n",
        "classifier.fit(X_train, y_train)\n",
        "pred = classifier.predict(X_test)\n",
        "score = metrics.accuracy_score(y_test, pred)\n",
        "score"
      ],
      "execution_count": null,
      "outputs": [
        {
          "output_type": "execute_result",
          "data": {
            "text/plain": [
              "0.9010770505385253"
            ]
          },
          "metadata": {
            "tags": []
          },
          "execution_count": 32
        }
      ]
    },
    {
      "cell_type": "code",
      "metadata": {
        "id": "01EvkeYrm-Pl",
        "outputId": "a3baba1e-beb6-4876-ba1c-165ccdce19d7"
      },
      "source": [
        "y_train.shape"
      ],
      "execution_count": null,
      "outputs": [
        {
          "output_type": "execute_result",
          "data": {
            "text/plain": [
              "(12250,)"
            ]
          },
          "metadata": {
            "tags": []
          },
          "execution_count": 33
        }
      ]
    },
    {
      "cell_type": "code",
      "metadata": {
        "id": "TabOUZQLm-Pl"
      },
      "source": [
        ""
      ],
      "execution_count": null,
      "outputs": []
    },
    {
      "cell_type": "markdown",
      "metadata": {
        "id": "7UD0sl_Zm-Pl"
      },
      "source": [
        "### Passive Aggressive Classifier Algorithm"
      ]
    },
    {
      "cell_type": "code",
      "metadata": {
        "id": "kzpz23Kpm-Pl"
      },
      "source": [
        "#Importing the PassiveAggressiveClassifier\n",
        "from sklearn.linear_model import PassiveAggressiveClassifier\n",
        "linear_clf = PassiveAggressiveClassifier(n_iter_no_change=50)"
      ],
      "execution_count": null,
      "outputs": []
    },
    {
      "cell_type": "code",
      "metadata": {
        "id": "LP158Y78m-Pm",
        "outputId": "af6c2cb2-52fd-49ec-fdce-e9087a7354b6"
      },
      "source": [
        "linear_clf.fit(X_train, y_train)\n",
        "pred = linear_clf.predict(X_test)\n",
        "score = metrics.accuracy_score(y_test, pred)\n",
        "print(\"accuracy:   %0.3f\" % score)\n",
        "cm = metrics.confusion_matrix(y_test, pred)\n",
        "plot_confusion_matrix(cm, classes=['FAKE Data', 'REAL Data'])"
      ],
      "execution_count": null,
      "outputs": [
        {
          "output_type": "stream",
          "text": [
            "accuracy:   0.917\n",
            "Confusion matrix, without normalization\n"
          ],
          "name": "stdout"
        },
        {
          "output_type": "display_data",
          "data": {
            "image/png": "[encoded data removed]",
            "text/plain": [
              "<Figure size 432x288 with 2 Axes>"
            ]
          },
          "metadata": {
            "tags": [],
            "needs_background": "light"
          }
        }
      ]
    },
    {
      "cell_type": "markdown",
      "metadata": {
        "id": "yNuz-UC7m-Pm"
      },
      "source": [
        "### Multinomial Classifier with Hyperparameter"
      ]
    },
    {
      "cell_type": "code",
      "metadata": {
        "id": "OG5wU7nLm-Pm"
      },
      "source": [
        "classifier=MultinomialNB(alpha=0.1)"
      ],
      "execution_count": null,
      "outputs": []
    },
    {
      "cell_type": "code",
      "metadata": {
        "id": "qxKdaiIsm-Pm",
        "outputId": "15effb82-f16c-4403-881a-8b6a7f452776"
      },
      "source": [
        "previous_score=0\n",
        "for alpha in np.arange(0,1,0.1):\n",
        "    sub_classifier=MultinomialNB(alpha=alpha)\n",
        "    sub_classifier.fit(X_train,y_train)\n",
        "    y_pred=sub_classifier.predict(X_test)\n",
        "    score = metrics.accuracy_score(y_test, y_pred)\n",
        "    if score>previous_score:\n",
        "        classifier=sub_classifier\n",
        "    print(\"Alpha: {}, Score : {}\".format(alpha,score))"
      ],
      "execution_count": null,
      "outputs": [
        {
          "output_type": "stream",
          "text": [
            "D:\\anaconda3\\lib\\site-packages\\sklearn\\naive_bayes.py:511: UserWarning: alpha too small will result in numeric errors, setting alpha = 1.0e-10\n",
            "  warnings.warn('alpha too small will result in numeric errors, '\n"
          ],
          "name": "stderr"
        },
        {
          "output_type": "stream",
          "text": [
            "Alpha: 0.0, Score : 0.8906379453189727\n",
            "Alpha: 0.1, Score : 0.9012427506213753\n",
            "Alpha: 0.2, Score : 0.9015741507870754\n",
            "Alpha: 0.30000000000000004, Score : 0.9015741507870754\n",
            "Alpha: 0.4, Score : 0.9007456503728252\n",
            "Alpha: 0.5, Score : 0.9005799502899752\n",
            "Alpha: 0.6000000000000001, Score : 0.9015741507870754\n",
            "Alpha: 0.7000000000000001, Score : 0.9019055509527755\n",
            "Alpha: 0.8, Score : 0.9007456503728252\n",
            "Alpha: 0.9, Score : 0.9009113504556753\n"
          ],
          "name": "stdout"
        }
      ]
    },
    {
      "cell_type": "code",
      "metadata": {
        "id": "73d6yw8Gm-Pn"
      },
      "source": [
        "#Get the Features names\n",
        "feature_names = cv.get_feature_names()"
      ],
      "execution_count": null,
      "outputs": []
    },
    {
      "cell_type": "code",
      "metadata": {
        "id": "97u--iTLm-Pn",
        "outputId": "deacc1b2-5a7f-4059-91dc-3ec0fcd1fa92"
      },
      "source": [
        "classifier.coef_[0]"
      ],
      "execution_count": null,
      "outputs": [
        {
          "output_type": "execute_result",
          "data": {
            "text/plain": [
              "array([ -9.10036605,  -8.6227385 ,  -9.10036605, ..., -10.79496178,\n",
              "        -8.91464891,  -9.32862471])"
            ]
          },
          "metadata": {
            "tags": []
          },
          "execution_count": 42
        }
      ]
    },
    {
      "cell_type": "code",
      "metadata": {
        "id": "KK-22Ck-m-Pn",
        "outputId": "e3c83260-da3c-4883-9fbf-a8a0bcd42c07"
      },
      "source": [
        "#Most real feature names\n",
        "sorted(zip(classifier.coef_[0], feature_names), reverse=True)[:20]"
      ],
      "execution_count": null,
      "outputs": [
        {
          "output_type": "execute_result",
          "data": {
            "text/plain": [
              "[(-4.000126376264419, 'trump'),\n",
              " (-4.287849914102974, 'hillari'),\n",
              " (-4.396366840720952, 'clinton'),\n",
              " (-4.899946945868169, 'elect'),\n",
              " (-5.176575820557189, 'new'),\n",
              " (-5.2347075860082, 'comment'),\n",
              " (-5.273945400633064, 'video'),\n",
              " (-5.386793987777445, 'war'),\n",
              " (-5.396799073738407, 'us'),\n",
              " (-5.4119969346478385, 'hillari clinton'),\n",
              " (-5.417114653084819, 'fbi'),\n",
              " (-5.4806617042015136, 'vote'),\n",
              " (-5.566232695514838, 'email'),\n",
              " (-5.578216062401935, 'world'),\n",
              " (-5.633992599859346, 'obama'),\n",
              " (-5.734478675432337, 'donald'),\n",
              " (-5.763072474799078, 'donald trump'),\n",
              " (-5.785067496384624, 'russia'),\n",
              " (-5.846201884877992, 'day'),\n",
              " (-5.862087842466802, 'america')]"
            ]
          },
          "metadata": {
            "tags": []
          },
          "execution_count": 43
        }
      ]
    },
    {
      "cell_type": "code",
      "metadata": {
        "id": "MxPcv_vKm-Po",
        "outputId": "bf959a1c-2159-40fa-d37f-f13b0290c728"
      },
      "source": [
        "#Most fake feature names\n",
        "sorted(zip(classifier.coef_[0], feature_names))[:5000]"
      ],
      "execution_count": null,
      "outputs": [
        {
          "output_type": "execute_result",
          "data": {
            "text/plain": [
              "[(-10.79496177525616, 'abe'),\n",
              " (-10.79496177525616, 'abroad'),\n",
              " (-10.79496177525616, 'abus new'),\n",
              " (-10.79496177525616, 'abus new york'),\n",
              " (-10.79496177525616, 'act new'),\n",
              " (-10.79496177525616, 'act new york'),\n",
              " (-10.79496177525616, 'advic'),\n",
              " (-10.79496177525616, 'advis new'),\n",
              " (-10.79496177525616, 'advis new york'),\n",
              " (-10.79496177525616, 'afford care'),\n",
              " (-10.79496177525616, 'afford care act'),\n",
              " (-10.79496177525616, 'age new'),\n",
              " (-10.79496177525616, 'age new york'),\n",
              " (-10.79496177525616, 'agenda breitbart'),\n",
              " (-10.79496177525616, 'ail'),\n",
              " (-10.79496177525616, 'airbag'),\n",
              " (-10.79496177525616, 'aleppo new'),\n",
              " (-10.79496177525616, 'aleppo new york'),\n",
              " (-10.79496177525616, 'ali'),\n",
              " (-10.79496177525616, 'america breitbart'),\n",
              " (-10.79496177525616, 'america new york'),\n",
              " (-10.79496177525616, 'ami'),\n",
              " (-10.79496177525616, 'ami schumer'),\n",
              " (-10.79496177525616, 'amp'),\n",
              " (-10.79496177525616, 'ann'),\n",
              " (-10.79496177525616, 'ann coulter'),\n",
              " (-10.79496177525616, 'announc new'),\n",
              " (-10.79496177525616, 'answer new'),\n",
              " (-10.79496177525616, 'anti abort'),\n",
              " (-10.79496177525616, 'applaud'),\n",
              " (-10.79496177525616, 'arson'),\n",
              " (-10.79496177525616, 'asian'),\n",
              " (-10.79496177525616, 'assail'),\n",
              " (-10.79496177525616, 'athlet'),\n",
              " (-10.79496177525616, 'attack breitbart'),\n",
              " (-10.79496177525616, 'attack new'),\n",
              " (-10.79496177525616, 'attack new york'),\n",
              " (-10.79496177525616, 'attack syria'),\n",
              " (-10.79496177525616, 'attend'),\n",
              " (-10.79496177525616, 'avert'),\n",
              " (-10.79496177525616, 'away new'),\n",
              " (-10.79496177525616, 'away new york'),\n",
              " (-10.79496177525616, 'back new'),\n",
              " (-10.79496177525616, 'back new york'),\n",
              " (-10.79496177525616, 'baltimor'),\n",
              " (-10.79496177525616, 'ban breitbart'),\n",
              " (-10.79496177525616, 'ban new'),\n",
              " (-10.79496177525616, 'ban new york'),\n",
              " (-10.79496177525616, 'bangladesh'),\n",
              " (-10.79496177525616, 'barron trump'),\n",
              " (-10.79496177525616, 'basic'),\n",
              " (-10.79496177525616, 'basketbal'),\n",
              " (-10.79496177525616, 'basketbal player'),\n",
              " (-10.79496177525616, 'baton'),\n",
              " (-10.79496177525616, 'baton roug'),\n",
              " (-10.79496177525616, 'battl new'),\n",
              " (-10.79496177525616, 'battl new york'),\n",
              " (-10.79496177525616, 'bay'),\n",
              " (-10.79496177525616, 'beach new'),\n",
              " (-10.79496177525616, 'begin new'),\n",
              " (-10.79496177525616, 'behead photo'),\n",
              " (-10.79496177525616, 'berkeley breitbart'),\n",
              " (-10.79496177525616, 'betsi'),\n",
              " (-10.79496177525616, 'betsi devo'),\n",
              " (-10.79496177525616, 'bill breitbart'),\n",
              " (-10.79496177525616, 'bill cunningham'),\n",
              " (-10.79496177525616, 'bill new'),\n",
              " (-10.79496177525616, 'bill new york'),\n",
              " (-10.79496177525616, 'bill reilli'),\n",
              " (-10.79496177525616, 'billi'),\n",
              " (-10.79496177525616, 'blue state'),\n",
              " (-10.79496177525616, 'blue state blue'),\n",
              " (-10.79496177525616, 'bolster'),\n",
              " (-10.79496177525616, 'bomb kill'),\n",
              " (-10.79496177525616, 'border patrol'),\n",
              " (-10.79496177525616, 'border patrol agent'),\n",
              " (-10.79496177525616, 'border state'),\n",
              " (-10.79496177525616, 'border wall'),\n",
              " (-10.79496177525616, 'border wall breitbart'),\n",
              " (-10.79496177525616, 'boston'),\n",
              " (-10.79496177525616, 'bowl'),\n",
              " (-10.79496177525616, 'box offic'),\n",
              " (-10.79496177525616, 'bradi'),\n",
              " (-10.79496177525616, 'brand new'),\n",
              " (-10.79496177525616, 'brand new york'),\n",
              " (-10.79496177525616, 'breath'),\n",
              " (-10.79496177525616, 'breitbart news daili'),\n",
              " (-10.79496177525616, 'brief new'),\n",
              " (-10.79496177525616, 'brief new york'),\n",
              " (-10.79496177525616, 'broadway'),\n",
              " (-10.79496177525616, 'bronx'),\n",
              " (-10.79496177525616, 'brooklyn'),\n",
              " (-10.79496177525616, 'brooklyn new'),\n",
              " (-10.79496177525616, 'brooklyn new york'),\n",
              " (-10.79496177525616, 'buffett'),\n",
              " (-10.79496177525616, 'burden'),\n",
              " (-10.79496177525616, 'bureaucrat'),\n",
              " (-10.79496177525616, 'caitlyn'),\n",
              " (-10.79496177525616, 'caitlyn jenner'),\n",
              " (-10.79496177525616, 'california today'),\n",
              " (-10.79496177525616, 'campaign breitbart'),\n",
              " (-10.79496177525616, 'campaign new'),\n",
              " (-10.79496177525616, 'campaign new york'),\n",
              " (-10.79496177525616, 'campu breitbart'),\n",
              " (-10.79496177525616, 'cann'),\n",
              " (-10.79496177525616, 'car new'),\n",
              " (-10.79496177525616, 'car new york'),\n",
              " (-10.79496177525616, 'care act'),\n",
              " (-10.79496177525616, 'care act new'),\n",
              " (-10.79496177525616, 'care bill'),\n",
              " (-10.79496177525616, 'care breitbart'),\n",
              " (-10.79496177525616, 'carri fisher'),\n",
              " (-10.79496177525616, 'carson'),\n",
              " (-10.79496177525616, 'case new'),\n",
              " (-10.79496177525616, 'case new york'),\n",
              " (-10.79496177525616, 'castro'),\n",
              " (-10.79496177525616, 'caucu'),\n",
              " (-10.79496177525616, 'ceas'),\n",
              " (-10.79496177525616, 'ceas fire'),\n",
              " (-10.79496177525616, 'chamber'),\n",
              " (-10.79496177525616, 'championship'),\n",
              " (-10.79496177525616, 'championship new'),\n",
              " (-10.79496177525616, 'championship new york'),\n",
              " (-10.79496177525616, 'chang new'),\n",
              " (-10.79496177525616, 'chang new york'),\n",
              " (-10.79496177525616, 'charg new york'),\n",
              " (-10.79496177525616, 'charleston'),\n",
              " (-10.79496177525616, 'charlott'),\n",
              " (-10.79496177525616, 'cher'),\n",
              " (-10.79496177525616, 'chief new'),\n",
              " (-10.79496177525616, 'chief new york'),\n",
              " (-10.79496177525616, 'china new york'),\n",
              " (-10.79496177525616, 'chri christi'),\n",
              " (-10.79496177525616, 'christi'),\n",
              " (-10.79496177525616, 'christoph'),\n",
              " (-10.79496177525616, 'chuck'),\n",
              " (-10.79496177525616, 'chuck todd'),\n",
              " (-10.79496177525616, 'circuit'),\n",
              " (-10.79496177525616, 'citi new'),\n",
              " (-10.79496177525616, 'citi new york'),\n",
              " (-10.79496177525616, 'citizenship'),\n",
              " (-10.79496177525616, 'climat chang new'),\n",
              " (-10.79496177525616, 'clinch'),\n",
              " (-10.79496177525616, 'clinton new york'),\n",
              " (-10.79496177525616, 'clue'),\n",
              " (-10.79496177525616, 'coach'),\n",
              " (-10.79496177525616, 'collid'),\n",
              " (-10.79496177525616, 'collin'),\n",
              " (-10.79496177525616, 'comedi'),\n",
              " (-10.79496177525616, 'comedi central'),\n",
              " (-10.79496177525616, 'comey fire'),\n",
              " (-10.79496177525616, 'commerc'),\n",
              " (-10.79496177525616, 'commission'),\n",
              " (-10.79496177525616, 'compet'),\n",
              " (-10.79496177525616, 'complex'),\n",
              " (-10.79496177525616, 'conceal'),\n",
              " (-10.79496177525616, 'confirm hear'),\n",
              " (-10.79496177525616, 'congress breitbart'),\n",
              " (-10.79496177525616, 'congress new york'),\n",
              " (-10.79496177525616, 'content'),\n",
              " (-10.79496177525616, 'control new'),\n",
              " (-10.79496177525616, 'control new york'),\n",
              " (-10.79496177525616, 'coulter'),\n",
              " (-10.79496177525616, 'counsel'),\n",
              " (-10.79496177525616, 'countri breitbart'),\n",
              " (-10.79496177525616, 'countri new'),\n",
              " (-10.79496177525616, 'cours'),\n",
              " (-10.79496177525616, 'court block'),\n",
              " (-10.79496177525616, 'court new'),\n",
              " (-10.79496177525616, 'court new york'),\n",
              " (-10.79496177525616, 'cpac'),\n",
              " (-10.79496177525616, 'crash new'),\n",
              " (-10.79496177525616, 'crash new york'),\n",
              " (-10.79496177525616, 'crime breitbart'),\n",
              " (-10.79496177525616, 'crime new'),\n",
              " (-10.79496177525616, 'crime new york'),\n",
              " (-10.79496177525616, 'crimin alien'),\n",
              " (-10.79496177525616, 'crisi new'),\n",
              " (-10.79496177525616, 'crisi new york'),\n",
              " (-10.79496177525616, 'crown'),\n",
              " (-10.79496177525616, 'cunningham'),\n",
              " (-10.79496177525616, 'curb'),\n",
              " (-10.79496177525616, 'dam'),\n",
              " (-10.79496177525616, 'davo'),\n",
              " (-10.79496177525616, 'day breitbart'),\n",
              " (-10.79496177525616, 'day new york'),\n",
              " (-10.79496177525616, 'day parad'),\n",
              " (-10.79496177525616, 'dead new'),\n",
              " (-10.79496177525616, 'dead new york'),\n",
              " (-10.79496177525616, 'deal breitbart'),\n",
              " (-10.79496177525616, 'deal new'),\n",
              " (-10.79496177525616, 'deal new york'),\n",
              " (-10.79496177525616, 'death new'),\n",
              " (-10.79496177525616, 'death new york'),\n",
              " (-10.79496177525616, 'debat new'),\n",
              " (-10.79496177525616, 'debat new york'),\n",
              " (-10.79496177525616, 'defi'),\n",
              " (-10.79496177525616, 'defund'),\n",
              " (-10.79496177525616, 'delingpol'),\n",
              " (-10.79496177525616, 'dem rep'),\n",
              " (-10.79496177525616, 'dem sen'),\n",
              " (-10.79496177525616, 'democrat breitbart'),\n",
              " (-10.79496177525616, 'deport breitbart'),\n",
              " (-10.79496177525616, 'despair'),\n",
              " (-10.79496177525616, 'devo'),\n",
              " (-10.79496177525616, 'dh'),\n",
              " (-10.79496177525616, 'die new'),\n",
              " (-10.79496177525616, 'die new york'),\n",
              " (-10.79496177525616, 'diego'),\n",
              " (-10.79496177525616, 'dilma'),\n",
              " (-10.79496177525616, 'dilma rousseff'),\n",
              " (-10.79496177525616, 'disappoint'),\n",
              " (-10.79496177525616, 'divorc'),\n",
              " (-10.79496177525616, 'doctrin'),\n",
              " (-10.79496177525616, 'donald trump breitbart'),\n",
              " (-10.79496177525616, 'donald trump campaign'),\n",
              " (-10.79496177525616, 'donald trump inaugur'),\n",
              " (-10.79496177525616, 'dossier'),\n",
              " (-10.79496177525616, 'drama'),\n",
              " (-10.79496177525616, 'drive car'),\n",
              " (-10.79496177525616, 'dunham'),\n",
              " (-10.79496177525616, 'dylann'),\n",
              " (-10.79496177525616, 'dylann roof'),\n",
              " (-10.79496177525616, 'eas'),\n",
              " (-10.79496177525616, 'easter'),\n",
              " (-10.79496177525616, 'economi new'),\n",
              " (-10.79496177525616, 'ecuador'),\n",
              " (-10.79496177525616, 'effort new york'),\n",
              " (-10.79496177525616, 'egyptair'),\n",
              " (-10.79496177525616, 'elect breitbart'),\n",
              " (-10.79496177525616, 'elect loss'),\n",
              " (-10.79496177525616, 'elect new york'),\n",
              " (-10.79496177525616, 'embassi jerusalem'),\n",
              " (-10.79496177525616, 'emmi'),\n",
              " (-10.79496177525616, 'empow'),\n",
              " (-10.79496177525616, 'end new'),\n",
              " (-10.79496177525616, 'end new york'),\n",
              " (-10.79496177525616, 'england'),\n",
              " (-10.79496177525616, 'epa'),\n",
              " (-10.79496177525616, 'era new'),\n",
              " (-10.79496177525616, 'era new york'),\n",
              " (-10.79496177525616, 'espn'),\n",
              " (-10.79496177525616, 'europ new york'),\n",
              " (-10.79496177525616, 'european union'),\n",
              " (-10.79496177525616, 'even brief'),\n",
              " (-10.79496177525616, 'even brief new'),\n",
              " (-10.79496177525616, 'event breitbart'),\n",
              " (-10.79496177525616, 'execut new'),\n",
              " (-10.79496177525616, 'execut new york'),\n",
              " (-10.79496177525616, 'execut order breitbart'),\n",
              " (-10.79496177525616, 'expand'),\n",
              " (-10.79496177525616, 'explain new'),\n",
              " (-10.79496177525616, 'explain new york'),\n",
              " (-10.79496177525616, 'extradit'),\n",
              " (-10.79496177525616, 'face new'),\n",
              " (-10.79496177525616, 'faction'),\n",
              " (-10.79496177525616, 'fake news breitbart'),\n",
              " (-10.79496177525616, 'fake news new'),\n",
              " (-10.79496177525616, 'falluja'),\n",
              " (-10.79496177525616, 'familiar'),\n",
              " (-10.79496177525616, 'farewel'),\n",
              " (-10.79496177525616, 'fargo'),\n",
              " (-10.79496177525616, 'fatal shoot'),\n",
              " (-10.79496177525616, 'fear new york'),\n",
              " (-10.79496177525616, 'fear trump'),\n",
              " (-10.79496177525616, 'feinstein'),\n",
              " (-10.79496177525616, 'fidel'),\n",
              " (-10.79496177525616, 'fidel castro'),\n",
              " (-10.79496177525616, 'fight new'),\n",
              " (-10.79496177525616, 'fight new york'),\n",
              " (-10.79496177525616, 'fight trump'),\n",
              " (-10.79496177525616, 'filibust'),\n",
              " (-10.79496177525616, 'fillon'),\n",
              " (-10.79496177525616, 'find new york'),\n",
              " (-10.79496177525616, 'fire breitbart'),\n",
              " (-10.79496177525616, 'fire new york'),\n",
              " (-10.79496177525616, 'fisher'),\n",
              " (-10.79496177525616, 'fitton'),\n",
              " (-10.79496177525616, 'flight new'),\n",
              " (-10.79496177525616, 'flight new york'),\n",
              " (-10.79496177525616, 'fmr'),\n",
              " (-10.79496177525616, 'fort'),\n",
              " (-10.79496177525616, 'found new'),\n",
              " (-10.79496177525616, 'found new york'),\n",
              " (-10.79496177525616, 'fran oi'),\n",
              " (-10.79496177525616, 'fran oi fillon'),\n",
              " (-10.79496177525616, 'franc new'),\n",
              " (-10.79496177525616, 'franc new york'),\n",
              " (-10.79496177525616, 'fray'),\n",
              " (-10.79496177525616, 'freddi'),\n",
              " (-10.79496177525616, 'freddi gray'),\n",
              " (-10.79496177525616, 'freedom caucu'),\n",
              " (-10.79496177525616, 'french presidenti'),\n",
              " (-10.79496177525616, 'friday even'),\n",
              " (-10.79496177525616, 'friday even brief'),\n",
              " (-10.79496177525616, 'fs'),\n",
              " (-10.79496177525616, 'futur new'),\n",
              " (-10.79496177525616, 'futur new york'),\n",
              " (-10.79496177525616, 'gaffney'),\n",
              " (-10.79496177525616, 'game breitbart'),\n",
              " (-10.79496177525616, 'game new'),\n",
              " (-10.79496177525616, 'game new york'),\n",
              " (-10.79496177525616, 'gawker'),\n",
              " (-10.79496177525616, 'gener new'),\n",
              " (-10.79496177525616, 'gener new york'),\n",
              " (-10.79496177525616, 'georg michael'),\n",
              " (-10.79496177525616, 'get back'),\n",
              " (-10.79496177525616, 'get new'),\n",
              " (-10.79496177525616, 'go new york'),\n",
              " (-10.79496177525616, 'golden globe'),\n",
              " (-10.79496177525616, 'golden state'),\n",
              " (-10.79496177525616, 'golden state warrior'),\n",
              " (-10.79496177525616, 'gop rep'),\n",
              " (-10.79496177525616, 'gop sen'),\n",
              " (-10.79496177525616, 'gorka'),\n",
              " (-10.79496177525616, 'gorsuch'),\n",
              " (-10.79496177525616, 'gorsuch breitbart'),\n",
              " (-10.79496177525616, 'govern new york'),\n",
              " (-10.79496177525616, 'grammi'),\n",
              " (-10.79496177525616, 'graphic'),\n",
              " (-10.79496177525616, 'gray'),\n",
              " (-10.79496177525616, 'griffin'),\n",
              " (-10.79496177525616, 'guant'),\n",
              " (-10.79496177525616, 'guant namo'),\n",
              " (-10.79496177525616, 'gulf'),\n",
              " (-10.79496177525616, 'gymnast'),\n",
              " (-10.79496177525616, 'hack new'),\n",
              " (-10.79496177525616, 'hack new york'),\n",
              " (-10.79496177525616, 'hbo'),\n",
              " (-10.79496177525616, 'health bill'),\n",
              " (-10.79496177525616, 'health care bill'),\n",
              " (-10.79496177525616, 'health insur'),\n",
              " (-10.79496177525616, 'health law'),\n",
              " (-10.79496177525616, 'healthcar bill'),\n",
              " (-10.79496177525616, 'hear new'),\n",
              " (-10.79496177525616, 'hear new york'),\n",
              " (-10.79496177525616, 'heart new'),\n",
              " (-10.79496177525616, 'heart new york'),\n",
              " (-10.79496177525616, 'high school'),\n",
              " (-10.79496177525616, 'histori new'),\n",
              " (-10.79496177525616, 'histori new york'),\n",
              " (-10.79496177525616, 'hockey'),\n",
              " (-10.79496177525616, 'holiday'),\n",
              " (-10.79496177525616, 'home new'),\n",
              " (-10.79496177525616, 'home new york'),\n",
              " (-10.79496177525616, 'hometown'),\n",
              " (-10.79496177525616, 'horribl'),\n",
              " (-10.79496177525616, 'hostil'),\n",
              " (-10.79496177525616, 'hous breitbart'),\n",
              " (-10.79496177525616, 'hous new york'),\n",
              " (-10.79496177525616, 'hungari'),\n",
              " (-10.79496177525616, 'hurrican matthew'),\n",
              " (-10.79496177525616, 'imam'),\n",
              " (-10.79496177525616, 'immigr order'),\n",
              " (-10.79496177525616, 'inaugur speech'),\n",
              " (-10.79496177525616, 'inquiri new'),\n",
              " (-10.79496177525616, 'inquiri new york'),\n",
              " (-10.79496177525616, 'intend'),\n",
              " (-10.79496177525616, 'interest rate'),\n",
              " (-10.79496177525616, 'investig breitbart'),\n",
              " (-10.79496177525616, 'investig trump'),\n",
              " (-10.79496177525616, 'isi new'),\n",
              " (-10.79496177525616, 'isi new york'),\n",
              " (-10.79496177525616, 'isol'),\n",
              " (-10.79496177525616, 'issu new'),\n",
              " (-10.79496177525616, 'issu new york'),\n",
              " (-10.79496177525616, 'jake'),\n",
              " (-10.79496177525616, 'jane'),\n",
              " (-10.79496177525616, 'jare kushner'),\n",
              " (-10.79496177525616, 'jerri'),\n",
              " (-10.79496177525616, 'jerri brown'),\n",
              " (-10.79496177525616, 'jo'),\n",
              " (-10.79496177525616, 'job breitbart'),\n",
              " (-10.79496177525616, 'job new'),\n",
              " (-10.79496177525616, 'job new york'),\n",
              " (-10.79496177525616, 'jong'),\n",
              " (-10.79496177525616, 'jong nam'),\n",
              " (-10.79496177525616, 'jong un'),\n",
              " (-10.79496177525616, 'journey'),\n",
              " (-10.79496177525616, 'jr'),\n",
              " (-10.79496177525616, 'judici'),\n",
              " (-10.79496177525616, 'justin'),\n",
              " (-10.79496177525616, 'justin trudeau'),\n",
              " (-10.79496177525616, 'kabul'),\n",
              " (-10.79496177525616, 'kathi'),\n",
              " (-10.79496177525616, 'kathi griffin'),\n",
              " (-10.79496177525616, 'kati'),\n",
              " (-10.79496177525616, 'kellogg'),\n",
              " (-10.79496177525616, 'kevin'),\n",
              " (-10.79496177525616, 'kill new'),\n",
              " (-10.79496177525616, 'kill new york'),\n",
              " (-10.79496177525616, 'kim jong'),\n",
              " (-10.79496177525616, 'kim jong nam'),\n",
              " (-10.79496177525616, 'kim jong un'),\n",
              " (-10.79496177525616, 'kitchen'),\n",
              " (-10.79496177525616, 'know know'),\n",
              " (-10.79496177525616, 'know new york'),\n",
              " (-10.79496177525616, 'korea new'),\n",
              " (-10.79496177525616, 'korea new york'),\n",
              " (-10.79496177525616, 'krauthamm'),\n",
              " (-10.79496177525616, 'kushner'),\n",
              " (-10.79496177525616, 'la la'),\n",
              " (-10.79496177525616, 'la la land'),\n",
              " (-10.79496177525616, 'la land'),\n",
              " (-10.79496177525616, 'labour'),\n",
              " (-10.79496177525616, 'lago'),\n",
              " (-10.79496177525616, 'latin'),\n",
              " (-10.79496177525616, 'lauderdal'),\n",
              " (-10.79496177525616, 'law new'),\n",
              " (-10.79496177525616, 'law new york'),\n",
              " (-10.79496177525616, 'le pen'),\n",
              " (-10.79496177525616, 'leader new'),\n",
              " (-10.79496177525616, 'leader new york'),\n",
              " (-10.79496177525616, 'legitim'),\n",
              " (-10.79496177525616, 'lena'),\n",
              " (-10.79496177525616, 'lena dunham'),\n",
              " (-10.79496177525616, 'levin'),\n",
              " (-10.79496177525616, 'lewi'),\n",
              " (-10.79496177525616, 'life new'),\n",
              " (-10.79496177525616, 'life new york'),\n",
              " (-10.79496177525616, 'linda'),\n",
              " (-10.79496177525616, 'line new'),\n",
              " (-10.79496177525616, 'line new york'),\n",
              " (-10.79496177525616, 'listen new'),\n",
              " (-10.79496177525616, 'listen new york'),\n",
              " (-10.79496177525616, 'lite'),\n",
              " (-10.79496177525616, 'live new'),\n",
              " (-10.79496177525616, 'live new york'),\n",
              " (-10.79496177525616, 'lo angel'),\n",
              " (-10.79496177525616, 'locht'),\n",
              " (-10.79496177525616, 'london attack'),\n",
              " (-10.79496177525616, 'long island'),\n",
              " (-10.79496177525616, 'louvr'),\n",
              " (-10.79496177525616, 'machin new'),\n",
              " (-10.79496177525616, 'machin new york'),\n",
              " (-10.79496177525616, 'macron'),\n",
              " (-10.79496177525616, 'madonna'),\n",
              " (-10.79496177525616, 'maker'),\n",
              " (-10.79496177525616, 'malaysia'),\n",
              " (-10.79496177525616, 'mall'),\n",
              " (-10.79496177525616, 'man new'),\n",
              " (-10.79496177525616, 'man new york'),\n",
              " (-10.79496177525616, 'manchin'),\n",
              " (-10.79496177525616, 'manuel'),\n",
              " (-10.79496177525616, 'mar'),\n",
              " (-10.79496177525616, 'mar lago'),\n",
              " (-10.79496177525616, 'marcher'),\n",
              " (-10.79496177525616, 'marin le'),\n",
              " (-10.79496177525616, 'marin le pen'),\n",
              " (-10.79496177525616, 'market new'),\n",
              " (-10.79496177525616, 'market new york'),\n",
              " (-10.79496177525616, 'marlow'),\n",
              " (-10.79496177525616, 'maxin'),\n",
              " (-10.79496177525616, 'maxin water'),\n",
              " (-10.79496177525616, 'mcconnel'),\n",
              " (-10.79496177525616, 'media breitbart'),\n",
              " (-10.79496177525616, 'media new'),\n",
              " (-10.79496177525616, 'media new york'),\n",
              " (-10.79496177525616, 'meet new'),\n",
              " (-10.79496177525616, 'memori day'),\n",
              " (-10.79496177525616, 'merger'),\n",
              " (-10.79496177525616, 'meryl'),\n",
              " (-10.79496177525616, 'meryl streep'),\n",
              " (-10.79496177525616, 'mexican border'),\n",
              " (-10.79496177525616, 'mexican cartel'),\n",
              " (-10.79496177525616, 'michael phelp'),\n",
              " (-10.79496177525616, 'militari new'),\n",
              " (-10.79496177525616, 'militari new york'),\n",
              " (-10.79496177525616, 'million new york'),\n",
              " (-10.79496177525616, 'milo breitbart'),\n",
              " (-10.79496177525616, 'milo event'),\n",
              " (-10.79496177525616, 'miss new'),\n",
              " (-10.79496177525616, 'miss new york'),\n",
              " (-10.79496177525616, 'mnuchin'),\n",
              " (-10.79496177525616, 'modi'),\n",
              " (-10.79496177525616, 'monday brief'),\n",
              " (-10.79496177525616, 'monday brief new'),\n",
              " (-10.79496177525616, 'monday even'),\n",
              " (-10.79496177525616, 'monday even brief'),\n",
              " (-10.79496177525616, 'money new'),\n",
              " (-10.79496177525616, 'money new york'),\n",
              " (-10.79496177525616, 'month new'),\n",
              " (-10.79496177525616, 'month new york'),\n",
              " (-10.79496177525616, 'monument'),\n",
              " (-10.79496177525616, 'moonlight'),\n",
              " (-10.79496177525616, 'morn brief'),\n",
              " (-10.79496177525616, 'morn brief new'),\n",
              " (-10.79496177525616, 'move embassi jerusalem'),\n",
              " (-10.79496177525616, 'much new'),\n",
              " (-10.79496177525616, 'much new york'),\n",
              " (-10.79496177525616, 'muhammad ali'),\n",
              " (-10.79496177525616, 'multipl'),\n",
              " (-10.79496177525616, 'mulvaney'),\n",
              " (-10.79496177525616, 'myanmar'),\n",
              " (-10.79496177525616, 'nam'),\n",
              " (-10.79496177525616, 'name new'),\n",
              " (-10.79496177525616, 'namo'),\n",
              " (-10.79496177525616, 'nanci'),\n",
              " (-10.79496177525616, 'nat'),\n",
              " (-10.79496177525616, 'nation new'),\n",
              " (-10.79496177525616, 'nation new york'),\n",
              " (-10.79496177525616, 'nation secur advis'),\n",
              " (-10.79496177525616, 'navi seal'),\n",
              " (-10.79496177525616, 'neil gorsuch'),\n",
              " (-10.79496177525616, 'netflix'),\n",
              " (-10.79496177525616, 'new orlean'),\n",
              " (-10.79496177525616, 'new year eve'),\n",
              " (-10.79496177525616, 'new york new'),\n",
              " (-10.79496177525616, 'new york state'),\n",
              " (-10.79496177525616, 'news breitbart'),\n",
              " (-10.79496177525616, 'news daili'),\n",
              " (-10.79496177525616, 'news new'),\n",
              " (-10.79496177525616, 'news new york'),\n",
              " (-10.79496177525616, 'night new'),\n",
              " (-10.79496177525616, 'night new york'),\n",
              " (-10.79496177525616, 'nobel prize'),\n",
              " (-10.79496177525616, 'nomin'),\n",
              " (-10.79496177525616, 'nuclear option'),\n",
              " (-10.79496177525616, 'nune'),\n",
              " (-10.79496177525616, 'ny time'),\n",
              " (-10.79496177525616, 'obama breitbart'),\n",
              " (-10.79496177525616, 'obama era'),\n",
              " (-10.79496177525616, 'obama health'),\n",
              " (-10.79496177525616, 'obama new york'),\n",
              " (-10.79496177525616, 'obama white'),\n",
              " (-10.79496177525616, 'obamacar breitbart'),\n",
              " (-10.79496177525616, 'obamacar lite'),\n",
              " (-10.79496177525616, 'obamacar repeal'),\n",
              " (-10.79496177525616, 'obamacar replac'),\n",
              " (-10.79496177525616, 'odd'),\n",
              " (-10.79496177525616, 'offic kill'),\n",
              " (-10.79496177525616, 'offic new'),\n",
              " (-10.79496177525616, 'offic new york'),\n",
              " (-10.79496177525616, 'offici say'),\n",
              " (-10.79496177525616, 'offici say new'),\n",
              " (-10.79496177525616, 'often'),\n",
              " (-10.79496177525616, 'oi'),\n",
              " (-10.79496177525616, 'oi fillon'),\n",
              " (-10.79496177525616, 'oliv'),\n",
              " (-10.79496177525616, 'one new'),\n",
              " (-10.79496177525616, 'one new york'),\n",
              " (-10.79496177525616, 'op'),\n",
              " (-10.79496177525616, 'open new york'),\n",
              " (-10.79496177525616, 'oppos trump'),\n",
              " (-10.79496177525616, 'order breitbart'),\n",
              " (-10.79496177525616, 'order new'),\n",
              " (-10.79496177525616, 'order new york'),\n",
              " (-10.79496177525616, 'orlando shoot'),\n",
              " (-10.79496177525616, 'orlean'),\n",
              " (-10.79496177525616, 'orovil'),\n",
              " (-10.79496177525616, 'outlet'),\n",
              " (-10.79496177525616, 'overhaul'),\n",
              " (-10.79496177525616, 'parti new'),\n",
              " (-10.79496177525616, 'parti new york'),\n",
              " (-10.79496177525616, 'passport'),\n",
              " (-10.79496177525616, 'past new'),\n",
              " (-10.79496177525616, 'past new york'),\n",
              " (-10.79496177525616, 'path new york'),\n",
              " (-10.79496177525616, 'patrol agent'),\n",
              " (-10.79496177525616, 'paul ryan obamacar'),\n",
              " (-10.79496177525616, 'pelosi'),\n",
              " (-10.79496177525616, 'penguin'),\n",
              " (-10.79496177525616, 'penn state'),\n",
              " (-10.79496177525616, 'peopl breitbart'),\n",
              " (-10.79496177525616, 'perez'),\n",
              " (-10.79496177525616, 'persist'),\n",
              " (-10.79496177525616, 'person new york'),\n",
              " (-10.79496177525616, 'phelp'),\n",
              " (-10.79496177525616, 'pioneer'),\n",
              " (-10.79496177525616, 'plan new'),\n",
              " (-10.79496177525616, 'plan new york'),\n",
              " (-10.79496177525616, 'plane crash'),\n",
              " (-10.79496177525616, 'playoff'),\n",
              " (-10.79496177525616, 'poland'),\n",
              " (-10.79496177525616, 'polic new'),\n",
              " (-10.79496177525616, 'polic say'),\n",
              " (-10.79496177525616, 'polic say new'),\n",
              " (-10.79496177525616, 'polic shoot'),\n",
              " (-10.79496177525616, 'polici breitbart'),\n",
              " (-10.79496177525616, 'polici new'),\n",
              " (-10.79496177525616, 'polici new york'),\n",
              " (-10.79496177525616, 'polit new'),\n",
              " (-10.79496177525616, 'polit new york'),\n",
              " (-10.79496177525616, 'politico'),\n",
              " (-10.79496177525616, 'post new'),\n",
              " (-10.79496177525616, 'post new york'),\n",
              " (-10.79496177525616, 'pound'),\n",
              " (-10.79496177525616, 'power new york'),\n",
              " (-10.79496177525616, 'pregnanc'),\n",
              " (-10.79496177525616, 'pregnant'),\n",
              " (-10.79496177525616, 'presid breitbart'),\n",
              " (-10.79496177525616, 'presid new'),\n",
              " (-10.79496177525616, 'presid new york'),\n",
              " (-10.79496177525616, 'presidenti debat'),\n",
              " (-10.79496177525616, 'press breitbart'),\n",
              " (-10.79496177525616, 'preview'),\n",
              " (-10.79496177525616, 'price new'),\n",
              " (-10.79496177525616, 'price new york'),\n",
              " (-10.79496177525616, 'priebu'),\n",
              " (-10.79496177525616, 'prison new'),\n",
              " (-10.79496177525616, 'prison new york'),\n",
              " (-10.79496177525616, 'problem new'),\n",
              " (-10.79496177525616, 'problem new york'),\n",
              " (-10.79496177525616, 'profession'),\n",
              " (-10.79496177525616, 'prompt'),\n",
              " (-10.79496177525616, 'protest breitbart'),\n",
              " (-10.79496177525616, 'protest new'),\n",
              " (-10.79496177525616, 'proud'),\n",
              " (-10.79496177525616, 'pruitt'),\n",
              " (-10.79496177525616, 'publish'),\n",
              " (-10.79496177525616, 'puerto'),\n",
              " (-10.79496177525616, 'quebec'),\n",
              " (-10.79496177525616, 'queen elizabeth'),\n",
              " (-10.79496177525616, 'rabbi'),\n",
              " (-10.79496177525616, 'race new'),\n",
              " (-10.79496177525616, 'race new york'),\n",
              " (-10.79496177525616, 'raider'),\n",
              " (-10.79496177525616, 'ralli new'),\n",
              " (-10.79496177525616, 'ralli new york'),\n",
              " (-10.79496177525616, 'rampag'),\n",
              " (-10.79496177525616, 'rand'),\n",
              " (-10.79496177525616, 'rand paul'),\n",
              " (-10.79496177525616, 'rang'),\n",
              " (-10.79496177525616, 'rebuk'),\n",
              " (-10.79496177525616, 'recal'),\n",
              " (-10.79496177525616, 'redston'),\n",
              " (-10.79496177525616, 'regist'),\n",
              " (-10.79496177525616, 'rein'),\n",
              " (-10.79496177525616, 'reinc'),\n",
              " (-10.79496177525616, 'reinc priebu'),\n",
              " (-10.79496177525616, 'reinstat'),\n",
              " (-10.79496177525616, 'repeal breitbart'),\n",
              " (-10.79496177525616, 'repeat'),\n",
              " (-10.79496177525616, 'replac bill'),\n",
              " (-10.79496177525616, 'report breitbart'),\n",
              " (-10.79496177525616, 'report obama'),\n",
              " (-10.79496177525616, 'report say'),\n",
              " (-10.79496177525616, 'report say new'),\n",
              " (-10.79496177525616, 'report trump'),\n",
              " (-10.79496177525616, 'republican new'),\n",
              " (-10.79496177525616, 'republican new york'),\n",
              " (-10.79496177525616, 'reshap'),\n",
              " (-10.79496177525616, 'rethink'),\n",
              " (-10.79496177525616, 'rex'),\n",
              " (-10.79496177525616, 'rex tillerson'),\n",
              " (-10.79496177525616, 'rhetor'),\n",
              " (-10.79496177525616, 'rico'),\n",
              " (-10.79496177525616, 'right breitbart'),\n",
              " (-10.79496177525616, 'right new'),\n",
              " (-10.79496177525616, 'right new york'),\n",
              " (-10.79496177525616, 'rio'),\n",
              " (-10.79496177525616, 'rio olymp'),\n",
              " (-10.79496177525616, 'riot breitbart'),\n",
              " (-10.79496177525616, 'rodrigo'),\n",
              " (-10.79496177525616, 'rodrigo dutert'),\n",
              " (-10.79496177525616, 'roger ail'),\n",
              " (-10.79496177525616, 'roug'),\n",
              " (-10.79496177525616, 'rousseff'),\n",
              " (-10.79496177525616, 'rout'),\n",
              " (-10.79496177525616, 'rule breitbart'),\n",
              " (-10.79496177525616, 'rule new'),\n",
              " (-10.79496177525616, 'rule new york'),\n",
              " (-10.79496177525616, 'russia new york'),\n",
              " (-10.79496177525616, 'russia probe'),\n",
              " (-10.79496177525616, 'russian hack'),\n",
              " (-10.79496177525616, 'ryan locht'),\n",
              " (-10.79496177525616, 'ryan obamacar'),\n",
              " (-10.79496177525616, 'ryan obamacar lite'),\n",
              " (-10.79496177525616, 'ryancar'),\n",
              " (-10.79496177525616, 'san diego'),\n",
              " (-10.79496177525616, 'saturday'),\n",
              " (-10.79496177525616, 'saturday night'),\n",
              " (-10.79496177525616, 'saturday night live'),\n",
              " (-10.79496177525616, 'say new'),\n",
              " (-10.79496177525616, 'say new york'),\n",
              " (-10.79496177525616, 'scalis'),\n",
              " (-10.79496177525616, 'scandal new'),\n",
              " (-10.79496177525616, 'scandal new york'),\n",
              " (-10.79496177525616, 'school new'),\n",
              " (-10.79496177525616, 'school new york'),\n",
              " (-10.79496177525616, 'schumer'),\n",
              " (-10.79496177525616, 'schwarzenegg'),\n",
              " (-10.79496177525616, 'scott pruitt'),\n",
              " (-10.79496177525616, 'scrambl'),\n",
              " (-10.79496177525616, 'sea new'),\n",
              " (-10.79496177525616, 'sea new york'),\n",
              " (-10.79496177525616, 'sean spicer'),\n",
              " (-10.79496177525616, 'sear'),\n",
              " (-10.79496177525616, 'season new'),\n",
              " (-10.79496177525616, 'season new york'),\n",
              " (-10.79496177525616, 'secretari new'),\n",
              " (-10.79496177525616, 'secretari new york'),\n",
              " (-10.79496177525616, 'secur advis'),\n",
              " (-10.79496177525616, 'secur council'),\n",
              " (-10.79496177525616, 'self drive car'),\n",
              " (-10.79496177525616, 'senat breitbart'),\n",
              " (-10.79496177525616, 'senat confirm'),\n",
              " (-10.79496177525616, 'senat new'),\n",
              " (-10.79496177525616, 'senat new york'),\n",
              " (-10.79496177525616, 'serena'),\n",
              " (-10.79496177525616, 'settlement new'),\n",
              " (-10.79496177525616, 'settlement new york'),\n",
              " (-10.79496177525616, 'sex offend'),\n",
              " (-10.79496177525616, 'sexual abus'),\n",
              " (-10.79496177525616, 'sharia law'),\n",
              " (-10.79496177525616, 'sharp'),\n",
              " (-10.79496177525616, 'shift new'),\n",
              " (-10.79496177525616, 'shift new york'),\n",
              " (-10.79496177525616, 'shinzo'),\n",
              " (-10.79496177525616, 'shinzo abe'),\n",
              " (-10.79496177525616, 'shoot new'),\n",
              " (-10.79496177525616, 'shoot new york'),\n",
              " (-10.79496177525616, 'show new'),\n",
              " (-10.79496177525616, 'show new york'),\n",
              " (-10.79496177525616, 'skill'),\n",
              " (-10.79496177525616, 'skip'),\n",
              " (-10.79496177525616, 'smile'),\n",
              " (-10.79496177525616, 'smuggler'),\n",
              " (-10.79496177525616, 'somalia'),\n",
              " (-10.79496177525616, 'son law'),\n",
              " (-10.79496177525616, 'south carolina'),\n",
              " (-10.79496177525616, 'south korean'),\n",
              " (-10.79496177525616, 'spacex'),\n",
              " (-10.79496177525616, 'speaker paul'),\n",
              " (-10.79496177525616, 'speaker paul ryan'),\n",
              " (-10.79496177525616, 'specul'),\n",
              " (-10.79496177525616, 'speech breitbart'),\n",
              " (-10.79496177525616, 'speech new york'),\n",
              " (-10.79496177525616, 'spicer'),\n",
              " (-10.79496177525616, 'sport'),\n",
              " (-10.79496177525616, 'sport new'),\n",
              " (-10.79496177525616, 'sport new york'),\n",
              " (-10.79496177525616, 'spotlight'),\n",
              " (-10.79496177525616, 'stanc'),\n",
              " (-10.79496177525616, 'star new'),\n",
              " (-10.79496177525616, 'star new york'),\n",
              " (-10.79496177525616, 'start new'),\n",
              " (-10.79496177525616, 'start new york'),\n",
              " (-10.79496177525616, 'state breitbart'),\n",
              " (-10.79496177525616, 'state new'),\n",
              " (-10.79496177525616, 'state new york'),\n",
              " (-10.79496177525616, 'state warrior'),\n",
              " (-10.79496177525616, 'stem'),\n",
              " (-10.79496177525616, 'step new'),\n",
              " (-10.79496177525616, 'step new york'),\n",
              " (-10.79496177525616, 'stephen bannon'),\n",
              " (-10.79496177525616, 'stockholm'),\n",
              " (-10.79496177525616, 'stori new'),\n",
              " (-10.79496177525616, 'stori new york'),\n",
              " (-10.79496177525616, 'strand'),\n",
              " (-10.79496177525616, 'streep'),\n",
              " (-10.79496177525616, 'streisand'),\n",
              " (-10.79496177525616, 'student new'),\n",
              " (-10.79496177525616, 'student new york'),\n",
              " (-10.79496177525616, 'studi find new'),\n",
              " (-10.79496177525616, 'stumbl'),\n",
              " (-10.79496177525616, 'suburb'),\n",
              " (-10.79496177525616, 'subway'),\n",
              " (-10.79496177525616, 'suddenli'),\n",
              " (-10.79496177525616, 'sunday'),\n",
              " (-10.79496177525616, 'super bowl'),\n",
              " (-10.79496177525616, 'suprem court new'),\n",
              " (-10.79496177525616, 'swift'),\n",
              " (-10.79496177525616, 'swimmer'),\n",
              " (-10.79496177525616, 'syria new york'),\n",
              " (-10.79496177525616, 'taiwan'),\n",
              " (-10.79496177525616, 'takata'),\n",
              " (-10.79496177525616, 'takeaway'),\n",
              " (-10.79496177525616, 'taliban'),\n",
              " (-10.79496177525616, 'talk new'),\n",
              " (-10.79496177525616, 'talk new york'),\n",
              " (-10.79496177525616, 'tap'),\n",
              " (-10.79496177525616, 'tape new'),\n",
              " (-10.79496177525616, 'tape new york'),\n",
              " (-10.79496177525616, 'tax return'),\n",
              " (-10.79496177525616, 'team new'),\n",
              " (-10.79496177525616, 'team new york'),\n",
              " (-10.79496177525616, 'temporari'),\n",
              " (-10.79496177525616, 'term new'),\n",
              " (-10.79496177525616, 'term new york'),\n",
              " (-10.79496177525616, 'terror breitbart'),\n",
              " (-10.79496177525616, 'terror new'),\n",
              " (-10.79496177525616, 'test new york'),\n",
              " (-10.79496177525616, 'texa border'),\n",
              " (-10.79496177525616, 'theresa'),\n",
              " (-10.79496177525616, 'theresa may'),\n",
              " (-10.79496177525616, 'thing new'),\n",
              " (-10.79496177525616, 'thing new york'),\n",
              " (-10.79496177525616, 'thursday'),\n",
              " (-10.79496177525616, 'thursday even'),\n",
              " (-10.79496177525616, 'thursday even brief'),\n",
              " (-10.79496177525616, 'tie new'),\n",
              " (-10.79496177525616, 'tie new york'),\n",
              " (-10.79496177525616, 'tillerson'),\n",
              " (-10.79496177525616, 'time new'),\n",
              " (-10.79496177525616, 'time new york'),\n",
              " (-10.79496177525616, 'titl new'),\n",
              " (-10.79496177525616, 'titl new york'),\n",
              " (-10.79496177525616, 'todd'),\n",
              " (-10.79496177525616, 'toll'),\n",
              " (-10.79496177525616, 'tom bradi'),\n",
              " (-10.79496177525616, 'tone'),\n",
              " (-10.79496177525616, 'tough'),\n",
              " (-10.79496177525616, 'tourist'),\n",
              " (-10.79496177525616, 'town hall'),\n",
              " (-10.79496177525616, 'trailer breitbart'),\n",
              " (-10.79496177525616, 'tran'),\n",
              " (-10.79496177525616, 'travel ban'),\n",
              " (-10.79496177525616, 'trophi'),\n",
              " (-10.79496177525616, 'trove'),\n",
              " (-10.79496177525616, 'trudeau'),\n",
              " (-10.79496177525616, 'trump admin'),\n",
              " (-10.79496177525616, 'trump border'),\n",
              " (-10.79496177525616, 'trump breitbart'),\n",
              " (-10.79496177525616, 'trump budget'),\n",
              " (-10.79496177525616, 'trump choic'),\n",
              " (-10.79496177525616, 'trump could'),\n",
              " (-10.79496177525616, 'trump execut'),\n",
              " (-10.79496177525616, 'trump execut order'),\n",
              " (-10.79496177525616, 'trump fire'),\n",
              " (-10.79496177525616, 'trump first day'),\n",
              " (-10.79496177525616, 'trump go'),\n",
              " (-10.79496177525616, 'trump immigr'),\n",
              " (-10.79496177525616, 'trump immigr order'),\n",
              " (-10.79496177525616, 'trump keep'),\n",
              " (-10.79496177525616, 'trump may'),\n",
              " (-10.79496177525616, 'trump new york'),\n",
              " (-10.79496177525616, 'trump nomine'),\n",
              " (-10.79496177525616, 'trump order'),\n",
              " (-10.79496177525616, 'trump pari'),\n",
              " (-10.79496177525616, 'trump pick'),\n",
              " (-10.79496177525616, 'trump polici'),\n",
              " (-10.79496177525616, 'trump push'),\n",
              " (-10.79496177525616, 'trump remark'),\n",
              " (-10.79496177525616, 'trump talk'),\n",
              " (-10.79496177525616, 'trump threaten'),\n",
              " (-10.79496177525616, 'trump travel'),\n",
              " (-10.79496177525616, 'trump travel ban'),\n",
              " (-10.79496177525616, 'trump tri'),\n",
              " (-10.79496177525616, 'trump tweet'),\n",
              " (-10.79496177525616, 'trump visit'),\n",
              " (-10.79496177525616, 'trump vow'),\n",
              " (-10.79496177525616, 'trump wall'),\n",
              " (-10.79496177525616, 'trump women'),\n",
              " (-10.79496177525616, 'tuesday brief'),\n",
              " (-10.79496177525616, 'tuesday brief new'),\n",
              " (-10.79496177525616, 'tuesday even'),\n",
              " (-10.79496177525616, 'tuesday even brief'),\n",
              " (-10.79496177525616, 'turf'),\n",
              " (-10.79496177525616, 'turmoil'),\n",
              " (-10.79496177525616, 'twitter breitbart'),\n",
              " (-10.79496177525616, 'two year'),\n",
              " (-10.79496177525616, 'tyler'),\n",
              " (-10.79496177525616, 'uc davi'),\n",
              " (-10.79496177525616, 'unlik'),\n",
              " (-10.79496177525616, 'unmask'),\n",
              " (-10.79496177525616, 'upend'),\n",
              " (-10.79496177525616, 'uphold'),\n",
              " (-10.79496177525616, 'us new york'),\n",
              " (-10.79496177525616, 'vacat'),\n",
              " (-10.79496177525616, 'vacat new'),\n",
              " (-10.79496177525616, 'vacat new york'),\n",
              " (-10.79496177525616, 'vanish'),\n",
              " (-10.79496177525616, 'veto'),\n",
              " (-10.79496177525616, 'virgil'),\n",
              " (-10.79496177525616, 'vogu'),\n",
              " (-10.79496177525616, 'volkswagen'),\n",
              " (-10.79496177525616, 'vote new'),\n",
              " (-10.79496177525616, 'vote new york'),\n",
              " (-10.79496177525616, 'wait new'),\n",
              " (-10.79496177525616, 'wait new york'),\n",
              " (-10.79496177525616, 'wall breitbart'),\n",
              " (-10.79496177525616, 'walter'),\n",
              " (-10.79496177525616, 'want breitbart'),\n",
              " (-10.79496177525616, 'war new'),\n",
              " (-10.79496177525616, 'war new york'),\n",
              " (-10.79496177525616, 'wari'),\n",
              " (-10.79496177525616, 'warn new'),\n",
              " (-10.79496177525616, 'warn new york'),\n",
              " (-10.79496177525616, 'warner'),\n",
              " (-10.79496177525616, 'warrior'),\n",
              " (-10.79496177525616, 'washington new'),\n",
              " (-10.79496177525616, 'washington new york'),\n",
              " (-10.79496177525616, 'water new york'),\n",
              " (-10.79496177525616, 'way new'),\n",
              " (-10.79496177525616, 'way new york'),\n",
              " (-10.79496177525616, 'wednesday brief'),\n",
              " (-10.79496177525616, 'wednesday brief new'),\n",
              " (-10.79496177525616, 'wednesday even'),\n",
              " (-10.79496177525616, 'wednesday even brief'),\n",
              " (-10.79496177525616, 'week new'),\n",
              " (-10.79496177525616, 'week new york'),\n",
              " (-10.79496177525616, 'weekend brief'),\n",
              " (-10.79496177525616, 'weekend brief new'),\n",
              " (-10.79496177525616, 'weekend new'),\n",
              " (-10.79496177525616, 'weekend new york'),\n",
              " (-10.79496177525616, 'well fargo'),\n",
              " (-10.79496177525616, 'west bank'),\n",
              " (-10.79496177525616, 'westminst'),\n",
              " (-10.79496177525616, 'wh'),\n",
              " (-10.79496177525616, 'white hous breitbart'),\n",
              " (-10.79496177525616, 'white hous new'),\n",
              " (-10.79496177525616, 'white nationalist'),\n",
              " (-10.79496177525616, 'wider'),\n",
              " (-10.79496177525616, 'wield'),\n",
              " (-10.79496177525616, 'wildfir'),\n",
              " (-10.79496177525616, 'wimbledon'),\n",
              " (-10.79496177525616, 'win breitbart'),\n",
              " (-10.79496177525616, 'wiretap claim'),\n",
              " (-10.79496177525616, 'women march'),\n",
              " (-10.79496177525616, 'women new'),\n",
              " (-10.79496177525616, 'women new york'),\n",
              " (-10.79496177525616, 'word new'),\n",
              " (-10.79496177525616, 'word new york'),\n",
              " (-10.79496177525616, 'work new'),\n",
              " (-10.79496177525616, 'work new york'),\n",
              " (-10.79496177525616, 'workplac'),\n",
              " (-10.79496177525616, 'world new'),\n",
              " (-10.79496177525616, 'world new york'),\n",
              " (-10.79496177525616, 'worri new'),\n",
              " (-10.79496177525616, 'worri new york'),\n",
              " (-10.79496177525616, 'wrestl'),\n",
              " (-10.79496177525616, 'yahoo'),\n",
              " (-10.79496177525616, 'year breitbart'),\n",
              " (-10.79496177525616, 'year eve'),\n",
              " (-10.79496177525616, 'year new york'),\n",
              " (-10.79496177525616, 'york new'),\n",
              " (-10.79496177525616, 'york new york'),\n",
              " (-10.79496177525616, 'york state'),\n",
              " (-10.79496177525616, 'zone new'),\n",
              " (-10.79496177525616, 'zone new york'),\n",
              " (-10.79496177525616, 'zoo'),\n",
              " (-10.047747373425938, 'academi'),\n",
              " (-10.047747373425938, 'accid'),\n",
              " (-10.047747373425938, 'adopt'),\n",
              " (-10.047747373425938, 'afraid'),\n",
              " (-10.047747373425938, 'ahead trump'),\n",
              " (-10.047747373425938, 'airbnb'),\n",
              " (-10.047747373425938, 'airlin'),\n",
              " (-10.047747373425938, 'album'),\n",
              " (-10.047747373425938, 'alec'),\n",
              " (-10.047747373425938, 'alec baldwin'),\n",
              " (-10.047747373425938, 'alex jone'),\n",
              " (-10.047747373425938, 'allegedli'),\n",
              " (-10.047747373425938, 'allianc'),\n",
              " (-10.047747373425938, 'america new'),\n",
              " (-10.047747373425938, 'anchor'),\n",
              " (-10.047747373425938, 'anger'),\n",
              " (-10.047747373425938, 'announc plan'),\n",
              " (-10.047747373425938, 'anti israel'),\n",
              " (-10.047747373425938, 'anti semit'),\n",
              " (-10.047747373425938, 'anymor'),\n",
              " (-10.047747373425938, 'applic'),\n",
              " (-10.047747373425938, 'approach'),\n",
              " (-10.047747373425938, 'appropri'),\n",
              " (-10.047747373425938, 'around world'),\n",
              " (-10.047747373425938, 'artifici'),\n",
              " (-10.047747373425938, 'asteroid'),\n",
              " (-10.047747373425938, 'asylum seeker'),\n",
              " (-10.047747373425938, 'atlant'),\n",
              " (-10.047747373425938, 'attack trump'),\n",
              " (-10.047747373425938, 'auto'),\n",
              " (-10.047747373425938, 'aviv'),\n",
              " (-10.047747373425938, 'back trump'),\n",
              " (-10.047747373425938, 'baghdad'),\n",
              " (-10.047747373425938, 'band'),\n",
              " (-10.047747373425938, 'barrier'),\n",
              " (-10.047747373425938, 'barron'),\n",
              " (-10.047747373425938, 'beach'),\n",
              " (-10.047747373425938, 'beer'),\n",
              " (-10.047747373425938, 'behead'),\n",
              " (-10.047747373425938, 'beij'),\n",
              " (-10.047747373425938, 'ben'),\n",
              " (-10.047747373425938, 'berlin'),\n",
              " (-10.047747373425938, 'bet'),\n",
              " (-10.047747373425938, 'beyonc'),\n",
              " (-10.047747373425938, 'bill cosbi'),\n",
              " (-10.047747373425938, 'bitter'),\n",
              " (-10.047747373425938, 'blasio'),\n",
              " (-10.047747373425938, 'block trump'),\n",
              " (-10.047747373425938, 'boat'),\n",
              " (-10.047747373425938, 'boe'),\n",
              " (-10.047747373425938, 'boko'),\n",
              " (-10.047747373425938, 'boko haram'),\n",
              " (-10.047747373425938, 'bolton'),\n",
              " (-10.047747373425938, 'bomber'),\n",
              " (-10.047747373425938, 'bori'),\n",
              " (-10.047747373425938, 'boss'),\n",
              " (-10.047747373425938, 'bow'),\n",
              " (-10.047747373425938, 'branch'),\n",
              " (-10.047747373425938, 'breach'),\n",
              " (-10.047747373425938, 'breitbart news'),\n",
              " (-10.047747373425938, 'bribe'),\n",
              " (-10.047747373425938, 'brought'),\n",
              " (-10.047747373425938, 'buck'),\n",
              " (-10.047747373425938, 'built'),\n",
              " (-10.047747373425938, 'bull'),\n",
              " (-10.047747373425938, 'buri'),\n",
              " (-10.047747373425938, 'buzz'),\n",
              " (-10.047747373425938, 'ca'),\n",
              " ...]"
            ]
          },
          "metadata": {
            "tags": []
          },
          "execution_count": 45
        }
      ]
    },
    {
      "cell_type": "code",
      "metadata": {
        "id": "j_2m1BqEm-Pp"
      },
      "source": [
        ""
      ],
      "execution_count": null,
      "outputs": []
    }
  ]
}